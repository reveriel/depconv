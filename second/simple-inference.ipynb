{
 "cells": [
  {
   "cell_type": "code",
   "execution_count": 1,
   "metadata": {},
   "outputs": [],
   "source": [
    "%load_ext autoreload\n",
    "%autoreload 2\n",
    "%matplotlib inline\n",
    "import numpy as np\n",
    "import matplotlib.pyplot as plt\n",
    "import pickle\n",
    "from pathlib import Path"
   ]
  },
  {
   "cell_type": "code",
   "execution_count": 2,
   "metadata": {},
   "outputs": [],
   "source": [
    "import torch\n",
    "import torch.nn.functional as F\n",
    "from google.protobuf import text_format\n",
    "from second.utils import simplevis\n",
    "from second.pytorch.train import build_network\n",
    "from second.protos import pipeline_pb2\n",
    "from second.utils import config_tool\n",
    "from second.pytorch.builder import (box_coder_builder, input_reader_builder,\n",
    "                                    lr_scheduler_builder, optimizer_builder,\n",
    "                                    second_builder)\n",
    "from second.data.preprocess import merge_second_batch, merge_second_batch_multigpu\n",
    "from second.pytorch.train import _worker_init_fn\n",
    "\n",
    "from second.pytorch.train import example_convert_to_torch\n",
    "\n",
    "from second.sphere.conv import init_depth_from_feature, depth_to_3D\n"
   ]
  },
  {
   "cell_type": "markdown",
   "metadata": {},
   "source": [
    "## Read Config file"
   ]
  },
  {
   "cell_type": "code",
   "execution_count": 3,
   "metadata": {},
   "outputs": [],
   "source": [
    "# config_path = \"/home/yy/deeplearning/deeplearning/mypackages/second/configs/car.lite.nb.config\"\n",
    "config_path = \"/home/gx/GitHub/depconv/second/configs/car.fhd.config\"\n",
    "config = pipeline_pb2.TrainEvalPipelineConfig()\n",
    "with open(config_path, \"r\") as f:\n",
    "    proto_str = f.read()\n",
    "    text_format.Merge(proto_str, config)\n",
    "input_cfg = config.train_input_reader\n",
    "model_cfg = config.model.second\n",
    "# config_tool.change_detection_range(model_cfg, [-50, -50, 50, 50])\n",
    "device = torch.device(\"cuda\" if torch.cuda.is_available() else \"cpu\")\n",
    "# device = torch.device(\"cpu\")\n"
   ]
  },
  {
   "cell_type": "markdown",
   "metadata": {},
   "source": [
    "## Build Network, Target Assigner and Voxel Generator"
   ]
  },
  {
   "cell_type": "code",
   "execution_count": 4,
   "metadata": {},
   "outputs": [
    {
     "name": "stdout",
     "output_type": "stream",
     "text": [
      "dense_shape =  [1, 63, 512, 512, 16]\n",
      "[ 64 512 512]\n",
      "rpn debug, final_num_filters =  192\n",
      "rpn debug, num_cls =  2\n",
      "rpn debug, num_anchor_per_loc =  2\n",
      "feautres size [1, 64, 64]\n",
      "res = (1, 64, 64, 1, 2, 7)\n",
      "feautres size [1, 64, 64]\n",
      "res = (1, 64, 64, 1, 2, 7)\n",
      "remain number of infos: 3712\n"
     ]
    }
   ],
   "source": [
    "ckpt_path = \"/home/gx/GitHub/depconv/second/depconv27/voxelnet-102080.tckpt\"\n",
    "net = build_network(model_cfg).to(device).eval()\n",
    "net.load_state_dict(torch.load(ckpt_path))\n",
    "target_assigner = net.target_assigner\n",
    "voxel_generator = net.voxel_generator\n",
    "\n",
    "dataset = input_reader_builder.build(\n",
    "    input_cfg,\n",
    "    model_cfg,\n",
    "    training=True,\n",
    "    voxel_generator=voxel_generator,\n",
    "    target_assigner=target_assigner,\n",
    "    multi_gpu=False)\n",
    "\n",
    "num_gpu=1\n",
    "collate_fn= merge_second_batch\n",
    "multi_gpu = False\n",
    "dataloader = torch.utils.data.DataLoader(\n",
    "        dataset,\n",
    "        batch_size=input_cfg.batch_size * num_gpu,\n",
    "        shuffle=True,\n",
    "#         num_workers=input_cfg.preprocess.num_workers * num_gpu,\n",
    "        num_workers=1,\n",
    "        pin_memory=False,\n",
    "        collate_fn=collate_fn,\n",
    "        worker_init_fn=_worker_init_fn,\n",
    "        drop_last=not multi_gpu)"
   ]
  },
  {
   "cell_type": "markdown",
   "metadata": {},
   "source": [
    "## Generate Anchors"
   ]
  },
  {
   "cell_type": "code",
   "execution_count": 5,
   "metadata": {},
   "outputs": [
    {
     "name": "stdout",
     "output_type": "stream",
     "text": [
      "feautres size [1, 64, 64]\n",
      "res = (1, 64, 64, 1, 2, 7)\n"
     ]
    }
   ],
   "source": [
    "grid_size = voxel_generator.grid_size\n",
    "feature_map_size = grid_size[:2] // config_tool.get_downsample_factor(model_cfg)\n",
    "feature_map_size = [*feature_map_size, 1][::-1]\n",
    "\n",
    "anchors = target_assigner.generate_anchors(feature_map_size)[\"anchors\"]\n",
    "anchors = torch.tensor(anchors, dtype=torch.float32, device=device)\n",
    "anchors = anchors.view(1, -1, 7)"
   ]
  },
  {
   "cell_type": "markdown",
   "metadata": {},
   "source": [
    "## Read KITTI infos\n",
    "you can load your custom point cloud."
   ]
  },
  {
   "cell_type": "code",
   "execution_count": 6,
   "metadata": {},
   "outputs": [],
   "source": [
    "info_path = input_cfg.dataset.kitti_info_path\n",
    "root_path = Path(input_cfg.dataset.kitti_root_path)\n",
    "with open(info_path, 'rb') as f:\n",
    "    infos = pickle.load(f)"
   ]
  },
  {
   "cell_type": "markdown",
   "metadata": {},
   "source": [
    "## Load Point Cloud, Generate Voxels"
   ]
  },
  {
   "cell_type": "code",
   "execution_count": 7,
   "metadata": {},
   "outputs": [],
   "source": [
    "info = infos[564]\n",
    "v_path = info[\"point_cloud\"]['velodyne_path']\n",
    "v_path = str(root_path / v_path)\n",
    "points = np.fromfile(\n",
    "    v_path, dtype=np.float32, count=-1).reshape([-1, 4])\n",
    "# voxels, coords, num_points = voxel_generator.generate(points, max_voxels=90000)\n",
    "# print(voxels.shape)\n",
    "# add batch idx to coords\n",
    "# coords = np.pad(coords, ((0, 0), (1, 0)), mode='constant', constant_values=0)\n",
    "# voxels = torch.tensor(voxels, dtype=torch.float32, device=device)\n",
    "# coords = torch.tensor(coords, dtype=torch.int32, device=device)\n",
    "# num_points = torch.tensor(num_points, dtype=torch.int32, device=device)"
   ]
  },
  {
   "cell_type": "code",
   "execution_count": null,
   "metadata": {},
   "outputs": [],
   "source": []
  },
  {
   "cell_type": "markdown",
   "metadata": {},
   "source": [
    "## Detection"
   ]
  },
  {
   "cell_type": "code",
   "execution_count": 8,
   "metadata": {},
   "outputs": [
    {
     "name": "stdout",
     "output_type": "stream",
     "text": [
      "WORKER 0 seed: 1589457963\n"
     ]
    },
    {
     "name": "stderr",
     "output_type": "stream",
     "text": [
      "/home/gx/GitHub/depconv/second/core/geometry.py:272: NumbaWarning: \n",
      "Compilation is falling back to object mode WITH looplifting enabled because Function \"points_in_convex_polygon_jit\" failed type inference due to: Invalid use of Function(<built-in function getitem>) with argument(s) of type(s): (array(float32, 3d, C), Tuple(slice<a:b>, list(int64), slice<a:b>))\n",
      " * parameterized\n",
      "In definition 0:\n",
      "    All templates rejected with literals.\n",
      "In definition 1:\n",
      "    All templates rejected without literals.\n",
      "In definition 2:\n",
      "    All templates rejected with literals.\n",
      "In definition 3:\n",
      "    All templates rejected without literals.\n",
      "In definition 4:\n",
      "    All templates rejected with literals.\n",
      "In definition 5:\n",
      "    All templates rejected without literals.\n",
      "In definition 6:\n",
      "    All templates rejected with literals.\n",
      "In definition 7:\n",
      "    All templates rejected without literals.\n",
      "In definition 8:\n",
      "    All templates rejected with literals.\n",
      "In definition 9:\n",
      "    All templates rejected without literals.\n",
      "In definition 10:\n",
      "    All templates rejected with literals.\n",
      "In definition 11:\n",
      "    All templates rejected without literals.\n",
      "In definition 12:\n",
      "    TypeError: unsupported array index type list(int64) in Tuple(slice<a:b>, list(int64), slice<a:b>)\n",
      "    raised from /home/user/anaconda3/envs/depconv/lib/python3.7/site-packages/numba/core/typing/arraydecl.py:69\n",
      "In definition 13:\n",
      "    TypeError: unsupported array index type list(int64) in Tuple(slice<a:b>, list(int64), slice<a:b>)\n",
      "    raised from /home/user/anaconda3/envs/depconv/lib/python3.7/site-packages/numba/core/typing/arraydecl.py:69\n",
      "In definition 14:\n",
      "    All templates rejected with literals.\n",
      "In definition 15:\n",
      "    All templates rejected without literals.\n",
      "This error is usually caused by passing an argument of a type that is unsupported by the named function.\n",
      "[1] During: typing of intrinsic-call at /home/gx/GitHub/depconv/second/core/geometry.py (288)\n",
      "\n",
      "File \"core/geometry.py\", line 288:\n",
      "def points_in_convex_polygon_jit(points, polygon, clockwise=True):\n",
      "    <source elided>\n",
      "        vec1 = polygon - polygon[:, [num_points_of_polygon - 1] +\n",
      "                                 list(range(num_points_of_polygon - 1)), :]\n",
      "                                 ^\n",
      "\n",
      "  @numba.jit\n",
      "/home/gx/GitHub/depconv/second/core/geometry.py:272: NumbaWarning: \n",
      "Compilation is falling back to object mode WITHOUT looplifting enabled because Function \"points_in_convex_polygon_jit\" failed type inference due to: cannot determine Numba type of <class 'numba.core.dispatcher.LiftedLoop'>\n",
      "\n",
      "File \"core/geometry.py\", line 296:\n",
      "def points_in_convex_polygon_jit(points, polygon, clockwise=True):\n",
      "    <source elided>\n",
      "    cross = 0.0\n",
      "    for i in range(num_points):\n",
      "    ^\n",
      "\n",
      "  @numba.jit\n",
      "/home/user/anaconda3/envs/depconv/lib/python3.7/site-packages/numba/core/object_mode_passes.py:178: NumbaWarning: Function \"points_in_convex_polygon_jit\" was compiled in object mode without forceobj=True, but has lifted loops.\n",
      "\n",
      "File \"core/geometry.py\", line 283:\n",
      "def points_in_convex_polygon_jit(points, polygon, clockwise=True):\n",
      "    <source elided>\n",
      "    # first convert polygon to directed lines\n",
      "    num_points_of_polygon = polygon.shape[1]\n",
      "    ^\n",
      "\n",
      "  state.func_ir.loc))\n",
      "/home/user/anaconda3/envs/depconv/lib/python3.7/site-packages/numba/core/object_mode_passes.py:188: NumbaDeprecationWarning: \n",
      "Fall-back from the nopython compilation path to the object mode compilation path has been detected, this is deprecated behaviour.\n",
      "\n",
      "For more information visit http://numba.pydata.org/numba-doc/latest/reference/deprecation.html#deprecation-of-object-mode-fall-back-behaviour-when-using-jit\n",
      "\n",
      "File \"core/geometry.py\", line 283:\n",
      "def points_in_convex_polygon_jit(points, polygon, clockwise=True):\n",
      "    <source elided>\n",
      "    # first convert polygon to directed lines\n",
      "    num_points_of_polygon = polygon.shape[1]\n",
      "    ^\n",
      "\n",
      "  state.func_ir.loc))\n"
     ]
    },
    {
     "name": "stdout",
     "output_type": "stream",
     "text": [
      "2 sum voxels =  [[251965.27   13955.18  -12797.165   5706.402]]\n",
      "sum voxels =  [[251965.27   13955.18  -12797.165   5706.402]]\n",
      "2 sum voxels =  [[346832.06    4489.42  -20966.7     3870.205]]\n",
      "sum voxels =  [[346832.06    4489.42  -20966.7     3870.205]]\n",
      "2 sum voxels =  [[269701.84    -6122.288  -13873.061    4260.0654]]\n",
      "sum voxels =  [[269701.84    -6122.288  -13873.061    4260.0654]]\n"
     ]
    },
    {
     "name": "stderr",
     "output_type": "stream",
     "text": [
      "/home/gx/GitHub/depconv/second/core/geometry.py:272: NumbaWarning: \n",
      "Compilation is falling back to object mode WITH looplifting enabled because Function \"points_in_convex_polygon_jit\" failed type inference due to: Invalid use of Function(<built-in function getitem>) with argument(s) of type(s): (array(float32, 3d, C), Tuple(slice<a:b>, list(int64), slice<a:b>))\n",
      " * parameterized\n",
      "In definition 0:\n",
      "    All templates rejected with literals.\n",
      "In definition 1:\n",
      "    All templates rejected without literals.\n",
      "In definition 2:\n",
      "    All templates rejected with literals.\n",
      "In definition 3:\n",
      "    All templates rejected without literals.\n",
      "In definition 4:\n",
      "    All templates rejected with literals.\n",
      "In definition 5:\n",
      "    All templates rejected without literals.\n",
      "In definition 6:\n",
      "    All templates rejected with literals.\n",
      "In definition 7:\n",
      "    All templates rejected without literals.\n",
      "In definition 8:\n",
      "    All templates rejected with literals.\n",
      "In definition 9:\n",
      "    All templates rejected without literals.\n",
      "In definition 10:\n",
      "    All templates rejected with literals.\n",
      "In definition 11:\n",
      "    All templates rejected without literals.\n",
      "In definition 12:\n",
      "    TypeError: unsupported array index type list(int64) in Tuple(slice<a:b>, list(int64), slice<a:b>)\n",
      "    raised from /home/user/anaconda3/envs/depconv/lib/python3.7/site-packages/numba/core/typing/arraydecl.py:69\n",
      "In definition 13:\n",
      "    TypeError: unsupported array index type list(int64) in Tuple(slice<a:b>, list(int64), slice<a:b>)\n",
      "    raised from /home/user/anaconda3/envs/depconv/lib/python3.7/site-packages/numba/core/typing/arraydecl.py:69\n",
      "In definition 14:\n",
      "    All templates rejected with literals.\n",
      "In definition 15:\n",
      "    All templates rejected without literals.\n",
      "This error is usually caused by passing an argument of a type that is unsupported by the named function.\n",
      "[1] During: typing of intrinsic-call at /home/gx/GitHub/depconv/second/core/geometry.py (288)\n",
      "\n",
      "File \"core/geometry.py\", line 288:\n",
      "def points_in_convex_polygon_jit(points, polygon, clockwise=True):\n",
      "    <source elided>\n",
      "        vec1 = polygon - polygon[:, [num_points_of_polygon - 1] +\n",
      "                                 list(range(num_points_of_polygon - 1)), :]\n",
      "                                 ^\n",
      "\n",
      "  @numba.jit\n",
      "/home/gx/GitHub/depconv/second/core/geometry.py:272: NumbaWarning: \n",
      "Compilation is falling back to object mode WITHOUT looplifting enabled because Function \"points_in_convex_polygon_jit\" failed type inference due to: cannot determine Numba type of <class 'numba.core.dispatcher.LiftedLoop'>\n",
      "\n",
      "File \"core/geometry.py\", line 296:\n",
      "def points_in_convex_polygon_jit(points, polygon, clockwise=True):\n",
      "    <source elided>\n",
      "    cross = 0.0\n",
      "    for i in range(num_points):\n",
      "    ^\n",
      "\n",
      "  @numba.jit\n",
      "/home/user/anaconda3/envs/depconv/lib/python3.7/site-packages/numba/core/object_mode_passes.py:178: NumbaWarning: Function \"points_in_convex_polygon_jit\" was compiled in object mode without forceobj=True, but has lifted loops.\n",
      "\n",
      "File \"core/geometry.py\", line 283:\n",
      "def points_in_convex_polygon_jit(points, polygon, clockwise=True):\n",
      "    <source elided>\n",
      "    # first convert polygon to directed lines\n",
      "    num_points_of_polygon = polygon.shape[1]\n",
      "    ^\n",
      "\n",
      "  state.func_ir.loc))\n",
      "/home/user/anaconda3/envs/depconv/lib/python3.7/site-packages/numba/core/object_mode_passes.py:188: NumbaDeprecationWarning: \n",
      "Fall-back from the nopython compilation path to the object mode compilation path has been detected, this is deprecated behaviour.\n",
      "\n",
      "For more information visit http://numba.pydata.org/numba-doc/latest/reference/deprecation.html#deprecation-of-object-mode-fall-back-behaviour-when-using-jit\n",
      "\n",
      "File \"core/geometry.py\", line 283:\n",
      "def points_in_convex_polygon_jit(points, polygon, clockwise=True):\n",
      "    <source elided>\n",
      "    # first convert polygon to directed lines\n",
      "    num_points_of_polygon = polygon.shape[1]\n",
      "    ^\n",
      "\n",
      "  state.func_ir.loc))\n"
     ]
    },
    {
     "name": "stdout",
     "output_type": "stream",
     "text": [
      "2 sum voxels =  [[318115.53    20189.64   -17351.898    4238.6377]]\n",
      "sum voxels =  [[318115.53    20189.64   -17351.898    4238.6377]]\n",
      "2 sum voxels =  [[279528.6    -7843.112 -18000.15    5074.903]]\n",
      "sum voxels =  [[279528.6    -7843.112 -18000.15    5074.903]]\n",
      "2 sum voxels =  [[241436.8    -7316.172 -15898.503   3533.224]]\n",
      "sum voxels =  [[241436.8    -7316.172 -15898.503   3533.224]]\n",
      "2 sum voxels =  [[337778.4     30263.523  -17433.203    3110.6428]]\n",
      "sum voxels =  [[337778.4     30263.523  -17433.203    3110.6428]]\n",
      "2 sum voxels =  [[276664.7     32514.688  -16093.437    3709.2566]]\n",
      "sum voxels =  [[276664.7     32514.688  -16093.437    3709.2566]]\n",
      "2 sum voxels =  [[326891.66     7750.4614 -23172.104    3829.583 ]]\n",
      "sum voxels =  [[326891.66     7750.4614 -23172.104    3829.583 ]]\n",
      "2 sum voxels =  [[315596.34     2176.702  -19745.707    3739.2527]]\n",
      "sum voxels =  [[315596.34     2176.702  -19745.707    3739.2527]]\n",
      "2 sum voxels =  [[336972.25   -17630.14   -19683.564    3409.5364]]\n",
      "sum voxels =  [[336972.25   -17630.14   -19683.564    3409.5364]]\n",
      "2 sum voxels =  [[282843.72     5352.4966 -19659.633    2970.8035]]\n",
      "sum voxels =  [[282843.72     5352.4966 -19659.633    2970.8035]]\n",
      "2 sum voxels =  [[292984.47     3478.6565 -18154.46     3828.8313]]\n",
      "sum voxels =  [[292984.47     3478.6565 -18154.46     3828.8313]]\n",
      "2 sum voxels =  [[270247.75    36639.895  -16017.615    3521.9238]]\n",
      "sum voxels =  [[270247.75    36639.895  -16017.615    3521.9238]]\n",
      "2 sum voxels =  [[216031.25   -20503.584  -13787.918    5124.3105]]\n",
      "sum voxels =  [[216031.25   -20503.584  -13787.918    5124.3105]]\n",
      "2 sum voxels =  [[294163.56    21114.158  -18461.322    5436.5303]]\n",
      "sum voxels =  [[294163.56    21114.158  -18461.322    5436.5303]]\n",
      "2 sum voxels =  [[374273.03    -3660.6738 -22032.193    3531.7578]]\n",
      "sum voxels =  [[374273.03    -3660.6738 -22032.193    3531.7578]]\n",
      "2 sum voxels =  [[322490.34   13631.998 -18615.68    4606.676]]\n",
      "sum voxels =  [[322490.34   13631.998 -18615.68    4606.676]]\n",
      "2 sum voxels =  [[260393.19    8819.361 -17581.549   4280.665]]\n",
      "sum voxels =  [[260393.19    8819.361 -17581.549   4280.665]]\n",
      "2 sum voxels =  [[293396.56   -4808.477 -20342.092   4177.919]]\n",
      "sum voxels =  [[293396.56   -4808.477 -20342.092   4177.919]]\n",
      "2 sum voxels =  [[293996.53    -1951.4829 -21296.361    2865.4377]]\n",
      "sum voxels =  [[293996.53    -1951.4829 -21296.361    2865.4377]]\n",
      "2 sum voxels =  [[311589.6     21536.914  -19272.264    3997.8657]]\n",
      "sum voxels =  [[311589.6     21536.914  -19272.264    3997.8657]]\n",
      "2 sum voxels =  [[195334.19    -2980.7234 -11302.303    3015.0447]]\n",
      "sum voxels =  [[195334.19    -2980.7234 -11302.303    3015.0447]]\n",
      "2 sum voxels =  [[312830.2      2088.0625 -19595.424    3614.5762]]\n",
      "sum voxels =  [[312830.2      2088.0625 -19595.424    3614.5762]]\n",
      "2 sum voxels =  [[270619.66      982.7922 -15577.369    3818.5942]]\n",
      "sum voxels =  [[270619.66      982.7922 -15577.369    3818.5942]]\n",
      "2 sum voxels =  [[344624.38   11600.941 -19278.203   4375.946]]\n",
      "sum voxels =  [[344624.38   11600.941 -19278.203   4375.946]]\n",
      "2 sum voxels =  [[215715.66     5025.0967 -15625.322    5189.937 ]]\n",
      "sum voxels =  [[215715.66     5025.0967 -15625.322    5189.937 ]]\n",
      "2 sum voxels =  [[290485.8      1557.6667 -17406.506    3286.771 ]]\n",
      "sum voxels =  [[290485.8      1557.6667 -17406.506    3286.771 ]]\n",
      "2 sum voxels =  [[232244.44     5756.5986 -13938.17     4589.4116]]\n",
      "sum voxels =  [[232244.44     5756.5986 -13938.17     4589.4116]]\n",
      "2 sum voxels =  [[249946.97     7604.321  -16632.684    5541.5537]]\n",
      "sum voxels =  [[249946.97     7604.321  -16632.684    5541.5537]]\n",
      "2 sum voxels =  [[243546.31   -6108.88  -16149.202   2916.572]]\n",
      "sum voxels =  [[243546.31   -6108.88  -16149.202   2916.572]]\n",
      "2 sum voxels =  [[280460.47    -4277.751  -17134.383    3841.8623]]\n",
      "sum voxels =  [[280460.47    -4277.751  -17134.383    3841.8623]]\n",
      "2 sum voxels =  [[306346.47     -827.8914 -15363.316    4126.1943]]\n",
      "sum voxels =  [[306346.47     -827.8914 -15363.316    4126.1943]]\n",
      "2 sum voxels =  [[320126.16    -3871.3623 -20140.967    3984.104 ]]\n",
      "sum voxels =  [[320126.16    -3871.3623 -20140.967    3984.104 ]]\n",
      "2 sum voxels =  [[335976.06    22529.62   -19082.639    4008.2668]]\n",
      "sum voxels =  [[335976.06    22529.62   -19082.639    4008.2668]]\n",
      "2 sum voxels =  [[331502.3    15586.799 -19869.168   4259.544]]\n",
      "sum voxels =  [[331502.3    15586.799 -19869.168   4259.544]]\n",
      "2 sum voxels =  [[244403.48  -18687.617 -12909.604   4055.214]]\n",
      "sum voxels =  [[244403.48  -18687.617 -12909.604   4055.214]]\n",
      "2 sum voxels =  [[345530.56     6276.3413 -21020.076    3722.0728]]\n",
      "sum voxels =  [[345530.56     6276.3413 -21020.076    3722.0728]]\n",
      "2 sum voxels =  [[325069.25     9494.848  -20199.934    4091.1348]]\n",
      "sum voxels =  [[325069.25     9494.848  -20199.934    4091.1348]]\n",
      "2 sum voxels =  [[269662.9     5593.745 -18520.191   3855.8  ]]\n",
      "sum voxels =  [[269662.9     5593.745 -18520.191   3855.8  ]]\n",
      "2 sum voxels =  [[322158.6     20132.682  -17108.424    3703.2705]]\n",
      "sum voxels =  [[322158.6     20132.682  -17108.424    3703.2705]]\n",
      "2 sum voxels =  [[223773.73       355.22794 -13959.923     3748.9277 ]]\n",
      "sum voxels =  [[223773.73       355.22794 -13959.923     3748.9277 ]]\n",
      "2 sum voxels =  [[241671.8     17863.322  -12548.575    2638.2751]]\n",
      "sum voxels =  [[241671.8     17863.322  -12548.575    2638.2751]]\n",
      "2 sum voxels =  [[324729.22       654.39136 -17245.871     4460.2734 ]]\n",
      "sum voxels =  [[324729.22       654.39136 -17245.871     4460.2734 ]]\n",
      "2 sum voxels =  [[272666.03    15957.334  -18118.852    3649.2969]]\n",
      "sum voxels =  [[272666.03    15957.334  -18118.852    3649.2969]]\n",
      "2 sum voxels =  [[215134.12     3847.7092 -15648.6      5183.0327]]\n",
      "sum voxels =  [[215134.12     3847.7092 -15648.6      5183.0327]]\n",
      "2 sum voxels =  [[247149.78      -668.52124 -14756.117     4039.1396 ]]\n",
      "sum voxels =  [[247149.78      -668.52124 -14756.117     4039.1396 ]]\n",
      "2 sum voxels =  [[319997.5     -6167.2583 -19774.094    3692.8591]]\n",
      "sum voxels =  [[319997.5     -6167.2583 -19774.094    3692.8591]]\n"
     ]
    }
   ],
   "source": [
    "# example = {\n",
    "#     \"anchors\": anchors,\n",
    "#     \"voxels\": voxels,\n",
    "#     \"num_points\": num_points,\n",
    "#     \"coordinates\": coords,\n",
    "# }\n",
    "# pred = net(example)[0]\n",
    "examples = []\n",
    "loop_i = 0\n",
    "for example in dataloader:\n",
    "    loop_i += 1\n",
    "    if loop_i > 10:\n",
    "        break\n",
    "    examples.append(example)\n",
    "#     print(example)\n",
    "\n"
   ]
  },
  {
   "cell_type": "code",
   "execution_count": 9,
   "metadata": {},
   "outputs": [
    {
     "data": {
      "text/plain": [
       "(66309, 1, 4)"
      ]
     },
     "execution_count": 9,
     "metadata": {},
     "output_type": "execute_result"
    }
   ],
   "source": [
    "examples[1]['voxels'].shape"
   ]
  },
  {
   "cell_type": "code",
   "execution_count": 10,
   "metadata": {},
   "outputs": [
    {
     "data": {
      "text/plain": [
       "[<matplotlib.lines.Line2D at 0x7ffa98823c50>]"
      ]
     },
     "execution_count": 10,
     "metadata": {},
     "output_type": "execute_result"
    },
    {
     "data": {
      "image/png": "[encoded data removed]",
      "text/plain": [
       "<Figure size 432x288 with 1 Axes>"
      ]
     },
     "metadata": {
      "needs_background": "light"
     },
     "output_type": "display_data"
    }
   ],
   "source": [
    "plt.plot(examples[4]['coordinates'][:,1])"
   ]
  },
  {
   "cell_type": "code",
   "execution_count": 11,
   "metadata": {},
   "outputs": [
    {
     "data": {
      "text/plain": [
       "dict_keys(['points', 'voxels', 'num_points', 'coordinates', 'num_voxels', 'metrics', 'calib', 'anchors', 'gt_names', 'labels', 'reg_targets', 'importance', 'metadata'])"
      ]
     },
     "execution_count": 11,
     "metadata": {},
     "output_type": "execute_result"
    }
   ],
   "source": [
    "example.keys()"
   ]
  },
  {
   "cell_type": "code",
   "execution_count": 12,
   "metadata": {},
   "outputs": [
    {
     "data": {
      "text/plain": [
       "[<matplotlib.lines.Line2D at 0x7ffa8cfae410>]"
      ]
     },
     "execution_count": 12,
     "metadata": {},
     "output_type": "execute_result"
    },
    {
     "data": {
      "image/png": "[encoded data removed]",
      "text/plain": [
       "<Figure size 432x288 with 1 Axes>"
      ]
     },
     "metadata": {
      "needs_background": "light"
     },
     "output_type": "display_data"
    }
   ],
   "source": [
    "plt.plot(examples[0]['coordinates'][:,2])"
   ]
  },
  {
   "cell_type": "code",
   "execution_count": 13,
   "metadata": {},
   "outputs": [
    {
     "data": {
      "text/plain": [
       "[<matplotlib.lines.Line2D at 0x7ffa8c3e4190>]"
      ]
     },
     "execution_count": 13,
     "metadata": {},
     "output_type": "execute_result"
    },
    {
     "data": {
      "image/png": "[encoded data removed]",
      "text/plain": [
       "<Figure size 432x288 with 1 Axes>"
      ]
     },
     "metadata": {
      "needs_background": "light"
     },
     "output_type": "display_data"
    }
   ],
   "source": [
    "plt.plot(examples[0]['coordinates'][:,3])"
   ]
  },
  {
   "cell_type": "code",
   "execution_count": 14,
   "metadata": {},
   "outputs": [
    {
     "data": {
      "text/plain": [
       "array([10.33 , -5.749,  0.533,  0.32 ], dtype=float32)"
      ]
     },
     "execution_count": 14,
     "metadata": {},
     "output_type": "execute_result"
    }
   ],
   "source": [
    "sum(examples[0]['voxels'][ 615\n",
    "                        ])\n"
   ]
  },
  {
   "cell_type": "code",
   "execution_count": 15,
   "metadata": {},
   "outputs": [
    {
     "name": "stdout",
     "output_type": "stream",
     "text": [
      "voxel_features shape:  torch.Size([63721, 4])\n",
      "sparse_shape : [ 64 512 512]\n",
      "NCDHW =  4 64 3 64 64\n"
     ]
    }
   ],
   "source": [
    "example = examples[5]\n",
    "example = example_convert_to_torch(example, torch.float32)\n",
    "\n",
    "with torch.no_grad():\n",
    "    pred = net(example)\n"
   ]
  },
  {
   "cell_type": "code",
   "execution_count": 16,
   "metadata": {},
   "outputs": [
    {
     "data": {
      "text/plain": [
       "tensor([], device='cuda:0', size=(0, 7))"
      ]
     },
     "execution_count": 16,
     "metadata": {},
     "output_type": "execute_result"
    }
   ],
   "source": [
    "pred[3]['box3d_lidar']"
   ]
  },
  {
   "cell_type": "code",
   "execution_count": 17,
   "metadata": {},
   "outputs": [
    {
     "data": {
      "text/plain": [
       "torch.Size([4, 8192, 7])"
      ]
     },
     "execution_count": 17,
     "metadata": {},
     "output_type": "execute_result"
    }
   ],
   "source": [
    "boxes = example['anchors']\n",
    "boxes\n",
    "boxes.shape\n"
   ]
  },
  {
   "cell_type": "code",
   "execution_count": 18,
   "metadata": {},
   "outputs": [
    {
     "data": {
      "text/plain": [
       "tensor([ 0.7857, -0.7857, -1.0000,  1.6000,  3.9000,  1.5600,  0.0000],\n",
       "       device='cuda:0')"
      ]
     },
     "execution_count": 18,
     "metadata": {},
     "output_type": "execute_result"
    }
   ],
   "source": [
    "boxes[0][1]"
   ]
  },
  {
   "cell_type": "code",
   "execution_count": 19,
   "metadata": {},
   "outputs": [
    {
     "data": {
      "text/plain": [
       "array([1301686.4  ,   37366.086,  -81217.984,   15123.051], dtype=float32)"
      ]
     },
     "execution_count": 19,
     "metadata": {},
     "output_type": "execute_result"
    }
   ],
   "source": [
    "sum(example['points'])"
   ]
  },
  {
   "cell_type": "code",
   "execution_count": 20,
   "metadata": {},
   "outputs": [
    {
     "data": {
      "text/plain": [
       "tensor([[1113738.2500,   18692.7324,  -71466.2188,   13492.7305]],\n",
       "       device='cuda:0')"
      ]
     },
     "execution_count": 20,
     "metadata": {},
     "output_type": "execute_result"
    }
   ],
   "source": [
    "sum(example['voxels'])"
   ]
  },
  {
   "cell_type": "code",
   "execution_count": 21,
   "metadata": {},
   "outputs": [
    {
     "data": {
      "text/plain": [
       "tensor([19.5541,  7.9571, -1.0000,  1.6000,  3.9000,  1.5600,  0.0000],\n",
       "       device='cuda:0')"
      ]
     },
     "execution_count": 21,
     "metadata": {},
     "output_type": "execute_result"
    }
   ],
   "source": [
    "example['anchors'][0][3027]"
   ]
  },
  {
   "cell_type": "code",
   "execution_count": 22,
   "metadata": {},
   "outputs": [
    {
     "data": {
      "text/plain": [
       "array([[69.166,  7.675,  2.562,  0.   ],\n",
       "       [75.051,  9.167,  2.766,  0.   ],\n",
       "       [74.998,  9.4  ,  2.765,  0.   ],\n",
       "       ...,\n",
       "       [ 3.657, -1.383, -1.707,  0.42 ],\n",
       "       [ 3.659, -1.377, -1.707,  0.52 ],\n",
       "       [ 3.914, -1.461, -1.832,  0.   ]], dtype=float32)"
      ]
     },
     "execution_count": 22,
     "metadata": {},
     "output_type": "execute_result"
    }
   ],
   "source": [
    "points"
   ]
  },
  {
   "cell_type": "code",
   "execution_count": 23,
   "metadata": {},
   "outputs": [
    {
     "data": {
      "text/plain": [
       "(4,)"
      ]
     },
     "execution_count": 23,
     "metadata": {},
     "output_type": "execute_result"
    }
   ],
   "source": [
    "example[\"points\"][0].shape"
   ]
  },
  {
   "cell_type": "code",
   "execution_count": 24,
   "metadata": {},
   "outputs": [
    {
     "name": "stdout",
     "output_type": "stream",
     "text": [
      "2 sum voxels =  [[-21153.322   27401.541  -12060.744    3981.9727]]\n",
      "sum voxels =  [[-21153.322   27401.541  -12060.744    3981.9727]]\n"
     ]
    },
    {
     "data": {
      "text/plain": [
       "(20000, 1, 4)"
      ]
     },
     "execution_count": 24,
     "metadata": {},
     "output_type": "execute_result"
    }
   ],
   "source": [
    "res = voxel_generator.generate(\n",
    "                points, 20000)\n",
    "res['voxels'].shape"
   ]
  },
  {
   "cell_type": "code",
   "execution_count": null,
   "metadata": {},
   "outputs": [],
   "source": []
  },
  {
   "cell_type": "markdown",
   "metadata": {},
   "source": [
    "## Simple Vis"
   ]
  },
  {
   "cell_type": "code",
   "execution_count": 25,
   "metadata": {},
   "outputs": [],
   "source": [
    "# %config InlineBackend.figure_format = 'retina'\n",
    "\n",
    "\n",
    "# boxes_lidar = boxes.detach().cpu().numpy()\n",
    "# boxes_ldar = pred[1]['box3d_lidar']\n",
    "# vis_voxel_size = [0.1, 0.1, 0.1]\n",
    "# vis_point_range = [-50, -30, -3, 50, 30, 1]\n",
    "# vis_point_range = [0, -40, -3, 80, 40, 1]\n",
    "# bev_map = simplevis.point_to_vis_bev(example[\"points\"], vis_voxel_size, vis_point_range)\n",
    "# bev_map = simplevis.draw_box_in_bev(bev_map, vis_point_range, boxes_lidar, [0, 255, 0], 2)\n",
    "# bev_map = simplevis.draw_box_in_bev(bev_map,vis_point_range, boxes_lidar[0][0:8000:80,:].cpu().numpy(), [0,255,0], 2)"
   ]
  },
  {
   "cell_type": "code",
   "execution_count": 26,
   "metadata": {},
   "outputs": [],
   "source": [
    "# plt.imshow(bev_map)\n",
    "\n"
   ]
  },
  {
   "cell_type": "code",
   "execution_count": 27,
   "metadata": {},
   "outputs": [],
   "source": [
    "# bev_map = simplevis.kitti_vis(example[\"points\"][0], boxes[0].cpu().numpy())"
   ]
  },
  {
   "cell_type": "code",
   "execution_count": 28,
   "metadata": {},
   "outputs": [],
   "source": [
    "# plt.imshow(bev_map)\n"
   ]
  },
  {
   "cell_type": "code",
   "execution_count": 29,
   "metadata": {},
   "outputs": [
    {
     "data": {
      "text/plain": [
       "{'points': array([[ 5.8415e+01,  2.6000e+00,  2.1860e+00,  0.0000e+00],\n",
       "        [ 5.2750e+01,  2.7600e+00,  1.9950e+00,  1.7000e-01],\n",
       "        [ 5.2705e+01,  2.9240e+00,  1.9940e+00,  0.0000e+00],\n",
       "        ...,\n",
       "        [ 6.4260e+00, -4.2000e-02, -1.6800e+00,  2.0000e-01],\n",
       "        [ 6.4250e+00, -2.2000e-02, -1.6790e+00,  2.1000e-01],\n",
       "        [ 6.4290e+00, -2.0000e-03, -1.6810e+00,  1.9000e-01]],\n",
       "       dtype=float32),\n",
       " 'voxels': tensor([[[ 5.8415e+01,  2.6000e+00,  2.1860e+00,  0.0000e+00]],\n",
       " \n",
       "         [[ 5.2750e+01,  2.7600e+00,  1.9950e+00,  1.7000e-01]],\n",
       " \n",
       "         [[ 5.2705e+01,  2.9240e+00,  1.9940e+00,  0.0000e+00]],\n",
       " \n",
       "         ...,\n",
       " \n",
       "         [[ 7.1960e+00, -5.7000e-02, -1.6780e+00,  0.0000e+00]],\n",
       " \n",
       "         [[ 7.1540e+00, -3.4000e-02, -1.6680e+00,  0.0000e+00]],\n",
       " \n",
       "         [[ 7.1850e+00, -1.2000e-02, -1.6760e+00,  0.0000e+00]]],\n",
       "        device='cuda:0'),\n",
       " 'num_points': tensor([1, 1, 1,  ..., 1, 1, 1], device='cuda:0', dtype=torch.int32),\n",
       " 'coordinates': tensor([[  0,  25, 270, 425],\n",
       "         [  0,  25, 273, 384],\n",
       "         [  0,  25, 274, 384],\n",
       "         ...,\n",
       "         [  3,  62, 253,  53],\n",
       "         [  3,  62, 254,  53],\n",
       "         [  3,  62, 255,  53]], device='cuda:0', dtype=torch.int32),\n",
       " 'num_voxels': tensor([[14999],\n",
       "         [16954],\n",
       "         [15141],\n",
       "         [16627]]),\n",
       " 'metrics': [{'voxel_gene_time': 0.04265022277832031,\n",
       "   'prep_time': 0.04295492172241211},\n",
       "  {'voxel_gene_time': 0.03879666328430176, 'prep_time': 0.039006710052490234},\n",
       "  {'voxel_gene_time': 0.04117083549499512, 'prep_time': 0.041398048400878906},\n",
       "  {'voxel_gene_time': 0.03837108612060547, 'prep_time': 0.03860735893249512}],\n",
       " 'calib': {'rect': tensor([[[ 0.9999,  0.0098, -0.0074,  0.0000],\n",
       "           [-0.0099,  0.9999, -0.0043,  0.0000],\n",
       "           [ 0.0074,  0.0044,  1.0000,  0.0000],\n",
       "           [ 0.0000,  0.0000,  0.0000,  1.0000]],\n",
       "  \n",
       "          [[ 0.9999,  0.0098, -0.0074,  0.0000],\n",
       "           [-0.0099,  0.9999, -0.0043,  0.0000],\n",
       "           [ 0.0074,  0.0044,  1.0000,  0.0000],\n",
       "           [ 0.0000,  0.0000,  0.0000,  1.0000]],\n",
       "  \n",
       "          [[ 0.9999,  0.0098, -0.0074,  0.0000],\n",
       "           [-0.0099,  0.9999, -0.0043,  0.0000],\n",
       "           [ 0.0074,  0.0044,  1.0000,  0.0000],\n",
       "           [ 0.0000,  0.0000,  0.0000,  1.0000]],\n",
       "  \n",
       "          [[ 0.9999,  0.0098, -0.0074,  0.0000],\n",
       "           [-0.0099,  0.9999, -0.0043,  0.0000],\n",
       "           [ 0.0074,  0.0044,  1.0000,  0.0000],\n",
       "           [ 0.0000,  0.0000,  0.0000,  1.0000]]], device='cuda:0'),\n",
       "  'Trv2c': tensor([[[ 7.5337e-03, -9.9997e-01, -6.1660e-04, -4.0698e-03],\n",
       "           [ 1.4802e-02,  7.2807e-04, -9.9989e-01, -7.6316e-02],\n",
       "           [ 9.9986e-01,  7.5238e-03,  1.4808e-02, -2.7178e-01],\n",
       "           [ 0.0000e+00,  0.0000e+00,  0.0000e+00,  1.0000e+00]],\n",
       "  \n",
       "          [[ 7.5337e-03, -9.9997e-01, -6.1660e-04, -4.0698e-03],\n",
       "           [ 1.4802e-02,  7.2807e-04, -9.9989e-01, -7.6316e-02],\n",
       "           [ 9.9986e-01,  7.5238e-03,  1.4808e-02, -2.7178e-01],\n",
       "           [ 0.0000e+00,  0.0000e+00,  0.0000e+00,  1.0000e+00]],\n",
       "  \n",
       "          [[ 7.5337e-03, -9.9997e-01, -6.1660e-04, -4.0698e-03],\n",
       "           [ 1.4802e-02,  7.2807e-04, -9.9989e-01, -7.6316e-02],\n",
       "           [ 9.9986e-01,  7.5238e-03,  1.4808e-02, -2.7178e-01],\n",
       "           [ 0.0000e+00,  0.0000e+00,  0.0000e+00,  1.0000e+00]],\n",
       "  \n",
       "          [[ 7.5337e-03, -9.9997e-01, -6.1660e-04, -4.0698e-03],\n",
       "           [ 1.4802e-02,  7.2807e-04, -9.9989e-01, -7.6316e-02],\n",
       "           [ 9.9986e-01,  7.5238e-03,  1.4808e-02, -2.7178e-01],\n",
       "           [ 0.0000e+00,  0.0000e+00,  0.0000e+00,  1.0000e+00]]],\n",
       "         device='cuda:0'),\n",
       "  'P2': tensor([[[7.2154e+02, 0.0000e+00, 6.0956e+02, 4.4857e+01],\n",
       "           [0.0000e+00, 7.2154e+02, 1.7285e+02, 2.1638e-01],\n",
       "           [0.0000e+00, 0.0000e+00, 1.0000e+00, 2.7459e-03],\n",
       "           [0.0000e+00, 0.0000e+00, 0.0000e+00, 1.0000e+00]],\n",
       "  \n",
       "          [[7.2154e+02, 0.0000e+00, 6.0956e+02, 4.4857e+01],\n",
       "           [0.0000e+00, 7.2154e+02, 1.7285e+02, 2.1638e-01],\n",
       "           [0.0000e+00, 0.0000e+00, 1.0000e+00, 2.7459e-03],\n",
       "           [0.0000e+00, 0.0000e+00, 0.0000e+00, 1.0000e+00]],\n",
       "  \n",
       "          [[7.2154e+02, 0.0000e+00, 6.0956e+02, 4.4857e+01],\n",
       "           [0.0000e+00, 7.2154e+02, 1.7285e+02, 2.1638e-01],\n",
       "           [0.0000e+00, 0.0000e+00, 1.0000e+00, 2.7459e-03],\n",
       "           [0.0000e+00, 0.0000e+00, 0.0000e+00, 1.0000e+00]],\n",
       "  \n",
       "          [[7.2154e+02, 0.0000e+00, 6.0956e+02, 4.4857e+01],\n",
       "           [0.0000e+00, 7.2154e+02, 1.7285e+02, 2.1638e-01],\n",
       "           [0.0000e+00, 0.0000e+00, 1.0000e+00, 2.7459e-03],\n",
       "           [0.0000e+00, 0.0000e+00, 0.0000e+00, 1.0000e+00]]], device='cuda:0')},\n",
       " 'anchors': tensor([[[ 0.0000, -0.0000, -1.0000,  ...,  3.9000,  1.5600,  0.0000],\n",
       "          [ 0.7857, -0.7857, -1.0000,  ...,  3.9000,  1.5600,  0.0000],\n",
       "          [ 1.5713, -1.5713, -1.0000,  ...,  3.9000,  1.5600,  0.0000],\n",
       "          ...,\n",
       "          [47.9261, 47.9261, -1.0000,  ...,  3.9000,  1.5600,  1.5700],\n",
       "          [48.7118, 48.7118, -1.0000,  ...,  3.9000,  1.5600,  1.5700],\n",
       "          [49.4975, 49.4975, -1.0000,  ...,  3.9000,  1.5600,  1.5700]],\n",
       " \n",
       "         [[ 0.0000, -0.0000, -1.0000,  ...,  3.9000,  1.5600,  0.0000],\n",
       "          [ 0.7857, -0.7857, -1.0000,  ...,  3.9000,  1.5600,  0.0000],\n",
       "          [ 1.5713, -1.5713, -1.0000,  ...,  3.9000,  1.5600,  0.0000],\n",
       "          ...,\n",
       "          [47.9261, 47.9261, -1.0000,  ...,  3.9000,  1.5600,  1.5700],\n",
       "          [48.7118, 48.7118, -1.0000,  ...,  3.9000,  1.5600,  1.5700],\n",
       "          [49.4975, 49.4975, -1.0000,  ...,  3.9000,  1.5600,  1.5700]],\n",
       " \n",
       "         [[ 0.0000, -0.0000, -1.0000,  ...,  3.9000,  1.5600,  0.0000],\n",
       "          [ 0.7857, -0.7857, -1.0000,  ...,  3.9000,  1.5600,  0.0000],\n",
       "          [ 1.5713, -1.5713, -1.0000,  ...,  3.9000,  1.5600,  0.0000],\n",
       "          ...,\n",
       "          [47.9261, 47.9261, -1.0000,  ...,  3.9000,  1.5600,  1.5700],\n",
       "          [48.7118, 48.7118, -1.0000,  ...,  3.9000,  1.5600,  1.5700],\n",
       "          [49.4975, 49.4975, -1.0000,  ...,  3.9000,  1.5600,  1.5700]],\n",
       " \n",
       "         [[ 0.0000, -0.0000, -1.0000,  ...,  3.9000,  1.5600,  0.0000],\n",
       "          [ 0.7857, -0.7857, -1.0000,  ...,  3.9000,  1.5600,  0.0000],\n",
       "          [ 1.5713, -1.5713, -1.0000,  ...,  3.9000,  1.5600,  0.0000],\n",
       "          ...,\n",
       "          [47.9261, 47.9261, -1.0000,  ...,  3.9000,  1.5600,  1.5700],\n",
       "          [48.7118, 48.7118, -1.0000,  ...,  3.9000,  1.5600,  1.5700],\n",
       "          [49.4975, 49.4975, -1.0000,  ...,  3.9000,  1.5600,  1.5700]]],\n",
       "        device='cuda:0'),\n",
       " 'gt_names': array(['Car', 'Car', 'Car', 'Car', 'Car', 'Car', 'Car', 'Car', 'Car',\n",
       "        'Car'], dtype='<U10'),\n",
       " 'labels': tensor([[0, 0, 0,  ..., 0, 0, 0],\n",
       "         [0, 0, 0,  ..., 0, 0, 0],\n",
       "         [0, 0, 0,  ..., 0, 0, 0],\n",
       "         [0, 0, 0,  ..., 0, 0, 0]], device='cuda:0', dtype=torch.int32),\n",
       " 'reg_targets': tensor([[[0., 0., 0.,  ..., 0., 0., 0.],\n",
       "          [0., 0., 0.,  ..., 0., 0., 0.],\n",
       "          [0., 0., 0.,  ..., 0., 0., 0.],\n",
       "          ...,\n",
       "          [0., 0., 0.,  ..., 0., 0., 0.],\n",
       "          [0., 0., 0.,  ..., 0., 0., 0.],\n",
       "          [0., 0., 0.,  ..., 0., 0., 0.]],\n",
       " \n",
       "         [[0., 0., 0.,  ..., 0., 0., 0.],\n",
       "          [0., 0., 0.,  ..., 0., 0., 0.],\n",
       "          [0., 0., 0.,  ..., 0., 0., 0.],\n",
       "          ...,\n",
       "          [0., 0., 0.,  ..., 0., 0., 0.],\n",
       "          [0., 0., 0.,  ..., 0., 0., 0.],\n",
       "          [0., 0., 0.,  ..., 0., 0., 0.]],\n",
       " \n",
       "         [[0., 0., 0.,  ..., 0., 0., 0.],\n",
       "          [0., 0., 0.,  ..., 0., 0., 0.],\n",
       "          [0., 0., 0.,  ..., 0., 0., 0.],\n",
       "          ...,\n",
       "          [0., 0., 0.,  ..., 0., 0., 0.],\n",
       "          [0., 0., 0.,  ..., 0., 0., 0.],\n",
       "          [0., 0., 0.,  ..., 0., 0., 0.]],\n",
       " \n",
       "         [[0., 0., 0.,  ..., 0., 0., 0.],\n",
       "          [0., 0., 0.,  ..., 0., 0., 0.],\n",
       "          [0., 0., 0.,  ..., 0., 0., 0.],\n",
       "          ...,\n",
       "          [0., 0., 0.,  ..., 0., 0., 0.],\n",
       "          [0., 0., 0.,  ..., 0., 0., 0.],\n",
       "          [0., 0., 0.,  ..., 0., 0., 0.]]], device='cuda:0'),\n",
       " 'importance': tensor([[1., 1., 1.,  ..., 1., 1., 1.],\n",
       "         [1., 1., 1.,  ..., 1., 1., 1.],\n",
       "         [1., 1., 1.,  ..., 1., 1., 1.],\n",
       "         [1., 1., 1.,  ..., 1., 1., 1.]], device='cuda:0'),\n",
       " 'metadata': [{'image_idx': 1430,\n",
       "   'image_shape': array([ 375, 1242], dtype=int32)},\n",
       "  {'image_idx': 4827, 'image_shape': array([ 375, 1242], dtype=int32)},\n",
       "  {'image_idx': 6179, 'image_shape': array([ 375, 1242], dtype=int32)},\n",
       "  {'image_idx': 5547, 'image_shape': array([ 375, 1242], dtype=int32)}]}"
      ]
     },
     "execution_count": 29,
     "metadata": {},
     "output_type": "execute_result"
    }
   ],
   "source": [
    "example"
   ]
  },
  {
   "cell_type": "code",
   "execution_count": 30,
   "metadata": {},
   "outputs": [
    {
     "name": "stdout",
     "output_type": "stream",
     "text": [
      "voxel_features shape:  torch.Size([63721, 4])\n",
      "sparse_shape : [ 64 512 512]\n"
     ]
    },
    {
     "name": "stderr",
     "output_type": "stream",
     "text": [
      "/home/gx/GitHub/depconv/second/pytorch/train.py:41: UserWarning: To copy construct from a tensor, it is recommended to use sourceTensor.clone().detach() or sourceTensor.clone().detach().requires_grad_(True), rather than torch.tensor(sourceTensor).\n",
      "  v, dtype=torch.float32, device=device).to(dtype)\n",
      "/home/gx/GitHub/depconv/second/pytorch/train.py:44: UserWarning: To copy construct from a tensor, it is recommended to use sourceTensor.clone().detach() or sourceTensor.clone().detach().requires_grad_(True), rather than torch.tensor(sourceTensor).\n",
      "  v, dtype=torch.int32, device=device)\n",
      "/home/gx/GitHub/depconv/second/pytorch/train.py:55: UserWarning: To copy construct from a tensor, it is recommended to use sourceTensor.clone().detach() or sourceTensor.clone().detach().requires_grad_(True), rather than torch.tensor(sourceTensor).\n",
      "  example_torch[k] = torch.tensor(v)\n",
      "/home/gx/GitHub/depconv/second/pytorch/train.py:52: UserWarning: To copy construct from a tensor, it is recommended to use sourceTensor.clone().detach() or sourceTensor.clone().detach().requires_grad_(True), rather than torch.tensor(sourceTensor).\n",
      "  v1, dtype=dtype, device=device).to(dtype)\n"
     ]
    },
    {
     "ename": "RuntimeError",
     "evalue": "CUDA out of memory. Tried to allocate 20.00 MiB (GPU 0; 10.76 GiB total capacity; 294.59 MiB already allocated; 7.25 MiB free; 312.00 MiB reserved in total by PyTorch) (malloc at /opt/conda/conda-bld/pytorch_1579022060824/work/c10/cuda/CUDACachingAllocator.cpp:289)\nframe #0: c10::Error::Error(c10::SourceLocation, std::string const&) + 0x47 (0x7ffb7e391627 in /home/user/anaconda3/envs/depconv/lib/python3.7/site-packages/torch/lib/libc10.so)\nframe #1: <unknown function> + 0x1ed15 (0x7ffb7e5d5d15 in /home/user/anaconda3/envs/depconv/lib/python3.7/site-packages/torch/lib/libc10_cuda.so)\nframe #2: <unknown function> + 0x1ff2e (0x7ffb7e5d6f2e in /home/user/anaconda3/envs/depconv/lib/python3.7/site-packages/torch/lib/libc10_cuda.so)\nframe #3: at::native::empty_cuda(c10::ArrayRef<long>, c10::TensorOptions const&, c10::optional<c10::MemoryFormat>) + 0x264 (0x7ffb85cd2c84 in /home/user/anaconda3/envs/depconv/lib/python3.7/site-packages/torch/lib/libtorch.so)\nframe #4: <unknown function> + 0x417c798 (0x7ffb84238798 in /home/user/anaconda3/envs/depconv/lib/python3.7/site-packages/torch/lib/libtorch.so)\nframe #5: <unknown function> + 0x1b0eaf7 (0x7ffb81bcaaf7 in /home/user/anaconda3/envs/depconv/lib/python3.7/site-packages/torch/lib/libtorch.so)\nframe #6: <unknown function> + 0x187f070 (0x7ffb8193b070 in /home/user/anaconda3/envs/depconv/lib/python3.7/site-packages/torch/lib/libtorch.so)\nframe #7: at::native::zeros(c10::ArrayRef<long>, c10::TensorOptions const&) + 0x25 (0x7ffb81944d55 in /home/user/anaconda3/envs/depconv/lib/python3.7/site-packages/torch/lib/libtorch.so)\nframe #8: <unknown function> + 0x1bc2933 (0x7ffb81c7e933 in /home/user/anaconda3/envs/depconv/lib/python3.7/site-packages/torch/lib/libtorch.so)\nframe #9: <unknown function> + 0x1c066c9 (0x7ffb81cc26c9 in /home/user/anaconda3/envs/depconv/lib/python3.7/site-packages/torch/lib/libtorch.so)\nframe #10: torch::zeros(c10::ArrayRef<long>, c10::TensorOptions const&) + 0x2d2 (0x7ffb54b5afe2 in /home/user/anaconda3/envs/depconv/lib/python3.7/site-packages/spconv/libspconv.so)\nframe #11: at::Tensor spconv::indiceConv<float>(at::Tensor, at::Tensor, at::Tensor, at::Tensor, long, long, long) + 0x2e9 (0x7ffb54b6cc09 in /home/user/anaconda3/envs/depconv/lib/python3.7/site-packages/spconv/libspconv.so)\nframe #12: c10::detail::wrap_kernel_functor_boxed<c10::detail::WrapRuntimeKernelFunctor_<at::Tensor (*)(at::Tensor, at::Tensor, at::Tensor, at::Tensor, long, long, long), at::Tensor, c10::guts::typelist::typelist<at::Tensor, at::Tensor, at::Tensor, at::Tensor, long, long, long> >, true, void>::call(c10::OperatorKernel*, std::vector<c10::IValue, std::allocator<c10::IValue> >*) + 0x150 (0x7ffb54b878c0 in /home/user/anaconda3/envs/depconv/lib/python3.7/site-packages/spconv/libspconv.so)\nframe #13: <unknown function> + 0x2fa9fc9 (0x7ffb83065fc9 in /home/user/anaconda3/envs/depconv/lib/python3.7/site-packages/torch/lib/libtorch.so)\nframe #14: <unknown function> + 0x3ca7507 (0x7ffb83d63507 in /home/user/anaconda3/envs/depconv/lib/python3.7/site-packages/torch/lib/libtorch.so)\nframe #15: <unknown function> + 0x6ea9a7 (0x7ffbb04149a7 in /home/user/anaconda3/envs/depconv/lib/python3.7/site-packages/torch/lib/libtorch_python.so)\nframe #16: <unknown function> + 0x6b4fe4 (0x7ffbb03defe4 in /home/user/anaconda3/envs/depconv/lib/python3.7/site-packages/torch/lib/libtorch_python.so)\nframe #17: <unknown function> + 0x28ba06 (0x7ffbaffb5a06 in /home/user/anaconda3/envs/depconv/lib/python3.7/site-packages/torch/lib/libtorch_python.so)\nframe #18: _PyMethodDef_RawFastCallKeywords + 0x264 (0x558a368b5ab4 in /home/user/anaconda3/envs/depconv/bin/python)\nframe #19: _PyCFunction_FastCallKeywords + 0x21 (0x558a368b5bd1 in /home/user/anaconda3/envs/depconv/bin/python)\nframe #20: _PyEval_EvalFrameDefault + 0x4ecb (0x558a3691c57b in /home/user/anaconda3/envs/depconv/bin/python)\nframe #21: _PyEval_EvalCodeWithName + 0x2f9 (0x558a36861389 in /home/user/anaconda3/envs/depconv/bin/python)\nframe #22: _PyFunction_FastCallKeywords + 0x325 (0x558a368b5255 in /home/user/anaconda3/envs/depconv/bin/python)\nframe #23: _PyEval_EvalFrameDefault + 0x4b39 (0x558a3691c1e9 in /home/user/anaconda3/envs/depconv/bin/python)\nframe #24: _PyFunction_FastCallDict + 0x10b (0x558a368623fb in /home/user/anaconda3/envs/depconv/bin/python)\nframe #25: THPFunction_apply(_object*, _object*) + 0xa0f (0x7ffbb03a0a3f in /home/user/anaconda3/envs/depconv/lib/python3.7/site-packages/torch/lib/libtorch_python.so)\nframe #26: _PyMethodDef_RawFastCallKeywords + 0x1e0 (0x558a368b5a30 in /home/user/anaconda3/envs/depconv/bin/python)\nframe #27: _PyCFunction_FastCallKeywords + 0x21 (0x558a368b5bd1 in /home/user/anaconda3/envs/depconv/bin/python)\nframe #28: _PyEval_EvalFrameDefault + 0x4ecb (0x558a3691c57b in /home/user/anaconda3/envs/depconv/bin/python)\nframe #29: _PyFunction_FastCallDict + 0x10b (0x558a368623fb in /home/user/anaconda3/envs/depconv/bin/python)\nframe #30: _PyObject_Call_Prepend + 0x63 (0x558a36881a73 in /home/user/anaconda3/envs/depconv/bin/python)\nframe #31: PyObject_Call + 0x6e (0x558a36873fde in /home/user/anaconda3/envs/depconv/bin/python)\nframe #32: _PyEval_EvalFrameDefault + 0x1e9d (0x558a3691954d in /home/user/anaconda3/envs/depconv/bin/python)\nframe #33: _PyEval_EvalCodeWithName + 0x2f9 (0x558a36861389 in /home/user/anaconda3/envs/depconv/bin/python)\nframe #34: _PyFunction_FastCallDict + 0x1d5 (0x558a368624c5 in /home/user/anaconda3/envs/depconv/bin/python)\nframe #35: _PyObject_Call_Prepend + 0x63 (0x558a36881a73 in /home/user/anaconda3/envs/depconv/bin/python)\nframe #36: <unknown function> + 0x17d27a (0x558a368c927a in /home/user/anaconda3/envs/depconv/bin/python)\nframe #37: _PyObject_FastCallKeywords + 0x48b (0x558a368ca2db in /home/user/anaconda3/envs/depconv/bin/python)\nframe #38: _PyEval_EvalFrameDefault + 0x4a96 (0x558a3691c146 in /home/user/anaconda3/envs/depconv/bin/python)\nframe #39: _PyFunction_FastCallDict + 0x10b (0x558a368623fb in /home/user/anaconda3/envs/depconv/bin/python)\nframe #40: _PyObject_Call_Prepend + 0x63 (0x558a36881a73 in /home/user/anaconda3/envs/depconv/bin/python)\nframe #41: PyObject_Call + 0x6e (0x558a36873fde in /home/user/anaconda3/envs/depconv/bin/python)\nframe #42: _PyEval_EvalFrameDefault + 0x1e9d (0x558a3691954d in /home/user/anaconda3/envs/depconv/bin/python)\nframe #43: _PyEval_EvalCodeWithName + 0x2f9 (0x558a36861389 in /home/user/anaconda3/envs/depconv/bin/python)\nframe #44: _PyFunction_FastCallDict + 0x1d5 (0x558a368624c5 in /home/user/anaconda3/envs/depconv/bin/python)\nframe #45: _PyObject_Call_Prepend + 0x63 (0x558a36881a73 in /home/user/anaconda3/envs/depconv/bin/python)\nframe #46: <unknown function> + 0x17d27a (0x558a368c927a in /home/user/anaconda3/envs/depconv/bin/python)\nframe #47: _PyObject_FastCallKeywords + 0x48b (0x558a368ca2db in /home/user/anaconda3/envs/depconv/bin/python)\nframe #48: _PyEval_EvalFrameDefault + 0x5389 (0x558a3691ca39 in /home/user/anaconda3/envs/depconv/bin/python)\nframe #49: _PyFunction_FastCallDict + 0x10b (0x558a368623fb in /home/user/anaconda3/envs/depconv/bin/python)\nframe #50: _PyObject_Call_Prepend + 0x63 (0x558a36881a73 in /home/user/anaconda3/envs/depconv/bin/python)\nframe #51: PyObject_Call + 0x6e (0x558a36873fde in /home/user/anaconda3/envs/depconv/bin/python)\nframe #52: _PyEval_EvalFrameDefault + 0x1e9d (0x558a3691954d in /home/user/anaconda3/envs/depconv/bin/python)\nframe #53: _PyEval_EvalCodeWithName + 0x2f9 (0x558a36861389 in /home/user/anaconda3/envs/depconv/bin/python)\nframe #54: _PyFunction_FastCallDict + 0x1d5 (0x558a368624c5 in /home/user/anaconda3/envs/depconv/bin/python)\nframe #55: _PyObject_Call_Prepend + 0x63 (0x558a36881a73 in /home/user/anaconda3/envs/depconv/bin/python)\nframe #56: <unknown function> + 0x17d27a (0x558a368c927a in /home/user/anaconda3/envs/depconv/bin/python)\nframe #57: _PyObject_FastCallKeywords + 0x48b (0x558a368ca2db in /home/user/anaconda3/envs/depconv/bin/python)\nframe #58: _PyEval_EvalFrameDefault + 0x5389 (0x558a3691ca39 in /home/user/anaconda3/envs/depconv/bin/python)\nframe #59: _PyEval_EvalCodeWithName + 0x2f9 (0x558a36861389 in /home/user/anaconda3/envs/depconv/bin/python)\nframe #60: PyEval_EvalCodeEx + 0x44 (0x558a368622b4 in /home/user/anaconda3/envs/depconv/bin/python)\nframe #61: PyEval_EvalCode + 0x1c (0x558a368622dc in /home/user/anaconda3/envs/depconv/bin/python)\nframe #62: <unknown function> + 0x1db30d (0x558a3692730d in /home/user/anaconda3/envs/depconv/bin/python)\nframe #63: _PyMethodDef_RawFastCallKeywords + 0xe9 (0x558a368b5939 in /home/user/anaconda3/envs/depconv/bin/python)\n",
     "output_type": "error",
     "traceback": [
      "\u001b[0;31m---------------------------------------------------------------------------\u001b[0m",
      "\u001b[0;31mRuntimeError\u001b[0m                              Traceback (most recent call last)",
      "\u001b[0;32m<ipython-input-30-6b40ed1c2c2a>\u001b[0m in \u001b[0;36m<module>\u001b[0;34m\u001b[0m\n\u001b[1;32m     11\u001b[0m                                                       coors)\n\u001b[1;32m     12\u001b[0m spatial_features = net.middle_feature_extractor(\n\u001b[0;32m---> 13\u001b[0;31m             voxel_features, coors, batch_size_dev)\n\u001b[0m\u001b[1;32m     14\u001b[0m \u001b[0;31m# vfeatures = net.voxel_feature_extractor(voxels, num_points, coors)\u001b[0m\u001b[0;34m\u001b[0m\u001b[0;34m\u001b[0m\u001b[0;34m\u001b[0m\u001b[0m\n\u001b[1;32m     15\u001b[0m \u001b[0;31m# preds_dict = net.network_forward(voxels, num_points, coors, batch_size_dev)\u001b[0m\u001b[0;34m\u001b[0m\u001b[0;34m\u001b[0m\u001b[0;34m\u001b[0m\u001b[0m\n",
      "\u001b[0;32m/home/user/anaconda3/envs/depconv/lib/python3.7/site-packages/torch/nn/modules/module.py\u001b[0m in \u001b[0;36m__call__\u001b[0;34m(self, *input, **kwargs)\u001b[0m\n\u001b[1;32m    530\u001b[0m             \u001b[0mresult\u001b[0m \u001b[0;34m=\u001b[0m \u001b[0mself\u001b[0m\u001b[0;34m.\u001b[0m\u001b[0m_slow_forward\u001b[0m\u001b[0;34m(\u001b[0m\u001b[0;34m*\u001b[0m\u001b[0minput\u001b[0m\u001b[0;34m,\u001b[0m \u001b[0;34m**\u001b[0m\u001b[0mkwargs\u001b[0m\u001b[0;34m)\u001b[0m\u001b[0;34m\u001b[0m\u001b[0;34m\u001b[0m\u001b[0m\n\u001b[1;32m    531\u001b[0m         \u001b[0;32melse\u001b[0m\u001b[0;34m:\u001b[0m\u001b[0;34m\u001b[0m\u001b[0;34m\u001b[0m\u001b[0m\n\u001b[0;32m--> 532\u001b[0;31m             \u001b[0mresult\u001b[0m \u001b[0;34m=\u001b[0m \u001b[0mself\u001b[0m\u001b[0;34m.\u001b[0m\u001b[0mforward\u001b[0m\u001b[0;34m(\u001b[0m\u001b[0;34m*\u001b[0m\u001b[0minput\u001b[0m\u001b[0;34m,\u001b[0m \u001b[0;34m**\u001b[0m\u001b[0mkwargs\u001b[0m\u001b[0;34m)\u001b[0m\u001b[0;34m\u001b[0m\u001b[0;34m\u001b[0m\u001b[0m\n\u001b[0m\u001b[1;32m    533\u001b[0m         \u001b[0;32mfor\u001b[0m \u001b[0mhook\u001b[0m \u001b[0;32min\u001b[0m \u001b[0mself\u001b[0m\u001b[0;34m.\u001b[0m\u001b[0m_forward_hooks\u001b[0m\u001b[0;34m.\u001b[0m\u001b[0mvalues\u001b[0m\u001b[0;34m(\u001b[0m\u001b[0;34m)\u001b[0m\u001b[0;34m:\u001b[0m\u001b[0;34m\u001b[0m\u001b[0;34m\u001b[0m\u001b[0m\n\u001b[1;32m    534\u001b[0m             \u001b[0mhook_result\u001b[0m \u001b[0;34m=\u001b[0m \u001b[0mhook\u001b[0m\u001b[0;34m(\u001b[0m\u001b[0mself\u001b[0m\u001b[0;34m,\u001b[0m \u001b[0minput\u001b[0m\u001b[0;34m,\u001b[0m \u001b[0mresult\u001b[0m\u001b[0;34m)\u001b[0m\u001b[0;34m\u001b[0m\u001b[0;34m\u001b[0m\u001b[0m\n",
      "\u001b[0;32m~/GitHub/depconv/second/pytorch/models/middle.py\u001b[0m in \u001b[0;36mforward\u001b[0;34m(self, voxel_features, coors, batch_size)\u001b[0m\n\u001b[1;32m    203\u001b[0m         \u001b[0;31m# t = time.time()\u001b[0m\u001b[0;34m\u001b[0m\u001b[0;34m\u001b[0m\u001b[0;34m\u001b[0m\u001b[0m\n\u001b[1;32m    204\u001b[0m         \u001b[0;31m# torch.cuda.synchronize()\u001b[0m\u001b[0;34m\u001b[0m\u001b[0;34m\u001b[0m\u001b[0;34m\u001b[0m\u001b[0m\n\u001b[0;32m--> 205\u001b[0;31m         \u001b[0mret\u001b[0m \u001b[0;34m=\u001b[0m \u001b[0mself\u001b[0m\u001b[0;34m.\u001b[0m\u001b[0mmiddle_conv\u001b[0m\u001b[0;34m(\u001b[0m\u001b[0mret\u001b[0m\u001b[0;34m)\u001b[0m\u001b[0;34m\u001b[0m\u001b[0;34m\u001b[0m\u001b[0m\n\u001b[0m\u001b[1;32m    206\u001b[0m         \u001b[0;31m# torch.cuda.synchronize()\u001b[0m\u001b[0;34m\u001b[0m\u001b[0;34m\u001b[0m\u001b[0;34m\u001b[0m\u001b[0m\n\u001b[1;32m    207\u001b[0m         \u001b[0;31m# print(\"spconv forward time\", time.time() - t)\u001b[0m\u001b[0;34m\u001b[0m\u001b[0;34m\u001b[0m\u001b[0;34m\u001b[0m\u001b[0m\n",
      "\u001b[0;32m/home/user/anaconda3/envs/depconv/lib/python3.7/site-packages/torch/nn/modules/module.py\u001b[0m in \u001b[0;36m__call__\u001b[0;34m(self, *input, **kwargs)\u001b[0m\n\u001b[1;32m    530\u001b[0m             \u001b[0mresult\u001b[0m \u001b[0;34m=\u001b[0m \u001b[0mself\u001b[0m\u001b[0;34m.\u001b[0m\u001b[0m_slow_forward\u001b[0m\u001b[0;34m(\u001b[0m\u001b[0;34m*\u001b[0m\u001b[0minput\u001b[0m\u001b[0;34m,\u001b[0m \u001b[0;34m**\u001b[0m\u001b[0mkwargs\u001b[0m\u001b[0;34m)\u001b[0m\u001b[0;34m\u001b[0m\u001b[0;34m\u001b[0m\u001b[0m\n\u001b[1;32m    531\u001b[0m         \u001b[0;32melse\u001b[0m\u001b[0;34m:\u001b[0m\u001b[0;34m\u001b[0m\u001b[0;34m\u001b[0m\u001b[0m\n\u001b[0;32m--> 532\u001b[0;31m             \u001b[0mresult\u001b[0m \u001b[0;34m=\u001b[0m \u001b[0mself\u001b[0m\u001b[0;34m.\u001b[0m\u001b[0mforward\u001b[0m\u001b[0;34m(\u001b[0m\u001b[0;34m*\u001b[0m\u001b[0minput\u001b[0m\u001b[0;34m,\u001b[0m \u001b[0;34m**\u001b[0m\u001b[0mkwargs\u001b[0m\u001b[0;34m)\u001b[0m\u001b[0;34m\u001b[0m\u001b[0;34m\u001b[0m\u001b[0m\n\u001b[0m\u001b[1;32m    533\u001b[0m         \u001b[0;32mfor\u001b[0m \u001b[0mhook\u001b[0m \u001b[0;32min\u001b[0m \u001b[0mself\u001b[0m\u001b[0;34m.\u001b[0m\u001b[0m_forward_hooks\u001b[0m\u001b[0;34m.\u001b[0m\u001b[0mvalues\u001b[0m\u001b[0;34m(\u001b[0m\u001b[0;34m)\u001b[0m\u001b[0;34m:\u001b[0m\u001b[0;34m\u001b[0m\u001b[0;34m\u001b[0m\u001b[0m\n\u001b[1;32m    534\u001b[0m             \u001b[0mhook_result\u001b[0m \u001b[0;34m=\u001b[0m \u001b[0mhook\u001b[0m\u001b[0;34m(\u001b[0m\u001b[0mself\u001b[0m\u001b[0;34m,\u001b[0m \u001b[0minput\u001b[0m\u001b[0;34m,\u001b[0m \u001b[0mresult\u001b[0m\u001b[0;34m)\u001b[0m\u001b[0;34m\u001b[0m\u001b[0;34m\u001b[0m\u001b[0m\n",
      "\u001b[0;32m/home/user/anaconda3/envs/depconv/lib/python3.7/site-packages/spconv/modules.py\u001b[0m in \u001b[0;36mforward\u001b[0;34m(self, input)\u001b[0m\n\u001b[1;32m    128\u001b[0m                 \u001b[0;32massert\u001b[0m \u001b[0misinstance\u001b[0m\u001b[0;34m(\u001b[0m\u001b[0minput\u001b[0m\u001b[0;34m,\u001b[0m \u001b[0mspconv\u001b[0m\u001b[0;34m.\u001b[0m\u001b[0mSparseConvTensor\u001b[0m\u001b[0;34m)\u001b[0m\u001b[0;34m\u001b[0m\u001b[0;34m\u001b[0m\u001b[0m\n\u001b[1;32m    129\u001b[0m                 \u001b[0mself\u001b[0m\u001b[0;34m.\u001b[0m\u001b[0m_sparity_dict\u001b[0m\u001b[0;34m[\u001b[0m\u001b[0mk\u001b[0m\u001b[0;34m]\u001b[0m \u001b[0;34m=\u001b[0m \u001b[0minput\u001b[0m\u001b[0;34m.\u001b[0m\u001b[0msparity\u001b[0m\u001b[0;34m\u001b[0m\u001b[0;34m\u001b[0m\u001b[0m\n\u001b[0;32m--> 130\u001b[0;31m                 \u001b[0minput\u001b[0m \u001b[0;34m=\u001b[0m \u001b[0mmodule\u001b[0m\u001b[0;34m(\u001b[0m\u001b[0minput\u001b[0m\u001b[0;34m)\u001b[0m\u001b[0;34m\u001b[0m\u001b[0;34m\u001b[0m\u001b[0m\n\u001b[0m\u001b[1;32m    131\u001b[0m             \u001b[0;32melse\u001b[0m\u001b[0;34m:\u001b[0m\u001b[0;34m\u001b[0m\u001b[0;34m\u001b[0m\u001b[0m\n\u001b[1;32m    132\u001b[0m                 \u001b[0;32mif\u001b[0m \u001b[0misinstance\u001b[0m\u001b[0;34m(\u001b[0m\u001b[0minput\u001b[0m\u001b[0;34m,\u001b[0m \u001b[0mspconv\u001b[0m\u001b[0;34m.\u001b[0m\u001b[0mSparseConvTensor\u001b[0m\u001b[0;34m)\u001b[0m\u001b[0;34m:\u001b[0m\u001b[0;34m\u001b[0m\u001b[0;34m\u001b[0m\u001b[0m\n",
      "\u001b[0;32m/home/user/anaconda3/envs/depconv/lib/python3.7/site-packages/torch/nn/modules/module.py\u001b[0m in \u001b[0;36m__call__\u001b[0;34m(self, *input, **kwargs)\u001b[0m\n\u001b[1;32m    530\u001b[0m             \u001b[0mresult\u001b[0m \u001b[0;34m=\u001b[0m \u001b[0mself\u001b[0m\u001b[0;34m.\u001b[0m\u001b[0m_slow_forward\u001b[0m\u001b[0;34m(\u001b[0m\u001b[0;34m*\u001b[0m\u001b[0minput\u001b[0m\u001b[0;34m,\u001b[0m \u001b[0;34m**\u001b[0m\u001b[0mkwargs\u001b[0m\u001b[0;34m)\u001b[0m\u001b[0;34m\u001b[0m\u001b[0;34m\u001b[0m\u001b[0m\n\u001b[1;32m    531\u001b[0m         \u001b[0;32melse\u001b[0m\u001b[0;34m:\u001b[0m\u001b[0;34m\u001b[0m\u001b[0;34m\u001b[0m\u001b[0m\n\u001b[0;32m--> 532\u001b[0;31m             \u001b[0mresult\u001b[0m \u001b[0;34m=\u001b[0m \u001b[0mself\u001b[0m\u001b[0;34m.\u001b[0m\u001b[0mforward\u001b[0m\u001b[0;34m(\u001b[0m\u001b[0;34m*\u001b[0m\u001b[0minput\u001b[0m\u001b[0;34m,\u001b[0m \u001b[0;34m**\u001b[0m\u001b[0mkwargs\u001b[0m\u001b[0;34m)\u001b[0m\u001b[0;34m\u001b[0m\u001b[0;34m\u001b[0m\u001b[0m\n\u001b[0m\u001b[1;32m    533\u001b[0m         \u001b[0;32mfor\u001b[0m \u001b[0mhook\u001b[0m \u001b[0;32min\u001b[0m \u001b[0mself\u001b[0m\u001b[0;34m.\u001b[0m\u001b[0m_forward_hooks\u001b[0m\u001b[0;34m.\u001b[0m\u001b[0mvalues\u001b[0m\u001b[0;34m(\u001b[0m\u001b[0;34m)\u001b[0m\u001b[0;34m:\u001b[0m\u001b[0;34m\u001b[0m\u001b[0;34m\u001b[0m\u001b[0m\n\u001b[1;32m    534\u001b[0m             \u001b[0mhook_result\u001b[0m \u001b[0;34m=\u001b[0m \u001b[0mhook\u001b[0m\u001b[0;34m(\u001b[0m\u001b[0mself\u001b[0m\u001b[0;34m,\u001b[0m \u001b[0minput\u001b[0m\u001b[0;34m,\u001b[0m \u001b[0mresult\u001b[0m\u001b[0;34m)\u001b[0m\u001b[0;34m\u001b[0m\u001b[0;34m\u001b[0m\u001b[0m\n",
      "\u001b[0;32m/home/user/anaconda3/envs/depconv/lib/python3.7/site-packages/spconv/conv.py\u001b[0m in \u001b[0;36mforward\u001b[0;34m(self, input)\u001b[0m\n\u001b[1;32m    190\u001b[0m                                                     \u001b[0mindice_pairs\u001b[0m\u001b[0;34m.\u001b[0m\u001b[0mto\u001b[0m\u001b[0;34m(\u001b[0m\u001b[0mdevice\u001b[0m\u001b[0;34m)\u001b[0m\u001b[0;34m,\u001b[0m\u001b[0;34m\u001b[0m\u001b[0;34m\u001b[0m\u001b[0m\n\u001b[1;32m    191\u001b[0m                                                     \u001b[0mindice_pair_num\u001b[0m\u001b[0;34m,\u001b[0m\u001b[0;34m\u001b[0m\u001b[0;34m\u001b[0m\u001b[0m\n\u001b[0;32m--> 192\u001b[0;31m                                                     outids.shape[0])\n\u001b[0m\u001b[1;32m    193\u001b[0m             \u001b[0;32melse\u001b[0m\u001b[0;34m:\u001b[0m\u001b[0;34m\u001b[0m\u001b[0;34m\u001b[0m\u001b[0m\n\u001b[1;32m    194\u001b[0m                 \u001b[0;32mif\u001b[0m \u001b[0mself\u001b[0m\u001b[0;34m.\u001b[0m\u001b[0minverse\u001b[0m\u001b[0;34m:\u001b[0m\u001b[0;34m\u001b[0m\u001b[0;34m\u001b[0m\u001b[0m\n",
      "\u001b[0;32m/home/user/anaconda3/envs/depconv/lib/python3.7/site-packages/spconv/functional.py\u001b[0m in \u001b[0;36mforward\u001b[0;34m(ctx, features, filters, indice_pairs, indice_pair_num, num_activate_out)\u001b[0m\n\u001b[1;32m     81\u001b[0m             \u001b[0mfeatures\u001b[0m\u001b[0;34m,\u001b[0m\u001b[0;34m\u001b[0m\u001b[0;34m\u001b[0m\u001b[0m\n\u001b[1;32m     82\u001b[0m             filters)\n\u001b[0;32m---> 83\u001b[0;31m         \u001b[0;32mreturn\u001b[0m \u001b[0mops\u001b[0m\u001b[0;34m.\u001b[0m\u001b[0mindice_conv\u001b[0m\u001b[0;34m(\u001b[0m\u001b[0mfeatures\u001b[0m\u001b[0;34m,\u001b[0m \u001b[0mfilters\u001b[0m\u001b[0;34m,\u001b[0m \u001b[0mindice_pairs\u001b[0m\u001b[0;34m,\u001b[0m \u001b[0mindice_pair_num\u001b[0m\u001b[0;34m,\u001b[0m \u001b[0mnum_activate_out\u001b[0m\u001b[0;34m,\u001b[0m \u001b[0;32mFalse\u001b[0m\u001b[0;34m,\u001b[0m \u001b[0;32mTrue\u001b[0m\u001b[0;34m)\u001b[0m\u001b[0;34m\u001b[0m\u001b[0;34m\u001b[0m\u001b[0m\n\u001b[0m\u001b[1;32m     84\u001b[0m \u001b[0;34m\u001b[0m\u001b[0m\n\u001b[1;32m     85\u001b[0m     \u001b[0;34m@\u001b[0m\u001b[0mstaticmethod\u001b[0m\u001b[0;34m\u001b[0m\u001b[0;34m\u001b[0m\u001b[0m\n",
      "\u001b[0;32m/home/user/anaconda3/envs/depconv/lib/python3.7/site-packages/spconv/ops.py\u001b[0m in \u001b[0;36mindice_conv\u001b[0;34m(features, filters, indice_pairs, indice_pair_num, num_activate_out, inverse, subm)\u001b[0m\n\u001b[1;32m    115\u001b[0m         return torch.ops.spconv.indice_conv_fp32(features, filters, indice_pairs,\n\u001b[1;32m    116\u001b[0m                                                \u001b[0mindice_pair_num\u001b[0m\u001b[0;34m,\u001b[0m \u001b[0mnum_activate_out\u001b[0m\u001b[0;34m,\u001b[0m\u001b[0;34m\u001b[0m\u001b[0;34m\u001b[0m\u001b[0m\n\u001b[0;32m--> 117\u001b[0;31m                                                int(inverse), int(subm))\n\u001b[0m\u001b[1;32m    118\u001b[0m     \u001b[0;32melif\u001b[0m \u001b[0mfilters\u001b[0m\u001b[0;34m.\u001b[0m\u001b[0mdtype\u001b[0m \u001b[0;34m==\u001b[0m \u001b[0mtorch\u001b[0m\u001b[0;34m.\u001b[0m\u001b[0mhalf\u001b[0m\u001b[0;34m:\u001b[0m\u001b[0;34m\u001b[0m\u001b[0;34m\u001b[0m\u001b[0m\n\u001b[1;32m    119\u001b[0m         return torch.ops.spconv.indice_conv_half(features, filters, indice_pairs,\n",
      "\u001b[0;31mRuntimeError\u001b[0m: CUDA out of memory. Tried to allocate 20.00 MiB (GPU 0; 10.76 GiB total capacity; 294.59 MiB already allocated; 7.25 MiB free; 312.00 MiB reserved in total by PyTorch) (malloc at /opt/conda/conda-bld/pytorch_1579022060824/work/c10/cuda/CUDACachingAllocator.cpp:289)\nframe #0: c10::Error::Error(c10::SourceLocation, std::string const&) + 0x47 (0x7ffb7e391627 in /home/user/anaconda3/envs/depconv/lib/python3.7/site-packages/torch/lib/libc10.so)\nframe #1: <unknown function> + 0x1ed15 (0x7ffb7e5d5d15 in /home/user/anaconda3/envs/depconv/lib/python3.7/site-packages/torch/lib/libc10_cuda.so)\nframe #2: <unknown function> + 0x1ff2e (0x7ffb7e5d6f2e in /home/user/anaconda3/envs/depconv/lib/python3.7/site-packages/torch/lib/libc10_cuda.so)\nframe #3: at::native::empty_cuda(c10::ArrayRef<long>, c10::TensorOptions const&, c10::optional<c10::MemoryFormat>) + 0x264 (0x7ffb85cd2c84 in /home/user/anaconda3/envs/depconv/lib/python3.7/site-packages/torch/lib/libtorch.so)\nframe #4: <unknown function> + 0x417c798 (0x7ffb84238798 in /home/user/anaconda3/envs/depconv/lib/python3.7/site-packages/torch/lib/libtorch.so)\nframe #5: <unknown function> + 0x1b0eaf7 (0x7ffb81bcaaf7 in /home/user/anaconda3/envs/depconv/lib/python3.7/site-packages/torch/lib/libtorch.so)\nframe #6: <unknown function> + 0x187f070 (0x7ffb8193b070 in /home/user/anaconda3/envs/depconv/lib/python3.7/site-packages/torch/lib/libtorch.so)\nframe #7: at::native::zeros(c10::ArrayRef<long>, c10::TensorOptions const&) + 0x25 (0x7ffb81944d55 in /home/user/anaconda3/envs/depconv/lib/python3.7/site-packages/torch/lib/libtorch.so)\nframe #8: <unknown function> + 0x1bc2933 (0x7ffb81c7e933 in /home/user/anaconda3/envs/depconv/lib/python3.7/site-packages/torch/lib/libtorch.so)\nframe #9: <unknown function> + 0x1c066c9 (0x7ffb81cc26c9 in /home/user/anaconda3/envs/depconv/lib/python3.7/site-packages/torch/lib/libtorch.so)\nframe #10: torch::zeros(c10::ArrayRef<long>, c10::TensorOptions const&) + 0x2d2 (0x7ffb54b5afe2 in /home/user/anaconda3/envs/depconv/lib/python3.7/site-packages/spconv/libspconv.so)\nframe #11: at::Tensor spconv::indiceConv<float>(at::Tensor, at::Tensor, at::Tensor, at::Tensor, long, long, long) + 0x2e9 (0x7ffb54b6cc09 in /home/user/anaconda3/envs/depconv/lib/python3.7/site-packages/spconv/libspconv.so)\nframe #12: c10::detail::wrap_kernel_functor_boxed<c10::detail::WrapRuntimeKernelFunctor_<at::Tensor (*)(at::Tensor, at::Tensor, at::Tensor, at::Tensor, long, long, long), at::Tensor, c10::guts::typelist::typelist<at::Tensor, at::Tensor, at::Tensor, at::Tensor, long, long, long> >, true, void>::call(c10::OperatorKernel*, std::vector<c10::IValue, std::allocator<c10::IValue> >*) + 0x150 (0x7ffb54b878c0 in /home/user/anaconda3/envs/depconv/lib/python3.7/site-packages/spconv/libspconv.so)\nframe #13: <unknown function> + 0x2fa9fc9 (0x7ffb83065fc9 in /home/user/anaconda3/envs/depconv/lib/python3.7/site-packages/torch/lib/libtorch.so)\nframe #14: <unknown function> + 0x3ca7507 (0x7ffb83d63507 in /home/user/anaconda3/envs/depconv/lib/python3.7/site-packages/torch/lib/libtorch.so)\nframe #15: <unknown function> + 0x6ea9a7 (0x7ffbb04149a7 in /home/user/anaconda3/envs/depconv/lib/python3.7/site-packages/torch/lib/libtorch_python.so)\nframe #16: <unknown function> + 0x6b4fe4 (0x7ffbb03defe4 in /home/user/anaconda3/envs/depconv/lib/python3.7/site-packages/torch/lib/libtorch_python.so)\nframe #17: <unknown function> + 0x28ba06 (0x7ffbaffb5a06 in /home/user/anaconda3/envs/depconv/lib/python3.7/site-packages/torch/lib/libtorch_python.so)\nframe #18: _PyMethodDef_RawFastCallKeywords + 0x264 (0x558a368b5ab4 in /home/user/anaconda3/envs/depconv/bin/python)\nframe #19: _PyCFunction_FastCallKeywords + 0x21 (0x558a368b5bd1 in /home/user/anaconda3/envs/depconv/bin/python)\nframe #20: _PyEval_EvalFrameDefault + 0x4ecb (0x558a3691c57b in /home/user/anaconda3/envs/depconv/bin/python)\nframe #21: _PyEval_EvalCodeWithName + 0x2f9 (0x558a36861389 in /home/user/anaconda3/envs/depconv/bin/python)\nframe #22: _PyFunction_FastCallKeywords + 0x325 (0x558a368b5255 in /home/user/anaconda3/envs/depconv/bin/python)\nframe #23: _PyEval_EvalFrameDefault + 0x4b39 (0x558a3691c1e9 in /home/user/anaconda3/envs/depconv/bin/python)\nframe #24: _PyFunction_FastCallDict + 0x10b (0x558a368623fb in /home/user/anaconda3/envs/depconv/bin/python)\nframe #25: THPFunction_apply(_object*, _object*) + 0xa0f (0x7ffbb03a0a3f in /home/user/anaconda3/envs/depconv/lib/python3.7/site-packages/torch/lib/libtorch_python.so)\nframe #26: _PyMethodDef_RawFastCallKeywords + 0x1e0 (0x558a368b5a30 in /home/user/anaconda3/envs/depconv/bin/python)\nframe #27: _PyCFunction_FastCallKeywords + 0x21 (0x558a368b5bd1 in /home/user/anaconda3/envs/depconv/bin/python)\nframe #28: _PyEval_EvalFrameDefault + 0x4ecb (0x558a3691c57b in /home/user/anaconda3/envs/depconv/bin/python)\nframe #29: _PyFunction_FastCallDict + 0x10b (0x558a368623fb in /home/user/anaconda3/envs/depconv/bin/python)\nframe #30: _PyObject_Call_Prepend + 0x63 (0x558a36881a73 in /home/user/anaconda3/envs/depconv/bin/python)\nframe #31: PyObject_Call + 0x6e (0x558a36873fde in /home/user/anaconda3/envs/depconv/bin/python)\nframe #32: _PyEval_EvalFrameDefault + 0x1e9d (0x558a3691954d in /home/user/anaconda3/envs/depconv/bin/python)\nframe #33: _PyEval_EvalCodeWithName + 0x2f9 (0x558a36861389 in /home/user/anaconda3/envs/depconv/bin/python)\nframe #34: _PyFunction_FastCallDict + 0x1d5 (0x558a368624c5 in /home/user/anaconda3/envs/depconv/bin/python)\nframe #35: _PyObject_Call_Prepend + 0x63 (0x558a36881a73 in /home/user/anaconda3/envs/depconv/bin/python)\nframe #36: <unknown function> + 0x17d27a (0x558a368c927a in /home/user/anaconda3/envs/depconv/bin/python)\nframe #37: _PyObject_FastCallKeywords + 0x48b (0x558a368ca2db in /home/user/anaconda3/envs/depconv/bin/python)\nframe #38: _PyEval_EvalFrameDefault + 0x4a96 (0x558a3691c146 in /home/user/anaconda3/envs/depconv/bin/python)\nframe #39: _PyFunction_FastCallDict + 0x10b (0x558a368623fb in /home/user/anaconda3/envs/depconv/bin/python)\nframe #40: _PyObject_Call_Prepend + 0x63 (0x558a36881a73 in /home/user/anaconda3/envs/depconv/bin/python)\nframe #41: PyObject_Call + 0x6e (0x558a36873fde in /home/user/anaconda3/envs/depconv/bin/python)\nframe #42: _PyEval_EvalFrameDefault + 0x1e9d (0x558a3691954d in /home/user/anaconda3/envs/depconv/bin/python)\nframe #43: _PyEval_EvalCodeWithName + 0x2f9 (0x558a36861389 in /home/user/anaconda3/envs/depconv/bin/python)\nframe #44: _PyFunction_FastCallDict + 0x1d5 (0x558a368624c5 in /home/user/anaconda3/envs/depconv/bin/python)\nframe #45: _PyObject_Call_Prepend + 0x63 (0x558a36881a73 in /home/user/anaconda3/envs/depconv/bin/python)\nframe #46: <unknown function> + 0x17d27a (0x558a368c927a in /home/user/anaconda3/envs/depconv/bin/python)\nframe #47: _PyObject_FastCallKeywords + 0x48b (0x558a368ca2db in /home/user/anaconda3/envs/depconv/bin/python)\nframe #48: _PyEval_EvalFrameDefault + 0x5389 (0x558a3691ca39 in /home/user/anaconda3/envs/depconv/bin/python)\nframe #49: _PyFunction_FastCallDict + 0x10b (0x558a368623fb in /home/user/anaconda3/envs/depconv/bin/python)\nframe #50: _PyObject_Call_Prepend + 0x63 (0x558a36881a73 in /home/user/anaconda3/envs/depconv/bin/python)\nframe #51: PyObject_Call + 0x6e (0x558a36873fde in /home/user/anaconda3/envs/depconv/bin/python)\nframe #52: _PyEval_EvalFrameDefault + 0x1e9d (0x558a3691954d in /home/user/anaconda3/envs/depconv/bin/python)\nframe #53: _PyEval_EvalCodeWithName + 0x2f9 (0x558a36861389 in /home/user/anaconda3/envs/depconv/bin/python)\nframe #54: _PyFunction_FastCallDict + 0x1d5 (0x558a368624c5 in /home/user/anaconda3/envs/depconv/bin/python)\nframe #55: _PyObject_Call_Prepend + 0x63 (0x558a36881a73 in /home/user/anaconda3/envs/depconv/bin/python)\nframe #56: <unknown function> + 0x17d27a (0x558a368c927a in /home/user/anaconda3/envs/depconv/bin/python)\nframe #57: _PyObject_FastCallKeywords + 0x48b (0x558a368ca2db in /home/user/anaconda3/envs/depconv/bin/python)\nframe #58: _PyEval_EvalFrameDefault + 0x5389 (0x558a3691ca39 in /home/user/anaconda3/envs/depconv/bin/python)\nframe #59: _PyEval_EvalCodeWithName + 0x2f9 (0x558a36861389 in /home/user/anaconda3/envs/depconv/bin/python)\nframe #60: PyEval_EvalCodeEx + 0x44 (0x558a368622b4 in /home/user/anaconda3/envs/depconv/bin/python)\nframe #61: PyEval_EvalCode + 0x1c (0x558a368622dc in /home/user/anaconda3/envs/depconv/bin/python)\nframe #62: <unknown function> + 0x1db30d (0x558a3692730d in /home/user/anaconda3/envs/depconv/bin/python)\nframe #63: _PyMethodDef_RawFastCallKeywords + 0xe9 (0x558a368b5939 in /home/user/anaconda3/envs/depconv/bin/python)\n"
     ]
    }
   ],
   "source": [
    "example = example_convert_to_torch(example, device=torch.device(\"cuda\"))\n",
    "\n",
    "\n",
    "voxels = example[\"voxels\"]\n",
    "num_points = example[\"num_points\"]\n",
    "coors = example[\"coordinates\"]\n",
    "batch_anchors = example[\"anchors\"]\n",
    "# feature = example[\"feature\"]\n",
    "batch_size_dev = batch_anchors.shape[0]\n",
    "voxel_features = net.voxel_feature_extractor(voxels, num_points,\n",
    "                                                      coors)\n",
    "spatial_features = net.middle_feature_extractor(\n",
    "            voxel_features, coors, batch_size_dev)\n",
    "# vfeatures = net.voxel_feature_extractor(voxels, num_points, coors)\n",
    "# preds_dict = net.network_forward(voxels, num_points, coors, batch_size_dev)\n",
    "# spatial_features = net.feature_extractor(feature)"
   ]
  },
  {
   "cell_type": "code",
   "execution_count": null,
   "metadata": {},
   "outputs": [],
   "source": [
    "spatial_features.shape"
   ]
  },
  {
   "cell_type": "code",
   "execution_count": null,
   "metadata": {},
   "outputs": [],
   "source": [
    "examples[5]['voxels'].shape"
   ]
  },
  {
   "cell_type": "code",
   "execution_count": null,
   "metadata": {},
   "outputs": [],
   "source": [
    "for i in range(128):\n",
    "    plt.figure()\n",
    "    plt.imshow(spatial_features[0][i].detach().cpu().numpy())"
   ]
  },
  {
   "cell_type": "code",
   "execution_count": null,
   "metadata": {},
   "outputs": [],
   "source": [
    "\n",
    "if feature.dim() == 3:\n",
    "    feature = feature.unsqueeze(0)\n",
    "with torch.no_grad():\n",
    "    depth = init_depth_from_feature(feature, 512)\n",
    "\n",
    "depth = F.max_pool2d(depth, 3, padding=1, stride=1)"
   ]
  },
  {
   "cell_type": "code",
   "execution_count": null,
   "metadata": {},
   "outputs": [],
   "source": []
  },
  {
   "cell_type": "code",
   "execution_count": null,
   "metadata": {},
   "outputs": [],
   "source": [
    "depth.shape"
   ]
  },
  {
   "cell_type": "code",
   "execution_count": null,
   "metadata": {},
   "outputs": [],
   "source": [
    "feature.shape"
   ]
  },
  {
   "cell_type": "code",
   "execution_count": null,
   "metadata": {},
   "outputs": [],
   "source": [
    "# depth_to_3D(feature, depth.long(), D=256)"
   ]
  },
  {
   "cell_type": "code",
   "execution_count": null,
   "metadata": {},
   "outputs": [],
   "source": [
    "plt.imshow(depth[0].detach().cpu().numpy())"
   ]
  },
  {
   "cell_type": "code",
   "execution_count": null,
   "metadata": {},
   "outputs": [],
   "source": [
    "depth[0].detach().cpu().shape"
   ]
  },
  {
   "cell_type": "code",
   "execution_count": null,
   "metadata": {},
   "outputs": [],
   "source": [
    "# depth[depth == 0 ] = 256"
   ]
  },
  {
   "cell_type": "code",
   "execution_count": null,
   "metadata": {},
   "outputs": [],
   "source": [
    "def depth_bev(depth, R =500):\n",
    "    \"\"\"\n",
    "    convert depth to bev\n",
    "        depth: [H,W]\n",
    "        to, \n",
    "    \"\"\"\n",
    "    H, W = depth.shape\n",
    "\n",
    "    ret = np.zeros([R, W])\n",
    "    for r in range(H):\n",
    "        for i in range(W):\n",
    "            d = int(depth[r][i])\n",
    "            if d >= R:\n",
    "                d = R-1\n",
    "            ret[d][i] = 1\n",
    "    return ret.T\n",
    "\n",
    "plt.imshow(depth_bev(depth[0].detach().cpu().numpy()))"
   ]
  },
  {
   "cell_type": "code",
   "execution_count": null,
   "metadata": {},
   "outputs": [],
   "source": [
    "depth1 = F.max_pool2d(depth, (2,1), padding=0, stride=(1,2)) / 2 \n",
    "plt.imshow(depth_bev(depth1[0].detach().cpu().numpy(), 256))\n"
   ]
  },
  {
   "cell_type": "code",
   "execution_count": null,
   "metadata": {},
   "outputs": [],
   "source": [
    "depth1"
   ]
  },
  {
   "cell_type": "code",
   "execution_count": null,
   "metadata": {},
   "outputs": [],
   "source": []
  },
  {
   "cell_type": "code",
   "execution_count": null,
   "metadata": {},
   "outputs": [],
   "source": [
    "depth2 = F.max_pool2d(depth1, (2,1), padding=0, stride=(1,2))/2\n",
    "plt.imshow(depth_bev(depth2[0].detach().cpu().numpy(),  R=128))\n",
    "print(depth2.shape)"
   ]
  },
  {
   "cell_type": "code",
   "execution_count": null,
   "metadata": {},
   "outputs": [],
   "source": [
    "depth3 = F.avg_pool2d(depth2, (2,1), padding=0, stride=(1,2))/2\n",
    "plt.imshow(depth_bev(depth3[0].detach().cpu().numpy(),  R=64))\n",
    "print(depth3.shape)"
   ]
  },
  {
   "cell_type": "code",
   "execution_count": null,
   "metadata": {},
   "outputs": [],
   "source": [
    "depth3.shape"
   ]
  },
  {
   "cell_type": "code",
   "execution_count": null,
   "metadata": {},
   "outputs": [],
   "source": []
  },
  {
   "cell_type": "code",
   "execution_count": null,
   "metadata": {},
   "outputs": [],
   "source": [
    "depth4 = F.max_pool2d(depth3, (2,1), padding=0, stride=(1,2)) /2 \n",
    "plt.imshow(depth_bev(depth4[0].detach().cpu().numpy(), 32))\n",
    "print(depth4.shape)"
   ]
  },
  {
   "cell_type": "code",
   "execution_count": null,
   "metadata": {},
   "outputs": [],
   "source": [
    "depth5 = F.max_pool2d(depth4, (2,1), padding=(0,0), stride=(1,2)) /2 \n",
    "plt.imshow(depth_bev(depth5[0].detach().cpu().numpy(), 16))\n",
    "print(depth5.shape)"
   ]
  },
  {
   "cell_type": "code",
   "execution_count": null,
   "metadata": {},
   "outputs": [],
   "source": [
    "bev = torch.tensor(depth_bev(depth[0].detach().cpu().numpy())).unsqueeze(0)\n",
    "bev1 = F.max_pool2d(bev, 2, stride=2)\n",
    "plt.imshow(bev1[0])"
   ]
  },
  {
   "cell_type": "code",
   "execution_count": null,
   "metadata": {},
   "outputs": [],
   "source": [
    "bev2 = F.max_pool2d(bev1, 2, stride=2)\n",
    "plt.imshow(bev2[0])"
   ]
  },
  {
   "cell_type": "code",
   "execution_count": null,
   "metadata": {},
   "outputs": [],
   "source": [
    "bev3 = F.max_pool2d(bev2, 2, stride=2)\n",
    "plt.imshow(bev3[0])"
   ]
  },
  {
   "cell_type": "code",
   "execution_count": null,
   "metadata": {},
   "outputs": [],
   "source": [
    "bev4 = F.max_pool2d(bev3, 2, stride=2)\n",
    "plt.imshow(bev4[0])"
   ]
  },
  {
   "cell_type": "code",
   "execution_count": null,
   "metadata": {},
   "outputs": [],
   "source": [
    "bev5 = F.max_pool2d(bev4, 2, stride=2)\n",
    "plt.imshow(bev5[0])"
   ]
  },
  {
   "cell_type": "code",
   "execution_count": null,
   "metadata": {},
   "outputs": [],
   "source": [
    "\n",
    "# x = net.feature_extractor.conv1(feature, depth)\n",
    "# x = net.feature_extractor.bn1(x)\n",
    "# x = F.relu(x)"
   ]
  },
  {
   "cell_type": "code",
   "execution_count": null,
   "metadata": {},
   "outputs": [],
   "source": []
  },
  {
   "cell_type": "code",
   "execution_count": null,
   "metadata": {},
   "outputs": [],
   "source": [
    "# x.shape"
   ]
  },
  {
   "cell_type": "code",
   "execution_count": null,
   "metadata": {},
   "outputs": [],
   "source": [
    "# plt.imshow(x[0][5].detach().cpu().numpy())"
   ]
  },
  {
   "cell_type": "code",
   "execution_count": null,
   "metadata": {},
   "outputs": [],
   "source": [
    "depth_ = F.avg_pool2d(depth.float(), 2, padding=1, stride=(2,2)).long()"
   ]
  },
  {
   "cell_type": "code",
   "execution_count": null,
   "metadata": {},
   "outputs": [],
   "source": [
    "plt.imshow(depth_[0].detach().cpu().numpy())"
   ]
  },
  {
   "cell_type": "code",
   "execution_count": null,
   "metadata": {},
   "outputs": [],
   "source": [
    "\n"
   ]
  },
  {
   "cell_type": "code",
   "execution_count": null,
   "metadata": {},
   "outputs": [],
   "source": [
    "\n",
    "\n"
   ]
  },
  {
   "cell_type": "code",
   "execution_count": null,
   "metadata": {},
   "outputs": [],
   "source": [
    "for i in car_anchor_i:\n",
    "    x = i % 64\n",
    "    y = i // 64\n",
    "    print(x,y)\n",
    "    "
   ]
  },
  {
   "cell_type": "code",
   "execution_count": null,
   "metadata": {},
   "outputs": [],
   "source": [
    "# example = examples[5]\n",
    "# example = example_convert_to_torch(example, torch.float32)\n",
    "feature = example['feature']\n",
    "if feature.dim() == 3:\n",
    "    feature = feature.unsqueeze(0)\n",
    "with torch.no_grad():\n",
    "    depth = init_depth_from_feature(feature, 512)\n",
    "    \n",
    "plt.figure(figsize = (25,25))\n",
    "plt.imshow(depth[0].detach().cpu().numpy())"
   ]
  },
  {
   "cell_type": "code",
   "execution_count": null,
   "metadata": {},
   "outputs": [],
   "source": [
    "example['metadata']"
   ]
  },
  {
   "cell_type": "code",
   "execution_count": null,
   "metadata": {},
   "outputs": [],
   "source": [
    "\n",
    "\n",
    "\n",
    "car_anchor_i = []\n",
    "for i, t in enumerate(example['reg_targets'][0]):\n",
    "    if t.sum() > 0:\n",
    "        print(i, t)\n",
    "        car_anchor_i.append(i)\n",
    "# car_anchor_i\n",
    "\n",
    "car_anchors = example['anchors'][0][car_anchor_i]\n",
    "car_anchors\n",
    "\n",
    "\n",
    "bev_map = simplevis.kitti_vis(example['points'][0],\n",
    "                              car_anchors.cpu().numpy()  )\n",
    "plt.figure(figsize = (10,10))\n",
    "plt.imshow(bev_map)"
   ]
  },
  {
   "cell_type": "code",
   "execution_count": null,
   "metadata": {},
   "outputs": [],
   "source": []
  },
  {
   "cell_type": "code",
   "execution_count": null,
   "metadata": {},
   "outputs": [],
   "source": []
  },
  {
   "cell_type": "code",
   "execution_count": null,
   "metadata": {},
   "outputs": [],
   "source": []
  },
  {
   "cell_type": "code",
   "execution_count": null,
   "metadata": {},
   "outputs": [],
   "source": []
  },
  {
   "cell_type": "code",
   "execution_count": null,
   "metadata": {},
   "outputs": [],
   "source": []
  }
 ],
 "metadata": {
  "kernelspec": {
   "display_name": "Conda (depconv)",
   "language": "python",
   "name": "depconv"
  },
  "language_info": {
   "codemirror_mode": {
    "name": "ipython",
    "version": 3
   },
   "file_extension": ".py",
   "mimetype": "text/x-python",
   "name": "python",
   "nbconvert_exporter": "python",
   "pygments_lexer": "ipython3",
   "version": "3.7.7"
  }
 },
 "nbformat": 4,
 "nbformat_minor": 2
}
