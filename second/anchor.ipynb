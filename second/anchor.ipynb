{
 "cells": [
  {
   "cell_type": "code",
   "execution_count": 1,
   "metadata": {},
   "outputs": [],
   "source": [
    "import second.builder.anchor_generator_builder as ab\n"
   ]
  },
  {
   "cell_type": "code",
   "execution_count": 63,
   "metadata": {},
   "outputs": [],
   "source": [
    "config_path=\"/home/gx/GitHub/second.pytorch/second/configs/car.fhd.config\"\n",
    "from second.protos import pipeline_pb2\n",
    "from google.protobuf import text_format\n",
    "config = pipeline_pb2.TrainEvalPipelineConfig()\n",
    "with open(config_path, \"r\") as f:\n",
    "    proto_str = f.read()\n",
    "    text_format.Merge(proto_str, config)"
   ]
  },
  {
   "cell_type": "code",
   "execution_count": 64,
   "metadata": {},
   "outputs": [],
   "source": [
    "from second.pytorch.train import build_network\n",
    "input_cfg = config.train_input_reader\n",
    "eval_input_cfg = config.eval_input_reader\n",
    "model_cfg = config.model.second\n",
    "train_cfg = config.train_config\n",
    "net = build_network(model_cfg, False)"
   ]
  },
  {
   "cell_type": "code",
   "execution_count": 65,
   "metadata": {},
   "outputs": [
    {
     "data": {
      "text/plain": [
       "network_class_name: \"VoxelNet\"\n",
       "voxel_generator {\n",
       "  voxel_size: 0.05000000074505806\n",
       "  voxel_size: 0.05000000074505806\n",
       "  voxel_size: 0.10000000149011612\n",
       "  point_cloud_range: 0.0\n",
       "  point_cloud_range: -40.0\n",
       "  point_cloud_range: -3.0\n",
       "  point_cloud_range: 70.4000015258789\n",
       "  point_cloud_range: 40.0\n",
       "  point_cloud_range: 1.0\n",
       "  max_number_of_points_per_voxel: 5\n",
       "}\n",
       "voxel_feature_extractor {\n",
       "  module_class_name: \"SimpleVoxel\"\n",
       "  num_filters: 16\n",
       "  num_input_features: 4\n",
       "}\n",
       "middle_feature_extractor {\n",
       "  module_class_name: \"SpMiddleFHD\"\n",
       "  num_input_features: 4\n",
       "  downsample_factor: 8\n",
       "}\n",
       "rpn {\n",
       "  module_class_name: \"RPNV2\"\n",
       "  layer_nums: 5\n",
       "  layer_strides: 1\n",
       "  num_filters: 128\n",
       "  upsample_strides: 1.0\n",
       "  num_upsample_filters: 128\n",
       "  num_groups: 32\n",
       "  num_input_features: 128\n",
       "}\n",
       "num_point_features: 4\n",
       "use_sigmoid_score: true\n",
       "loss {\n",
       "  localization_loss {\n",
       "    weighted_smooth_l1 {\n",
       "      sigma: 3.0\n",
       "      code_weight: 1.0\n",
       "      code_weight: 1.0\n",
       "      code_weight: 1.0\n",
       "      code_weight: 1.0\n",
       "      code_weight: 1.0\n",
       "      code_weight: 1.0\n",
       "      code_weight: 1.0\n",
       "    }\n",
       "  }\n",
       "  classification_loss {\n",
       "    weighted_sigmoid_focal {\n",
       "      anchorwise_output: true\n",
       "      gamma: 2.0\n",
       "      alpha: 0.25\n",
       "    }\n",
       "  }\n",
       "  classification_weight: 1.0\n",
       "  localization_weight: 2.0\n",
       "}\n",
       "encode_rad_error_by_sin: true\n",
       "encode_background_as_zeros: true\n",
       "use_direction_classifier: true\n",
       "direction_loss_weight: 0.20000000298023224\n",
       "pos_class_weight: 1.0\n",
       "neg_class_weight: 1.0\n",
       "loss_norm_type: NormByNumPositives\n",
       "box_coder {\n",
       "  ground_box3d_coder {\n",
       "  }\n",
       "}\n",
       "target_assigner {\n",
       "  class_settings {\n",
       "    anchor_generator_range {\n",
       "      sizes: 1.600000023841858\n",
       "      sizes: 3.9000000953674316\n",
       "      sizes: 1.559999942779541\n",
       "      anchor_ranges: 0.0\n",
       "      anchor_ranges: -40.0\n",
       "      anchor_ranges: -1.0\n",
       "      anchor_ranges: 70.4000015258789\n",
       "      anchor_ranges: 40.0\n",
       "      anchor_ranges: -1.0\n",
       "      rotations: 0.0\n",
       "      rotations: 1.5700000524520874\n",
       "    }\n",
       "    region_similarity_calculator {\n",
       "      nearest_iou_similarity {\n",
       "      }\n",
       "    }\n",
       "    use_rotate_nms: true\n",
       "    nms_pre_max_size: 1000\n",
       "    nms_post_max_size: 100\n",
       "    nms_score_threshold: 0.30000001192092896\n",
       "    nms_iou_threshold: 0.009999999776482582\n",
       "    matched_threshold: 0.6000000238418579\n",
       "    unmatched_threshold: 0.44999998807907104\n",
       "    class_name: \"Car\"\n",
       "  }\n",
       "  sample_positive_fraction: -1.0\n",
       "  sample_size: 512\n",
       "  assign_per_class: true\n",
       "}\n",
       "post_center_limit_range: 0.0\n",
       "post_center_limit_range: -40.0\n",
       "post_center_limit_range: -2.200000047683716\n",
       "post_center_limit_range: 70.4000015258789\n",
       "post_center_limit_range: 40.0\n",
       "post_center_limit_range: 0.800000011920929\n",
       "sin_error_factor: 1.0\n",
       "num_direction_bins: 2\n",
       "direction_limit_offset: 1.0"
      ]
     },
     "execution_count": 65,
     "metadata": {},
     "output_type": "execute_result"
    }
   ],
   "source": [
    "model_cfg"
   ]
  },
  {
   "cell_type": "code",
   "execution_count": 66,
   "metadata": {},
   "outputs": [],
   "source": [
    "import second.builder.target_assigner_builder as tab"
   ]
  },
  {
   "cell_type": "code",
   "execution_count": 67,
   "metadata": {},
   "outputs": [],
   "source": [
    "target_cfg = config.model.second.target_assigner"
   ]
  },
  {
   "cell_type": "code",
   "execution_count": 68,
   "metadata": {},
   "outputs": [
    {
     "ename": "TypeError",
     "evalue": "build() missing 2 required positional arguments: 'bv_range' and 'box_coder'",
     "output_type": "error",
     "traceback": [
      "\u001b[0;31m---------------------------------------------------------------------------\u001b[0m",
      "\u001b[0;31mTypeError\u001b[0m                                 Traceback (most recent call last)",
      "\u001b[0;32m<ipython-input-68-4a7db3c9dcc1>\u001b[0m in \u001b[0;36m<module>\u001b[0;34m\u001b[0m\n\u001b[0;32m----> 1\u001b[0;31m \u001b[0mta\u001b[0m \u001b[0;34m=\u001b[0m \u001b[0mtab\u001b[0m\u001b[0;34m.\u001b[0m\u001b[0mbuild\u001b[0m\u001b[0;34m(\u001b[0m\u001b[0mtarget_cfg\u001b[0m\u001b[0;34m,\u001b[0m \u001b[0;34m)\u001b[0m\u001b[0;34m\u001b[0m\u001b[0;34m\u001b[0m\u001b[0m\n\u001b[0m",
      "\u001b[0;31mTypeError\u001b[0m: build() missing 2 required positional arguments: 'bv_range' and 'box_coder'"
     ]
    }
   ],
   "source": [
    "ta = tab.build(target_cfg, )"
   ]
  },
  {
   "cell_type": "code",
   "execution_count": 69,
   "metadata": {},
   "outputs": [],
   "source": [
    "from second.builder import target_assigner_builder, voxel_builder\n",
    "from second.pytorch.builder import (box_coder_builder, input_reader_builder,\n",
    "                                    lr_scheduler_builder, optimizer_builder,\n",
    "                                    second_builder)\n",
    "\n",
    "voxel_generator = voxel_builder.build(model_cfg.voxel_generator)\n",
    "bv_range = voxel_generator.point_cloud_range[[0, 1, 3, 4]]\n",
    "box_coder = box_coder_builder.build(model_cfg.box_coder)\n",
    "target_assigner_cfg = model_cfg.target_assigner\n",
    "target_assigner = target_assigner_builder.build(target_assigner_cfg,\n",
    "                                                    bv_range, box_coder)\n",
    "box_coder.custom_ndim = target_assigner._anchor_generators[0].custom_ndim"
   ]
  },
  {
   "cell_type": "code",
   "execution_count": 70,
   "metadata": {},
   "outputs": [
    {
     "data": {
      "text/plain": [
       "array([  0. , -40. ,  70.4,  40. ], dtype=float32)"
      ]
     },
     "execution_count": 70,
     "metadata": {},
     "output_type": "execute_result"
    }
   ],
   "source": [
    "bv_range"
   ]
  },
  {
   "cell_type": "code",
   "execution_count": 71,
   "metadata": {},
   "outputs": [
    {
     "data": {
      "text/plain": [
       "<second.pytorch.core.box_coders.GroundBox3dCoderTorch at 0x7f4327dc9710>"
      ]
     },
     "execution_count": 71,
     "metadata": {},
     "output_type": "execute_result"
    }
   ],
   "source": [
    "box_coder"
   ]
  },
  {
   "cell_type": "code",
   "execution_count": 72,
   "metadata": {},
   "outputs": [
    {
     "data": {
      "text/plain": [
       "7"
      ]
     },
     "execution_count": 72,
     "metadata": {},
     "output_type": "execute_result"
    }
   ],
   "source": [
    "box_coder.code_size"
   ]
  },
  {
   "cell_type": "code",
   "execution_count": 73,
   "metadata": {},
   "outputs": [
    {
     "data": {
      "text/plain": [
       "0"
      ]
     },
     "execution_count": 73,
     "metadata": {},
     "output_type": "execute_result"
    }
   ],
   "source": [
    "box_coder.custom_ndim"
   ]
  },
  {
   "cell_type": "code",
   "execution_count": 74,
   "metadata": {},
   "outputs": [
    {
     "data": {
      "text/plain": [
       "False"
      ]
     },
     "execution_count": 74,
     "metadata": {},
     "output_type": "execute_result"
    }
   ],
   "source": [
    "box_coder.linear_dim"
   ]
  },
  {
   "cell_type": "code",
   "execution_count": 75,
   "metadata": {},
   "outputs": [],
   "source": [
    "# box encode: \n",
    "# input box: [N, 7+?] Tensor, xyzwlhr, custom values\n",
    "# anchors  [N, 7] Tensor, xyzwlhr\n",
    "# return encoded xyzwlhr"
   ]
  },
  {
   "cell_type": "code",
   "execution_count": 76,
   "metadata": {},
   "outputs": [
    {
     "data": {
      "text/plain": [
       "ground_box3d_coder {\n",
       "}"
      ]
     },
     "execution_count": 76,
     "metadata": {},
     "output_type": "execute_result"
    }
   ],
   "source": [
    "model_cfg.box_coder"
   ]
  },
  {
   "cell_type": "code",
   "execution_count": 77,
   "metadata": {},
   "outputs": [
    {
     "data": {
      "text/plain": [
       "class_settings {\n",
       "  anchor_generator_range {\n",
       "    sizes: 1.600000023841858\n",
       "    sizes: 3.9000000953674316\n",
       "    sizes: 1.559999942779541\n",
       "    anchor_ranges: 0.0\n",
       "    anchor_ranges: -40.0\n",
       "    anchor_ranges: -1.0\n",
       "    anchor_ranges: 70.4000015258789\n",
       "    anchor_ranges: 40.0\n",
       "    anchor_ranges: -1.0\n",
       "    rotations: 0.0\n",
       "    rotations: 1.5700000524520874\n",
       "  }\n",
       "  region_similarity_calculator {\n",
       "    nearest_iou_similarity {\n",
       "    }\n",
       "  }\n",
       "  use_rotate_nms: true\n",
       "  nms_pre_max_size: 1000\n",
       "  nms_post_max_size: 100\n",
       "  nms_score_threshold: 0.30000001192092896\n",
       "  nms_iou_threshold: 0.009999999776482582\n",
       "  matched_threshold: 0.6000000238418579\n",
       "  unmatched_threshold: 0.44999998807907104\n",
       "  class_name: \"Car\"\n",
       "}\n",
       "sample_positive_fraction: -1.0\n",
       "sample_size: 512\n",
       "assign_per_class: true"
      ]
     },
     "execution_count": 77,
     "metadata": {},
     "output_type": "execute_result"
    }
   ],
   "source": [
    "target_assigner_cfg"
   ]
  },
  {
   "cell_type": "code",
   "execution_count": 78,
   "metadata": {},
   "outputs": [
    {
     "data": {
      "text/plain": [
       "['_box_coder',\n",
       " '_anchor_generators',\n",
       " '_sim_calcs',\n",
       " '_positive_fraction',\n",
       " '_sample_size',\n",
       " '_classes',\n",
       " '_assign_per_class',\n",
       " '_feature_map_sizes',\n",
       " '__module__',\n",
       " '__init__',\n",
       " 'box_coder',\n",
       " 'classes',\n",
       " 'assign',\n",
       " 'assign_all',\n",
       " 'assign_per_class',\n",
       " 'generate_anchors',\n",
       " 'generate_anchors_dict',\n",
       " 'num_anchors_per_location',\n",
       " 'box_ndim',\n",
       " 'num_anchors',\n",
       " 'anchors_range',\n",
       " 'num_anchors_per_location_class',\n",
       " '__dict__',\n",
       " '__weakref__',\n",
       " '__doc__',\n",
       " '__repr__',\n",
       " '__hash__',\n",
       " '__str__',\n",
       " '__getattribute__',\n",
       " '__setattr__',\n",
       " '__delattr__',\n",
       " '__lt__',\n",
       " '__le__',\n",
       " '__eq__',\n",
       " '__ne__',\n",
       " '__gt__',\n",
       " '__ge__',\n",
       " '__new__',\n",
       " '__reduce_ex__',\n",
       " '__reduce__',\n",
       " '__subclasshook__',\n",
       " '__init_subclass__',\n",
       " '__format__',\n",
       " '__sizeof__',\n",
       " '__dir__',\n",
       " '__class__']"
      ]
     },
     "execution_count": 78,
     "metadata": {},
     "output_type": "execute_result"
    }
   ],
   "source": [
    "target_assigner.__dir__()"
   ]
  },
  {
   "cell_type": "code",
   "execution_count": null,
   "metadata": {},
   "outputs": [],
   "source": []
  },
  {
   "cell_type": "code",
   "execution_count": 79,
   "metadata": {},
   "outputs": [
    {
     "data": {
      "text/plain": [
       "array([1408, 1600,   40])"
      ]
     },
     "execution_count": 79,
     "metadata": {},
     "output_type": "execute_result"
    }
   ],
   "source": [
    "grid_size = voxel_generator.grid_size\n",
    "grid_size"
   ]
  },
  {
   "cell_type": "code",
   "execution_count": 80,
   "metadata": {},
   "outputs": [
    {
     "data": {
      "text/plain": [
       "8"
      ]
     },
     "execution_count": 80,
     "metadata": {},
     "output_type": "execute_result"
    }
   ],
   "source": [
    "from second.utils.config_tool import get_downsample_factor\n",
    "\n",
    "out_size_factor = get_downsample_factor(model_cfg)\n",
    "out_size_factor"
   ]
  },
  {
   "cell_type": "code",
   "execution_count": 81,
   "metadata": {},
   "outputs": [
    {
     "data": {
      "text/plain": [
       "array([176, 200])"
      ]
     },
     "execution_count": 81,
     "metadata": {},
     "output_type": "execute_result"
    }
   ],
   "source": [
    "feature_map_size = grid_size[:2] // out_size_factor\n",
    "feature_map_size"
   ]
  },
  {
   "cell_type": "code",
   "execution_count": 82,
   "metadata": {},
   "outputs": [
    {
     "data": {
      "text/plain": [
       "[1, 200, 176]"
      ]
     },
     "execution_count": 82,
     "metadata": {},
     "output_type": "execute_result"
    }
   ],
   "source": [
    "feature_map_size = [*feature_map_size, 1][::-1]\n",
    "feature_map_size  # [1,64,64]"
   ]
  },
  {
   "cell_type": "code",
   "execution_count": 83,
   "metadata": {},
   "outputs": [
    {
     "name": "stdout",
     "output_type": "stream",
     "text": [
      "feautres size [1, 200, 176]\n",
      "res = (1, 200, 176, 1, 2, 7)\n"
     ]
    }
   ],
   "source": [
    "anchors = target_assigner.generate_anchors(feature_map_size)"
   ]
  },
  {
   "cell_type": "code",
   "execution_count": 84,
   "metadata": {},
   "outputs": [
    {
     "data": {
      "text/plain": [
       "{'anchors': array([[  0.        , -40.        ,  -1.        , ...,   3.9       ,\n",
       "           1.56      ,   0.        ],\n",
       "        [  0.40228572, -40.        ,  -1.        , ...,   3.9       ,\n",
       "           1.56      ,   0.        ],\n",
       "        [  0.80457145, -40.        ,  -1.        , ...,   3.9       ,\n",
       "           1.56      ,   0.        ],\n",
       "        ...,\n",
       "        [ 69.59543   ,  40.        ,  -1.        , ...,   3.9       ,\n",
       "           1.56      ,   1.57      ],\n",
       "        [ 69.99772   ,  40.        ,  -1.        , ...,   3.9       ,\n",
       "           1.56      ,   1.57      ],\n",
       "        [ 70.4       ,  40.        ,  -1.        , ...,   3.9       ,\n",
       "           1.56      ,   1.57      ]], dtype=float32),\n",
       " 'matched_thresholds': array([0.6, 0.6, 0.6, ..., 0.6, 0.6, 0.6], dtype=float32),\n",
       " 'unmatched_thresholds': array([0.45, 0.45, 0.45, ..., 0.45, 0.45, 0.45], dtype=float32)}"
      ]
     },
     "execution_count": 84,
     "metadata": {},
     "output_type": "execute_result"
    }
   ],
   "source": [
    "anchors"
   ]
  },
  {
   "cell_type": "code",
   "execution_count": 85,
   "metadata": {},
   "outputs": [
    {
     "data": {
      "text/plain": [
       "(70400, 7)"
      ]
     },
     "execution_count": 85,
     "metadata": {},
     "output_type": "execute_result"
    }
   ],
   "source": [
    "anchors['anchors'].shape"
   ]
  },
  {
   "cell_type": "code",
   "execution_count": 86,
   "metadata": {},
   "outputs": [
    {
     "data": {
      "text/plain": [
       "array([  0.  , -40.  ,  -1.  ,   1.6 ,   3.9 ,   1.56,   0.  ],\n",
       "      dtype=float32)"
      ]
     },
     "execution_count": 86,
     "metadata": {},
     "output_type": "execute_result"
    }
   ],
   "source": [
    "# generate 64 * 64 *2  anchors\n",
    "anchors['anchors'][0]"
   ]
  },
  {
   "cell_type": "code",
   "execution_count": 87,
   "metadata": {},
   "outputs": [
    {
     "name": "stdout",
     "output_type": "stream",
     "text": [
      "[  0.   -40.    -1.     1.6    3.9    1.56   0.  ]\n",
      "[  0.40228572 -40.          -1.           1.6          3.9\n",
      "   1.56         0.        ]\n",
      "[  0.80457145 -40.          -1.           1.6          3.9\n",
      "   1.56         0.        ]\n",
      "[  1.2068572 -40.         -1.          1.6         3.9         1.56\n",
      "   0.       ]\n",
      "[  1.6091429 -40.         -1.          1.6         3.9         1.56\n",
      "   0.       ]\n",
      "[  2.0114286 -40.         -1.          1.6         3.9         1.56\n",
      "   0.       ]\n",
      "[  2.4137144 -40.         -1.          1.6         3.9         1.56\n",
      "   0.       ]\n",
      "[  2.816 -40.     -1.      1.6     3.9     1.56    0.   ]\n",
      "[  3.2182858 -40.         -1.          1.6         3.9         1.56\n",
      "   0.       ]\n",
      "[  3.6205716 -40.         -1.          1.6         3.9         1.56\n",
      "   0.       ]\n",
      "[  4.022857 -40.        -1.         1.6        3.9        1.56\n",
      "   0.      ]\n",
      "[  4.425143 -40.        -1.         1.6        3.9        1.56\n",
      "   0.      ]\n",
      "[  4.827429 -40.        -1.         1.6        3.9        1.56\n",
      "   0.      ]\n",
      "[  5.2297144 -40.         -1.          1.6         3.9         1.56\n",
      "   0.       ]\n",
      "[  5.632 -40.     -1.      1.6     3.9     1.56    0.   ]\n",
      "[  6.034286 -40.        -1.         1.6        3.9        1.56\n",
      "   0.      ]\n",
      "[  6.4365716 -40.         -1.          1.6         3.9         1.56\n",
      "   0.       ]\n",
      "[  6.838857 -40.        -1.         1.6        3.9        1.56\n",
      "   0.      ]\n",
      "[  7.241143 -40.        -1.         1.6        3.9        1.56\n",
      "   0.      ]\n",
      "[  7.643429 -40.        -1.         1.6        3.9        1.56\n",
      "   0.      ]\n",
      "[  8.045714 -40.        -1.         1.6        3.9        1.56\n",
      "   0.      ]\n",
      "[  8.448 -40.     -1.      1.6     3.9     1.56    0.   ]\n",
      "[  8.850286 -40.        -1.         1.6        3.9        1.56\n",
      "   0.      ]\n",
      "[  9.252572 -40.        -1.         1.6        3.9        1.56\n",
      "   0.      ]\n",
      "[  9.654858 -40.        -1.         1.6        3.9        1.56\n",
      "   0.      ]\n",
      "[ 10.057143 -40.        -1.         1.6        3.9        1.56\n",
      "   0.      ]\n",
      "[ 10.459429 -40.        -1.         1.6        3.9        1.56\n",
      "   0.      ]\n",
      "[ 10.861714 -40.        -1.         1.6        3.9        1.56\n",
      "   0.      ]\n",
      "[ 11.264 -40.     -1.      1.6     3.9     1.56    0.   ]\n",
      "[ 11.6662855 -40.         -1.          1.6         3.9         1.56\n",
      "   0.       ]\n",
      "[ 12.068572 -40.        -1.         1.6        3.9        1.56\n",
      "   0.      ]\n",
      "[ 12.470858 -40.        -1.         1.6        3.9        1.56\n",
      "   0.      ]\n",
      "[ 12.873143 -40.        -1.         1.6        3.9        1.56\n",
      "   0.      ]\n",
      "[ 13.275429 -40.        -1.         1.6        3.9        1.56\n",
      "   0.      ]\n",
      "[ 13.677714 -40.        -1.         1.6        3.9        1.56\n",
      "   0.      ]\n",
      "[ 14.08 -40.    -1.     1.6    3.9    1.56   0.  ]\n",
      "[ 14.482286 -40.        -1.         1.6        3.9        1.56\n",
      "   0.      ]\n",
      "[ 14.884572 -40.        -1.         1.6        3.9        1.56\n",
      "   0.      ]\n",
      "[ 15.286858 -40.        -1.         1.6        3.9        1.56\n",
      "   0.      ]\n",
      "[ 15.689143 -40.        -1.         1.6        3.9        1.56\n",
      "   0.      ]\n",
      "[ 16.091429 -40.        -1.         1.6        3.9        1.56\n",
      "   0.      ]\n",
      "[ 16.493715 -40.        -1.         1.6        3.9        1.56\n",
      "   0.      ]\n",
      "[ 16.896 -40.     -1.      1.6     3.9     1.56    0.   ]\n",
      "[ 17.298286 -40.        -1.         1.6        3.9        1.56\n",
      "   0.      ]\n",
      "[ 17.700571 -40.        -1.         1.6        3.9        1.56\n",
      "   0.      ]\n",
      "[ 18.102858 -40.        -1.         1.6        3.9        1.56\n",
      "   0.      ]\n",
      "[ 18.505144 -40.        -1.         1.6        3.9        1.56\n",
      "   0.      ]\n",
      "[ 18.907429 -40.        -1.         1.6        3.9        1.56\n",
      "   0.      ]\n",
      "[ 19.309715 -40.        -1.         1.6        3.9        1.56\n",
      "   0.      ]\n",
      "[ 19.712 -40.     -1.      1.6     3.9     1.56    0.   ]\n",
      "[ 20.114286 -40.        -1.         1.6        3.9        1.56\n",
      "   0.      ]\n",
      "[ 20.516571 -40.        -1.         1.6        3.9        1.56\n",
      "   0.      ]\n",
      "[ 20.918858 -40.        -1.         1.6        3.9        1.56\n",
      "   0.      ]\n",
      "[ 21.321144 -40.        -1.         1.6        3.9        1.56\n",
      "   0.      ]\n",
      "[ 21.723429 -40.        -1.         1.6        3.9        1.56\n",
      "   0.      ]\n",
      "[ 22.125715 -40.        -1.         1.6        3.9        1.56\n",
      "   0.      ]\n",
      "[ 22.528 -40.     -1.      1.6     3.9     1.56    0.   ]\n",
      "[ 22.930286 -40.        -1.         1.6        3.9        1.56\n",
      "   0.      ]\n",
      "[ 23.332571 -40.        -1.         1.6        3.9        1.56\n",
      "   0.      ]\n",
      "[ 23.734858 -40.        -1.         1.6        3.9        1.56\n",
      "   0.      ]\n",
      "[ 24.137144 -40.        -1.         1.6        3.9        1.56\n",
      "   0.      ]\n",
      "[ 24.539429 -40.        -1.         1.6        3.9        1.56\n",
      "   0.      ]\n",
      "[ 24.941715 -40.        -1.         1.6        3.9        1.56\n",
      "   0.      ]\n",
      "[ 25.344 -40.     -1.      1.6     3.9     1.56    0.   ]\n",
      "[ 25.746286 -40.        -1.         1.6        3.9        1.56\n",
      "   0.      ]\n",
      "[ 26.148573 -40.        -1.         1.6        3.9        1.56\n",
      "   0.      ]\n",
      "[ 26.550858 -40.        -1.         1.6        3.9        1.56\n",
      "   0.      ]\n",
      "[ 26.953144 -40.        -1.         1.6        3.9        1.56\n",
      "   0.      ]\n",
      "[ 27.355429 -40.        -1.         1.6        3.9        1.56\n",
      "   0.      ]\n",
      "[ 27.757715 -40.        -1.         1.6        3.9        1.56\n",
      "   0.      ]\n",
      "[ 28.16 -40.    -1.     1.6    3.9    1.56   0.  ]\n",
      "[ 28.562286 -40.        -1.         1.6        3.9        1.56\n",
      "   0.      ]\n",
      "[ 28.964573 -40.        -1.         1.6        3.9        1.56\n",
      "   0.      ]\n",
      "[ 29.366858 -40.        -1.         1.6        3.9        1.56\n",
      "   0.      ]\n",
      "[ 29.769144 -40.        -1.         1.6        3.9        1.56\n",
      "   0.      ]\n",
      "[ 30.171429 -40.        -1.         1.6        3.9        1.56\n",
      "   0.      ]\n",
      "[ 30.573715 -40.        -1.         1.6        3.9        1.56\n",
      "   0.      ]\n",
      "[ 30.976 -40.     -1.      1.6     3.9     1.56    0.   ]\n",
      "[ 31.378286 -40.        -1.         1.6        3.9        1.56\n",
      "   0.      ]\n",
      "[ 31.780573 -40.        -1.         1.6        3.9        1.56\n",
      "   0.      ]\n",
      "[ 32.182858 -40.        -1.         1.6        3.9        1.56\n",
      "   0.      ]\n",
      "[ 32.585144 -40.        -1.         1.6        3.9        1.56\n",
      "   0.      ]\n",
      "[ 32.98743 -40.       -1.        1.6       3.9       1.56      0.     ]\n",
      "[ 33.389713 -40.        -1.         1.6        3.9        1.56\n",
      "   0.      ]\n",
      "[ 33.792 -40.     -1.      1.6     3.9     1.56    0.   ]\n",
      "[ 34.194286 -40.        -1.         1.6        3.9        1.56\n",
      "   0.      ]\n",
      "[ 34.596573 -40.        -1.         1.6        3.9        1.56\n",
      "   0.      ]\n",
      "[ 34.99886 -40.       -1.        1.6       3.9       1.56      0.     ]\n",
      "[ 35.401142 -40.        -1.         1.6        3.9        1.56\n",
      "   0.      ]\n",
      "[ 35.80343 -40.       -1.        1.6       3.9       1.56      0.     ]\n",
      "[ 36.205715 -40.        -1.         1.6        3.9        1.56\n",
      "   0.      ]\n",
      "[ 36.608 -40.     -1.      1.6     3.9     1.56    0.   ]\n",
      "[ 37.01029 -40.       -1.        1.6       3.9       1.56      0.     ]\n",
      "[ 37.41257 -40.       -1.        1.6       3.9       1.56      0.     ]\n",
      "[ 37.814857 -40.        -1.         1.6        3.9        1.56\n",
      "   0.      ]\n",
      "[ 38.217144 -40.        -1.         1.6        3.9        1.56\n",
      "   0.      ]\n",
      "[ 38.61943 -40.       -1.        1.6       3.9       1.56      0.     ]\n",
      "[ 39.021713 -40.        -1.         1.6        3.9        1.56\n",
      "   0.      ]\n",
      "[ 39.424 -40.     -1.      1.6     3.9     1.56    0.   ]\n",
      "[ 39.826286 -40.        -1.         1.6        3.9        1.56\n",
      "   0.      ]\n"
     ]
    }
   ],
   "source": [
    "for i in range(100):\n",
    "    print(anchors['anchors'][i])"
   ]
  },
  {
   "cell_type": "code",
   "execution_count": 88,
   "metadata": {},
   "outputs": [
    {
     "data": {
      "text/plain": [
       "RPNV2(\n",
       "  (blocks): ModuleList(\n",
       "    (0): Sequential(\n",
       "      (0): ZeroPad2d(padding=(1, 1, 1, 1), value=0.0)\n",
       "      (1): Conv2d(128, 128, kernel_size=(3, 3), stride=(1, 1), bias=False)\n",
       "      (2): BatchNorm2d(128, eps=0.001, momentum=0.01, affine=True, track_running_stats=True)\n",
       "      (3): ReLU()\n",
       "      (4): Conv2d(128, 128, kernel_size=(3, 3), stride=(1, 1), padding=(1, 1), bias=False)\n",
       "      (5): BatchNorm2d(128, eps=0.001, momentum=0.01, affine=True, track_running_stats=True)\n",
       "      (6): ReLU()\n",
       "      (7): Conv2d(128, 128, kernel_size=(3, 3), stride=(1, 1), padding=(1, 1), bias=False)\n",
       "      (8): BatchNorm2d(128, eps=0.001, momentum=0.01, affine=True, track_running_stats=True)\n",
       "      (9): ReLU()\n",
       "      (10): Conv2d(128, 128, kernel_size=(3, 3), stride=(1, 1), padding=(1, 1), bias=False)\n",
       "      (11): BatchNorm2d(128, eps=0.001, momentum=0.01, affine=True, track_running_stats=True)\n",
       "      (12): ReLU()\n",
       "      (13): Conv2d(128, 128, kernel_size=(3, 3), stride=(1, 1), padding=(1, 1), bias=False)\n",
       "      (14): BatchNorm2d(128, eps=0.001, momentum=0.01, affine=True, track_running_stats=True)\n",
       "      (15): ReLU()\n",
       "      (16): Conv2d(128, 128, kernel_size=(3, 3), stride=(1, 1), padding=(1, 1), bias=False)\n",
       "      (17): BatchNorm2d(128, eps=0.001, momentum=0.01, affine=True, track_running_stats=True)\n",
       "      (18): ReLU()\n",
       "    )\n",
       "  )\n",
       "  (deblocks): ModuleList(\n",
       "    (0): Sequential(\n",
       "      (0): ConvTranspose2d(128, 128, kernel_size=(1, 1), stride=(1, 1), bias=False)\n",
       "      (1): BatchNorm2d(128, eps=0.001, momentum=0.01, affine=True, track_running_stats=True)\n",
       "      (2): ReLU()\n",
       "    )\n",
       "  )\n",
       "  (conv_cls): Conv2d(128, 2, kernel_size=(1, 1), stride=(1, 1))\n",
       "  (conv_box): Conv2d(128, 14, kernel_size=(1, 1), stride=(1, 1))\n",
       "  (conv_dir_cls): Conv2d(128, 4, kernel_size=(1, 1), stride=(1, 1))\n",
       ")"
      ]
     },
     "execution_count": 88,
     "metadata": {},
     "output_type": "execute_result"
    }
   ],
   "source": [
    "net.rpn"
   ]
  },
  {
   "cell_type": "code",
   "execution_count": null,
   "metadata": {},
   "outputs": [],
   "source": []
  },
  {
   "cell_type": "code",
   "execution_count": null,
   "metadata": {},
   "outputs": [],
   "source": []
  },
  {
   "cell_type": "code",
   "execution_count": null,
   "metadata": {},
   "outputs": [],
   "source": []
  }
 ],
 "metadata": {
  "kernelspec": {
   "display_name": "conda depconv",
   "language": "python",
   "name": "depconv"
  },
  "language_info": {
   "codemirror_mode": {
    "name": "ipython",
    "version": 3
   },
   "file_extension": ".py",
   "mimetype": "text/x-python",
   "name": "python",
   "nbconvert_exporter": "python",
   "pygments_lexer": "ipython3",
   "version": "3.6.9"
  }
 },
 "nbformat": 4,
 "nbformat_minor": 4
}
