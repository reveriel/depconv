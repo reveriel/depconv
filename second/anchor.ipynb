{
 "cells": [
  {
   "cell_type": "code",
   "execution_count": 1,
   "metadata": {},
   "outputs": [],
   "source": [
    "import second.builder.anchor_generator_builder as ab\n",
    "import torch\n",
    "from google.protobuf import text_format\n",
    "from second.utils import simplevis\n",
    "from second.pytorch.train import build_network\n",
    "from second.protos import pipeline_pb2\n",
    "from second.utils import config_tool\n",
    "from pathlib import Path\n",
    "import pickle\n",
    "import numpy as np\n",
    "import matplotlib.pyplot as plt"
   ]
  },
  {
   "cell_type": "code",
   "execution_count": 2,
   "metadata": {},
   "outputs": [],
   "source": [
    "# load config file\n",
    "config_path=\"/home/gx/GitHub/depconv/second/configs/car.fhd.config\"\n",
    "from second.protos import pipeline_pb2\n",
    "from google.protobuf import text_format\n",
    "config = pipeline_pb2.TrainEvalPipelineConfig()\n",
    "with open(config_path, \"r\") as f:\n",
    "    proto_str = f.read()\n",
    "    text_format.Merge(proto_str, config)"
   ]
  },
  {
   "cell_type": "code",
   "execution_count": 3,
   "metadata": {},
   "outputs": [
    {
     "name": "stdout",
     "output_type": "stream",
     "text": [
      "rpn debug, final_num_filters =  128\n",
      "rpn debug, num_cls =  2\n",
      "rpn debug, num_anchor_per_loc =  2\n"
     ]
    }
   ],
   "source": [
    "# build network\n",
    "from second.pytorch.train import build_network\n",
    "input_cfg = config.train_input_reader\n",
    "eval_input_cfg = config.eval_input_reader\n",
    "model_cfg = config.model.second\n",
    "train_cfg = config.train_config\n",
    "net = build_network(model_cfg, False)"
   ]
  },
  {
   "cell_type": "code",
   "execution_count": null,
   "metadata": {},
   "outputs": [],
   "source": [
    "#model_cfg"
   ]
  },
  {
   "cell_type": "code",
   "execution_count": 8,
   "metadata": {},
   "outputs": [],
   "source": [
    "# builid seperately\n",
    "from second.builder import target_assigner_builder, voxel_builder\n",
    "from second.pytorch.builder import (box_coder_builder, input_reader_builder,\n",
    "                                    lr_scheduler_builder, optimizer_builder,\n",
    "                                    second_builder)\n",
    "\n",
    "voxel_generator = voxel_builder.build(model_cfg.voxel_generator)\n",
    "bv_range = voxel_generator.point_cloud_range[[0, 1, 3, 4]]\n",
    "box_coder = box_coder_builder.build(model_cfg.box_coder)\n",
    "target_assigner_cfg = model_cfg.target_assigner\n",
    "target_assigner = target_assigner_builder.build(target_assigner_cfg,\n",
    "                                                    bv_range, box_coder)\n",
    "box_coder.custom_ndim = target_assigner._anchor_generators[0].custom_ndim"
   ]
  },
  {
   "cell_type": "code",
   "execution_count": 9,
   "metadata": {},
   "outputs": [
    {
     "data": {
      "text/plain": [
       "array([  0. , -40. ,  70.4,  40. ], dtype=float32)"
      ]
     },
     "execution_count": 9,
     "metadata": {},
     "output_type": "execute_result"
    }
   ],
   "source": [
    "bv_range"
   ]
  },
  {
   "cell_type": "code",
   "execution_count": 14,
   "metadata": {},
   "outputs": [],
   "source": [
    "# box encode: \n",
    "# input box: [N, 7+?] Tensor, xyzwlhr, custom values\n",
    "# anchors  [N, 7] Tensor, xyzwlhr\n",
    "# return encoded xyzwlhr"
   ]
  },
  {
   "cell_type": "code",
   "execution_count": 15,
   "metadata": {
    "scrolled": true
   },
   "outputs": [
    {
     "data": {
      "text/plain": [
       "ground_box3d_coder {\n",
       "}"
      ]
     },
     "execution_count": 15,
     "metadata": {},
     "output_type": "execute_result"
    }
   ],
   "source": [
    "model_cfg.box_coder"
   ]
  },
  {
   "cell_type": "code",
   "execution_count": 16,
   "metadata": {},
   "outputs": [
    {
     "data": {
      "text/plain": [
       "class_settings {\n",
       "  anchor_generator_sphere_range {\n",
       "    sizes: 1.600000023841858\n",
       "    sizes: 3.9000000953674316\n",
       "    sizes: 1.559999942779541\n",
       "    anchor_ranges: 0.0\n",
       "    anchor_ranges: -40.0\n",
       "    anchor_ranges: -1.0\n",
       "    anchor_ranges: 70.4000015258789\n",
       "    anchor_ranges: 40.0\n",
       "    anchor_ranges: -1.0\n",
       "    anchor_sphere_ranges: 0.0\n",
       "    anchor_sphere_ranges: 70.0\n",
       "    anchor_sphere_ranges: -0.7853981852531433\n",
       "    anchor_sphere_ranges: 0.7853981852531433\n",
       "    rotations: 0.0\n",
       "    rotations: 1.5700000524520874\n",
       "  }\n",
       "  region_similarity_calculator {\n",
       "    nearest_iou_similarity {\n",
       "    }\n",
       "  }\n",
       "  use_rotate_nms: true\n",
       "  nms_pre_max_size: 1000\n",
       "  nms_post_max_size: 100\n",
       "  nms_score_threshold: 0.30000001192092896\n",
       "  nms_iou_threshold: 0.009999999776482582\n",
       "  matched_threshold: 0.5\n",
       "  unmatched_threshold: 0.30000001192092896\n",
       "  class_name: \"Car\"\n",
       "}\n",
       "sample_positive_fraction: -1.0\n",
       "sample_size: 512\n",
       "assign_per_class: true"
      ]
     },
     "execution_count": 16,
     "metadata": {},
     "output_type": "execute_result"
    }
   ],
   "source": [
    "target_assigner_cfg"
   ]
  },
  {
   "cell_type": "code",
   "execution_count": 17,
   "metadata": {},
   "outputs": [
    {
     "data": {
      "text/plain": [
       "array([512, 512,  64])"
      ]
     },
     "execution_count": 17,
     "metadata": {},
     "output_type": "execute_result"
    }
   ],
   "source": [
    "grid_size = voxel_generator.grid_size\n",
    "grid_size"
   ]
  },
  {
   "cell_type": "code",
   "execution_count": 18,
   "metadata": {},
   "outputs": [
    {
     "data": {
      "text/plain": [
       "8"
      ]
     },
     "execution_count": 18,
     "metadata": {},
     "output_type": "execute_result"
    }
   ],
   "source": [
    "from second.utils.config_tool import get_downsample_factor\n",
    "out_size_factor = get_downsample_factor(model_cfg)\n",
    "out_size_factor"
   ]
  },
  {
   "cell_type": "code",
   "execution_count": 19,
   "metadata": {},
   "outputs": [
    {
     "data": {
      "text/plain": [
       "array([64, 64])"
      ]
     },
     "execution_count": 19,
     "metadata": {},
     "output_type": "execute_result"
    }
   ],
   "source": [
    "feature_map_size = grid_size[:2] // out_size_factor\n",
    "feature_map_size"
   ]
  },
  {
   "cell_type": "code",
   "execution_count": 20,
   "metadata": {},
   "outputs": [
    {
     "data": {
      "text/plain": [
       "[1, 64, 64]"
      ]
     },
     "execution_count": 20,
     "metadata": {},
     "output_type": "execute_result"
    }
   ],
   "source": [
    "feature_map_size = [*feature_map_size, 1][::-1]\n",
    "feature_map_size  # [1,64,64]"
   ]
  },
  {
   "cell_type": "code",
   "execution_count": 21,
   "metadata": {},
   "outputs": [
    {
     "name": "stdout",
     "output_type": "stream",
     "text": [
      "feautres size [1, 64, 64]\n",
      "res = (1, 64, 64, 1, 2, 7)\n"
     ]
    }
   ],
   "source": [
    "anchors = target_assigner.generate_anchors(feature_map_size)"
   ]
  },
  {
   "cell_type": "code",
   "execution_count": 22,
   "metadata": {},
   "outputs": [],
   "source": [
    "anchors['anchors'].shape\n",
    "anchors = anchors['anchors']"
   ]
  },
  {
   "cell_type": "code",
   "execution_count": null,
   "metadata": {},
   "outputs": [],
   "source": [
    "\n",
    "# config_tool.change_detection_range(model_cfg, [-50, -50, 50, 50])\n",
    "device = torch.device(\"cuda\" if torch.cuda.is_available() else \"cpu\")\n",
    "info_path = input_cfg.dataset.kitti_info_path\n",
    "root_path = Path(input_cfg.dataset.kitti_root_path)\n",
    "with open(info_path, 'rb') as f:\n",
    "    infos = pickle.load(f)\n",
    "    \n",
    "info = infos[564]\n",
    "v_path = info[\"point_cloud\"]['velodyne_path']\n",
    "v_path = str(root_path / v_path)\n",
    "points = np.fromfile(\n",
    "    v_path, dtype=np.float32, count=-1).reshape([-1, 4])\n",
    "\n",
    "\n",
    "\n",
    "# boxes_lidar = boxes.detach().cpu().numpy()\n",
    "vis_voxel_size = [0.1, 0.1, 0.1]\n",
    "# vis_point_range = [-50, -30, -3, 50, 30, 1]\n",
    "vis_point_range = [0, -40, -3, 80, 40, 1]\n",
    "# bev_map = simplevis.point_to_vis_bev(points, vis_voxel_size, vis_point_range)\n",
    "# bev_map = simplevis.draw_box_in_bev(bev_map, vis_point_range, anchors.reshape(-1,7)[::19,:], [0,255,0], 2)\n",
    "\n",
    "bev_map = simplevis.kitti_vis(points, anchors.reshape(-1,7)[::30,:])\n",
    "plt.imshow(bev_map)"
   ]
  },
  {
   "cell_type": "code",
   "execution_count": 24,
   "metadata": {},
   "outputs": [
    {
     "ename": "IndexError",
     "evalue": "only integers, slices (`:`), ellipsis (`...`), numpy.newaxis (`None`) and integer or boolean arrays are valid indices",
     "output_type": "error",
     "traceback": [
      "\u001b[0;31m---------------------------------------------------------------------------\u001b[0m",
      "\u001b[0;31mIndexError\u001b[0m                                Traceback (most recent call last)",
      "\u001b[0;32m<ipython-input-24-0fa482aed22f>\u001b[0m in \u001b[0;36m<module>\u001b[0;34m\u001b[0m\n\u001b[1;32m      1\u001b[0m \u001b[0;31m# generate 64 * 64 *2  anchors\u001b[0m\u001b[0;34m\u001b[0m\u001b[0;34m\u001b[0m\u001b[0;34m\u001b[0m\u001b[0m\n\u001b[0;32m----> 2\u001b[0;31m \u001b[0manchors\u001b[0m\u001b[0;34m[\u001b[0m\u001b[0;34m'anchors'\u001b[0m\u001b[0;34m]\u001b[0m\u001b[0;34m[\u001b[0m\u001b[0;36m0\u001b[0m\u001b[0;34m]\u001b[0m\u001b[0;34m\u001b[0m\u001b[0;34m\u001b[0m\u001b[0m\n\u001b[0m",
      "\u001b[0;31mIndexError\u001b[0m: only integers, slices (`:`), ellipsis (`...`), numpy.newaxis (`None`) and integer or boolean arrays are valid indices"
     ]
    }
   ],
   "source": [
    "# generate 64 * 64 *2  anchors\n",
    "anchors['anchors'][0]"
   ]
  },
  {
   "cell_type": "code",
   "execution_count": null,
   "metadata": {},
   "outputs": [],
   "source": [
    "\n",
    "\n",
    "from second.core.box_np_ops import create_anchors_3d_sphere_range\n",
    "create_anchors_3d_sphere_range(feature_map_size, )"
   ]
  },
  {
   "cell_type": "code",
   "execution_count": null,
   "metadata": {},
   "outputs": [],
   "source": [
    "net.rpn"
   ]
  },
  {
   "cell_type": "code",
   "execution_count": null,
   "metadata": {},
   "outputs": [],
   "source": [
    "\n",
    "# r, theta, phi\n",
    "\n",
    "anchor_ranges = [0, 70] "
   ]
  },
  {
   "cell_type": "code",
   "execution_count": null,
   "metadata": {},
   "outputs": [],
   "source": [
    "\n",
    "ret = np.meshgrid([1,2],[3,4],[1],[1,2], indexing='ij')"
   ]
  },
  {
   "cell_type": "code",
   "execution_count": null,
   "metadata": {},
   "outputs": [],
   "source": [
    "len(ret)"
   ]
  },
  {
   "cell_type": "code",
   "execution_count": null,
   "metadata": {},
   "outputs": [],
   "source": [
    "ret[0][0][1][0]"
   ]
  },
  {
   "cell_type": "code",
   "execution_count": null,
   "metadata": {},
   "outputs": [],
   "source": [
    "np.array([2,3,4]).shape[0]"
   ]
  },
  {
   "cell_type": "code",
   "execution_count": null,
   "metadata": {},
   "outputs": [],
   "source": [
    "from second.core.box_np_ops import create_anchors_3d_range, create_anchors_3d_sphere_range"
   ]
  },
  {
   "cell_type": "code",
   "execution_count": null,
   "metadata": {},
   "outputs": [],
   "source": [
    "anchors = create_anchors_3d_range([1, 64, 64], [0, -40.0, -1.00, 70.4, 40.0, -1.00])"
   ]
  },
  {
   "cell_type": "code",
   "execution_count": null,
   "metadata": {},
   "outputs": [],
   "source": [
    "anchors[0,1,1,0,0]"
   ]
  },
  {
   "cell_type": "code",
   "execution_count": null,
   "metadata": {},
   "outputs": [],
   "source": [
    "from second.utils import simplevis"
   ]
  },
  {
   "cell_type": "code",
   "execution_count": null,
   "metadata": {},
   "outputs": [],
   "source": [
    "# bev_map = simplevis.kitti_vis([], anchors)\n",
    "# plt.show(bev_map)"
   ]
  },
  {
   "cell_type": "code",
   "execution_count": null,
   "metadata": {},
   "outputs": [],
   "source": [
    "ret =create_anchors_3d_sphere_range([1,64,64])"
   ]
  },
  {
   "cell_type": "code",
   "execution_count": null,
   "metadata": {},
   "outputs": [],
   "source": [
    "ret.shape"
   ]
  },
  {
   "cell_type": "code",
   "execution_count": null,
   "metadata": {},
   "outputs": [],
   "source": [
    "ret[0,32,31]"
   ]
  },
  {
   "cell_type": "code",
   "execution_count": null,
   "metadata": {},
   "outputs": [],
   "source": [
    "ret[0,33,31]"
   ]
  },
  {
   "cell_type": "code",
   "execution_count": null,
   "metadata": {},
   "outputs": [],
   "source": [
    "ret[0,34,31]"
   ]
  },
  {
   "cell_type": "code",
   "execution_count": null,
   "metadata": {},
   "outputs": [],
   "source": [
    "ret[0,:,:,0,0,0]"
   ]
  },
  {
   "cell_type": "code",
   "execution_count": null,
   "metadata": {},
   "outputs": [],
   "source": [
    "feature_size=[1,64,64]\n",
    "anchor_range=[0, 70, -0.7853981633974483, +0.7853981633974483]\n",
    "sizes=[1.6, 3.9, 1.56]\n",
    "rotations=[0, np.pi / 2]\n",
    "dtype=np.float32\n",
    "\n",
    "anchor_range = np.array(anchor_range, dtype)\n",
    "# r_centers = np.linspace(\n",
    "#     anchor_range[0], anchor_range[]\n",
    "# )\n",
    "\n",
    "r_centers = np.linspace(\n",
    "    anchor_range[0], anchor_range[1], feature_size[2], dtype=dtype)\n",
    "phi_centers = np.linspace(\n",
    "    anchor_range[2], anchor_range[3], feature_size[1], dtype=dtype)\n",
    "\n",
    "z_centers = np.linspace( -1 , -1, 1, dtype=dtype)\n",
    "# y_centers = np.linspace(\n",
    "#     anchor_range[1], anchor_range[4], feature_size[1], dtype=dtype)\n",
    "# x_centers = np.linspace(\n",
    "#     anchor_range[0], anchor_range[3], feature_size[2], dtype=dtype)\n",
    "\n",
    "sizes = np.reshape(np.array(sizes, dtype=dtype), [-1, 3])\n",
    "rotations = np.array(rotations, dtype=dtype)\n",
    "rets = np.meshgrid(\n",
    "    r_centers, phi_centers, z_centers, rotations, indexing='ij')\n",
    "tile_shape = [1] * 5\n",
    "tile_shape[-2] = int(sizes.shape[0])\n",
    "for i in range(len(rets)):\n",
    "    rets[i] = np.tile(rets[i][..., np.newaxis, :], tile_shape)\n",
    "    rets[i] = rets[i][..., np.newaxis]  # for concat\n",
    "sizes = np.reshape(sizes, [1, 1, 1, -1, 1, 3])\n",
    "tile_size_shape = list(rets[0].shape)\n",
    "tile_size_shape[3] = 1\n",
    "sizes = np.tile(sizes, tile_size_shape)\n",
    "rets.insert(3, sizes)\n",
    "ret = np.concatenate(rets, axis=-1)\n",
    "res = np.transpose(ret, [2, 1, 0, 3, 4, 5])\n"
   ]
  },
  {
   "cell_type": "code",
   "execution_count": null,
   "metadata": {},
   "outputs": [],
   "source": [
    "R = 1.15\n",
    "r = np.linspace(R,5,3)\n",
    "theta = np.linspace(0,2*np.pi,4)\n",
    "len(theta)"
   ]
  },
  {
   "cell_type": "code",
   "execution_count": null,
   "metadata": {},
   "outputs": [],
   "source": [
    "radius_matrix, theta_matrix = np.meshgrid(r,theta, indexing='ij')"
   ]
  },
  {
   "cell_type": "code",
   "execution_count": null,
   "metadata": {},
   "outputs": [],
   "source": [
    "n = np.meshgrid(r,theta, indexing='ij')\n",
    "n"
   ]
  },
  {
   "cell_type": "code",
   "execution_count": null,
   "metadata": {},
   "outputs": [],
   "source": [
    "radius_matrix"
   ]
  },
  {
   "cell_type": "code",
   "execution_count": null,
   "metadata": {},
   "outputs": [],
   "source": [
    "theta_matrix.shape"
   ]
  },
  {
   "cell_type": "code",
   "execution_count": null,
   "metadata": {},
   "outputs": [],
   "source": [
    "X = radius_matrix * np.cos(theta_matrix)\n",
    "Y = radius_matrix * np.sin(theta_matrix)"
   ]
  },
  {
   "cell_type": "code",
   "execution_count": null,
   "metadata": {},
   "outputs": [],
   "source": [
    "X"
   ]
  },
  {
   "cell_type": "code",
   "execution_count": null,
   "metadata": {},
   "outputs": [],
   "source": [
    "Y"
   ]
  },
  {
   "cell_type": "code",
   "execution_count": null,
   "metadata": {},
   "outputs": [],
   "source": [
    "\n",
    "ax = plt.subplot(111, polar=True)\n",
    "ax.plot(theta_matrix, radius_matrix, color='r', ls='none', marker='.')"
   ]
  },
  {
   "cell_type": "code",
   "execution_count": null,
   "metadata": {},
   "outputs": [],
   "source": [
    "plt.plot(X,Y, 'r. ')\n",
    "plt.show()"
   ]
  },
  {
   "cell_type": "code",
   "execution_count": null,
   "metadata": {},
   "outputs": [],
   "source": []
  }
 ],
 "metadata": {
  "kernelspec": {
   "display_name": "Conda (depconv)",
   "language": "python",
   "name": "depconv"
  },
  "language_info": {
   "codemirror_mode": {
    "name": "ipython",
    "version": 3
   },
   "file_extension": ".py",
   "mimetype": "text/x-python",
   "name": "python",
   "nbconvert_exporter": "python",
   "pygments_lexer": "ipython3",
   "version": "3.7.7"
  }
 },
 "nbformat": 4,
 "nbformat_minor": 4
}
