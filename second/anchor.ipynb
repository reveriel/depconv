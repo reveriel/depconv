{
 "cells": [
  {
   "cell_type": "code",
   "execution_count": 1,
   "metadata": {},
   "outputs": [],
   "source": [
    "import second.builder.anchor_generator_builder as ab\n",
    "import torch\n",
    "from google.protobuf import text_format\n",
    "from second.utils import simplevis\n",
    "from second.pytorch.train import build_network\n",
    "from second.protos import pipeline_pb2\n",
    "from second.utils import config_tool\n",
    "from pathlib import Path\n",
    "import pickle\n",
    "import numpy as np\n",
    "import matplotlib.pyplot as plt"
   ]
  },
  {
   "cell_type": "code",
   "execution_count": 2,
   "metadata": {},
   "outputs": [],
   "source": [
    "# load config file\n",
    "config_path=\"/home/gx/GitHub/depconv/second/configs/car.fhd.config\"\n",
    "from second.protos import pipeline_pb2\n",
    "from google.protobuf import text_format\n",
    "config = pipeline_pb2.TrainEvalPipelineConfig()\n",
    "with open(config_path, \"r\") as f:\n",
    "    proto_str = f.read()\n",
    "    text_format.Merge(proto_str, config)"
   ]
  },
  {
   "cell_type": "code",
   "execution_count": 3,
   "metadata": {},
   "outputs": [
    {
     "name": "stdout",
     "output_type": "stream",
     "text": [
      "dense_shape =  [1, 63, 512, 512, 16]\n",
      "[ 64 512 512]\n",
      "rpn debug, final_num_filters =  192\n",
      "rpn debug, num_cls =  2\n",
      "rpn debug, num_anchor_per_loc =  2\n"
     ]
    }
   ],
   "source": [
    "# build network\n",
    "from second.pytorch.train import build_network\n",
    "input_cfg = config.train_input_reader\n",
    "eval_input_cfg = config.eval_input_reader\n",
    "model_cfg = config.model.second\n",
    "train_cfg = config.train_config\n",
    "net = build_network(model_cfg, False)"
   ]
  },
  {
   "cell_type": "code",
   "execution_count": 4,
   "metadata": {},
   "outputs": [
    {
     "ename": "NameError",
     "evalue": "name 'target_assigner_cfg' is not defined",
     "output_type": "error",
     "traceback": [
      "\u001b[0;31m---------------------------------------------------------------------------\u001b[0m",
      "\u001b[0;31mNameError\u001b[0m                                 Traceback (most recent call last)",
      "\u001b[0;32m<ipython-input-4-1859d848f14f>\u001b[0m in \u001b[0;36m<module>\u001b[0;34m\u001b[0m\n\u001b[1;32m      1\u001b[0m \u001b[0;31m#model_cfg\u001b[0m\u001b[0;34m\u001b[0m\u001b[0;34m\u001b[0m\u001b[0;34m\u001b[0m\u001b[0m\n\u001b[0;32m----> 2\u001b[0;31m \u001b[0mtarget_assigner_cfg\u001b[0m\u001b[0;34m.\u001b[0m\u001b[0mclass_settings\u001b[0m\u001b[0;34m[\u001b[0m\u001b[0;36m0\u001b[0m\u001b[0;34m]\u001b[0m\u001b[0;34m.\u001b[0m\u001b[0manchor_generator_sphere_range\u001b[0m\u001b[0;34m.\u001b[0m\u001b[0manchor_sphere_ranges\u001b[0m\u001b[0;34m[\u001b[0m\u001b[0;36m0\u001b[0m\u001b[0;34m]\u001b[0m\u001b[0;34m=\u001b[0m\u001b[0;36m7\u001b[0m\u001b[0;34m\u001b[0m\u001b[0;34m\u001b[0m\u001b[0m\n\u001b[0m",
      "\u001b[0;31mNameError\u001b[0m: name 'target_assigner_cfg' is not defined"
     ]
    }
   ],
   "source": [
    "#model_cfg\n",
    "target_assigner_cfg.class_settings[0].anchor_generator_sphere_range.anchor_sphere_ranges[0]=7\n"
   ]
  },
  {
   "cell_type": "code",
   "execution_count": null,
   "metadata": {},
   "outputs": [],
   "source": [
    "# builid seperately\n",
    "from second.builder import target_assigner_builder, voxel_builder\n",
    "from second.pytorch.builder import (box_coder_builder, input_reader_builder,\n",
    "                                    lr_scheduler_builder, optimizer_builder,\n",
    "                                    second_builder)\n",
    "\n",
    "voxel_generator = voxel_builder.build(model_cfg.voxel_generator)\n",
    "bv_range = voxel_generator.point_cloud_range[[0, 1, 3, 4]]\n",
    "box_coder = box_coder_builder.build(model_cfg.box_coder)\n",
    "target_assigner_cfg = model_cfg.target_assigner\n",
    "target_assigner = target_assigner_builder.build(target_assigner_cfg,\n",
    "                                                    bv_range, box_coder)\n",
    "box_coder.custom_ndim = target_assigner._anchor_generators[0].custom_ndim"
   ]
  },
  {
   "cell_type": "code",
   "execution_count": null,
   "metadata": {},
   "outputs": [],
   "source": [
    "bv_range"
   ]
  },
  {
   "cell_type": "code",
   "execution_count": null,
   "metadata": {},
   "outputs": [],
   "source": [
    "# box encode: \n",
    "# input box: [N, 7+?] Tensor, xyzwlhr, custom values\n",
    "# anchors  [N, 7] Tensor, xyzwlhr\n",
    "# return encoded xyzwlhr"
   ]
  },
  {
   "cell_type": "code",
   "execution_count": null,
   "metadata": {
    "scrolled": true
   },
   "outputs": [],
   "source": [
    "model_cfg.box_coder"
   ]
  },
  {
   "cell_type": "code",
   "execution_count": null,
   "metadata": {},
   "outputs": [],
   "source": [
    "target_assigner_cfg"
   ]
  },
  {
   "cell_type": "code",
   "execution_count": null,
   "metadata": {},
   "outputs": [],
   "source": [
    "grid_size = voxel_generator.grid_size\n",
    "grid_size"
   ]
  },
  {
   "cell_type": "code",
   "execution_count": null,
   "metadata": {},
   "outputs": [],
   "source": [
    "from second.utils.config_tool import get_downsample_factor\n",
    "out_size_factor = get_downsample_factor(model_cfg)\n",
    "out_size_factor"
   ]
  },
  {
   "cell_type": "code",
   "execution_count": null,
   "metadata": {},
   "outputs": [],
   "source": [
    "feature_map_size = grid_size[:2] // out_size_factor\n",
    "feature_map_size"
   ]
  },
  {
   "cell_type": "code",
   "execution_count": null,
   "metadata": {},
   "outputs": [],
   "source": [
    "feature_map_size = [*feature_map_size, 1][::-1]\n",
    "feature_map_size  # [1,64,64]"
   ]
  },
  {
   "cell_type": "code",
   "execution_count": null,
   "metadata": {},
   "outputs": [],
   "source": [
    "anchors = target_assigner.generate_anchors(feature_map_size)"
   ]
  },
  {
   "cell_type": "code",
   "execution_count": null,
   "metadata": {},
   "outputs": [],
   "source": [
    "anchors['anchors'].shape\n",
    "anchors = anchors['anchors']"
   ]
  },
  {
   "cell_type": "code",
   "execution_count": null,
   "metadata": {},
   "outputs": [],
   "source": [
    "# info[\"point_cloud\"]"
   ]
  },
  {
   "cell_type": "code",
   "execution_count": null,
   "metadata": {},
   "outputs": [],
   "source": [
    "\n",
    "# config_tool.change_detection_range(model_cfg, [-50, -50, 50, 50])\n",
    "device = torch.device(\"cuda\" if torch.cuda.is_available() else \"cpu\")\n",
    "info_path = input_cfg.dataset.kitti_info_path\n",
    "root_path = Path(input_cfg.dataset.kitti_root_path)\n",
    "with open(info_path, 'rb') as f:\n",
    "    infos = pickle.load(f)\n",
    "    \n",
    "info = infos[565]\n",
    "v_path = info[\"point_cloud\"]['velodyne_path']\n",
    "v_path = v_path.replace(\"velodyne\",\"velodyne_reduced\")\n",
    "v_path = str(root_path / v_path)\n",
    "points = np.fromfile(\n",
    "    v_path, dtype=np.float32, count=-1).reshape([-1, 4])\n",
    "\n",
    "plt.hist(points[:,0],bins=80)\n",
    "\n",
    "# boxes_lidar = boxes.detach().cpu().numpy()\n",
    "vis_voxel_size = [0.1, 0.1, 0.1]\n",
    "# vis_point_range = [-50, -30, -3, 50, 30, 1]\n",
    "vis_point_range = [0, -40, -3, 80, 40, 1]\n",
    "# bev_map = simplevis.point_to_vis_bev(points, vis_voxel_size, vis_point_range)\n",
    "# bev_map = simplevis.draw_box_in_bev(bev_map, vis_point_range, anchors.reshape(-1,7)[::19,:], [0,255,0], 2)\n",
    "\n",
    "bev_map = simplevis.kitti_vis(points, anchors.reshape(-1,7)[1::\n",
    "                                                            100\n",
    "                                                        ,:])\n",
    "plt.figure(figsize = (10,10))\n",
    "plt.imshow(bev_map)"
   ]
  },
  {
   "cell_type": "code",
   "execution_count": null,
   "metadata": {},
   "outputs": [],
   "source": [
    "# generate 64 * 64 *2  anchors\n",
    "anchors['anchors'][0]"
   ]
  },
  {
   "cell_type": "code",
   "execution_count": null,
   "metadata": {},
   "outputs": [],
   "source": [
    "\n",
    "\n",
    "from second.core.box_np_ops import create_anchors_3d_sphere_range\n",
    "create_anchors_3d_sphere_range(feature_map_size, )"
   ]
  },
  {
   "cell_type": "code",
   "execution_count": null,
   "metadata": {},
   "outputs": [],
   "source": [
    "net.rpn"
   ]
  },
  {
   "cell_type": "code",
   "execution_count": null,
   "metadata": {},
   "outputs": [],
   "source": [
    "\n",
    "# r, theta, phi\n",
    "\n",
    "anchor_ranges = [0, 70] "
   ]
  },
  {
   "cell_type": "code",
   "execution_count": null,
   "metadata": {},
   "outputs": [],
   "source": [
    "\n",
    "ret = np.meshgrid([1,2],[3,4],[1],[1,2], indexing='ij')"
   ]
  },
  {
   "cell_type": "code",
   "execution_count": null,
   "metadata": {},
   "outputs": [],
   "source": [
    "len(ret)"
   ]
  },
  {
   "cell_type": "code",
   "execution_count": null,
   "metadata": {},
   "outputs": [],
   "source": [
    "ret[0][0][1][0]"
   ]
  },
  {
   "cell_type": "code",
   "execution_count": null,
   "metadata": {},
   "outputs": [],
   "source": [
    "np.array([2,3,4]).shape[0]"
   ]
  },
  {
   "cell_type": "code",
   "execution_count": null,
   "metadata": {},
   "outputs": [],
   "source": [
    "from second.core.box_np_ops import create_anchors_3d_range, create_anchors_3d_sphere_range"
   ]
  },
  {
   "cell_type": "code",
   "execution_count": null,
   "metadata": {},
   "outputs": [],
   "source": [
    "anchors = create_anchors_3d_range([1, 64, 64], [0, -40.0, -1.00, 70.4, 40.0, -1.00])"
   ]
  },
  {
   "cell_type": "code",
   "execution_count": null,
   "metadata": {},
   "outputs": [],
   "source": [
    "anchors[0,1,1,0,0]"
   ]
  },
  {
   "cell_type": "code",
   "execution_count": null,
   "metadata": {},
   "outputs": [],
   "source": [
    "from second.utils import simplevis"
   ]
  },
  {
   "cell_type": "code",
   "execution_count": null,
   "metadata": {},
   "outputs": [],
   "source": [
    "# bev_map = simplevis.kitti_vis([], anchors)\n",
    "# plt.show(bev_map)"
   ]
  },
  {
   "cell_type": "code",
   "execution_count": null,
   "metadata": {},
   "outputs": [],
   "source": [
    "ret =create_anchors_3d_sphere_range([1,64,64])"
   ]
  },
  {
   "cell_type": "code",
   "execution_count": null,
   "metadata": {},
   "outputs": [],
   "source": [
    "ret.shape"
   ]
  },
  {
   "cell_type": "code",
   "execution_count": null,
   "metadata": {},
   "outputs": [],
   "source": [
    "ret[0,32,31]"
   ]
  },
  {
   "cell_type": "code",
   "execution_count": null,
   "metadata": {},
   "outputs": [],
   "source": [
    "ret[0,33,31]"
   ]
  },
  {
   "cell_type": "code",
   "execution_count": null,
   "metadata": {},
   "outputs": [],
   "source": [
    "ret[0,34,31]"
   ]
  },
  {
   "cell_type": "code",
   "execution_count": null,
   "metadata": {},
   "outputs": [],
   "source": [
    "ret[0,:,:,0,0,0]"
   ]
  },
  {
   "cell_type": "code",
   "execution_count": null,
   "metadata": {},
   "outputs": [],
   "source": [
    "feature_size=[1,64,64]\n",
    "anchor_range=[0, 70, -0.7853981633974483, +0.7853981633974483]\n",
    "sizes=[1.6, 3.9, 1.56]\n",
    "rotations=[0, np.pi / 2]\n",
    "dtype=np.float32\n",
    "\n",
    "anchor_range = np.array(anchor_range, dtype)\n",
    "# r_centers = np.linspace(\n",
    "#     anchor_range[0], anchor_range[]\n",
    "# )\n",
    "\n",
    "r_centers = np.linspace(\n",
    "    anchor_range[0], anchor_range[1], feature_size[2], dtype=dtype)\n",
    "phi_centers = np.linspace(\n",
    "    anchor_range[2], anchor_range[3], feature_size[1], dtype=dtype)\n",
    "\n",
    "z_centers = np.linspace( -1 , -1, 1, dtype=dtype)\n",
    "# y_centers = np.linspace(\n",
    "#     anchor_range[1], anchor_range[4], feature_size[1], dtype=dtype)\n",
    "# x_centers = np.linspace(\n",
    "#     anchor_range[0], anchor_range[3], feature_size[2], dtype=dtype)\n",
    "\n",
    "\n",
    "rets = np.meshgrid(\n",
    "        r_centers, phi_centers, z_centers, rotations, indexing='ij')\n",
    "    \n",
    "sizes = np.reshape(np.array(sizes, dtype=dtype), [-1, 3])\n",
    "rotations = np.array(rotations, dtype=dtype)\n",
    "rets = np.meshgrid(\n",
    "    r_centers, phi_centers, z_centers, rotations, indexing='ij')\n",
    "tile_shape = [1] * 5\n",
    "tile_shape[-2] = int(sizes.shape[0])\n",
    "for i in range(len(rets)):\n",
    "    rets[i] = np.tile(rets[i][..., np.newaxis, :], tile_shape)\n",
    "    rets[i] = rets[i][..., np.newaxis]  # for concat\n",
    "sizes = np.reshape(sizes, [1, 1, 1, -1, 1, 3])\n",
    "tile_size_shape = list(rets[0].shape)\n",
    "tile_size_shape[3] = 1\n",
    "sizes = np.tile(sizes, tile_size_shape)\n",
    "rets.insert(3, sizes)\n",
    "ret = np.concatenate(rets, axis=-1)\n",
    "res = np.transpose(ret, [2, 1, 0, 3, 4, 5])\n"
   ]
  },
  {
   "cell_type": "code",
   "execution_count": null,
   "metadata": {},
   "outputs": [],
   "source": [
    "np.meshgrid(\n",
    "        r_centers, phi_centers, z_centers, rotations, indexing='ij')[3].shape"
   ]
  },
  {
   "cell_type": "code",
   "execution_count": null,
   "metadata": {},
   "outputs": [],
   "source": [
    "phi_centers.shape"
   ]
  },
  {
   "cell_type": "code",
   "execution_count": null,
   "metadata": {},
   "outputs": [],
   "source": [
    "np.meshgrid(\n",
    "    r_centers, phi_centers, z_centers, rotations, indexing='ij')"
   ]
  },
  {
   "cell_type": "code",
   "execution_count": null,
   "metadata": {},
   "outputs": [],
   "source": [
    "R = 1.15\n",
    "r = np.linspace(R,5,3)\n",
    "theta = np.linspace(0,2*np.pi,4)\n",
    "len(theta)"
   ]
  },
  {
   "cell_type": "code",
   "execution_count": null,
   "metadata": {},
   "outputs": [],
   "source": [
    "radius_matrix, theta_matrix = np.meshgrid(r,theta, indexing='ij')"
   ]
  },
  {
   "cell_type": "code",
   "execution_count": null,
   "metadata": {},
   "outputs": [],
   "source": [
    "n = np.meshgrid(r,theta,[1,2], indexing='ij')\n",
    "n"
   ]
  },
  {
   "cell_type": "code",
   "execution_count": null,
   "metadata": {},
   "outputs": [],
   "source": [
    "radius_matrix"
   ]
  },
  {
   "cell_type": "code",
   "execution_count": null,
   "metadata": {},
   "outputs": [],
   "source": [
    "theta_matrix.shape"
   ]
  },
  {
   "cell_type": "code",
   "execution_count": null,
   "metadata": {},
   "outputs": [],
   "source": [
    "X = radius_matrix * np.cos(theta_matrix)\n",
    "Y = radius_matrix * np.sin(theta_matrix)"
   ]
  },
  {
   "cell_type": "code",
   "execution_count": null,
   "metadata": {},
   "outputs": [],
   "source": [
    "X"
   ]
  },
  {
   "cell_type": "code",
   "execution_count": null,
   "metadata": {},
   "outputs": [],
   "source": [
    "Y"
   ]
  },
  {
   "cell_type": "code",
   "execution_count": null,
   "metadata": {},
   "outputs": [],
   "source": [
    "\n",
    "ax = plt.subplot(111, polar=True)\n",
    "ax.plot(theta_matrix, radius_matrix, color='r', ls='none', marker='.')"
   ]
  },
  {
   "cell_type": "code",
   "execution_count": null,
   "metadata": {},
   "outputs": [],
   "source": [
    "plt.plot(X,Y, 'r. ')\n",
    "plt.show()"
   ]
  },
  {
   "cell_type": "code",
   "execution_count": null,
   "metadata": {},
   "outputs": [],
   "source": []
  },
  {
   "cell_type": "code",
   "execution_count": null,
   "metadata": {},
   "outputs": [],
   "source": []
  }
 ],
 "metadata": {
  "kernelspec": {
   "display_name": "Conda (depconv)",
   "language": "python",
   "name": "depconv"
  },
  "language_info": {
   "codemirror_mode": {
    "name": "ipython",
    "version": 3
   },
   "file_extension": ".py",
   "mimetype": "text/x-python",
   "name": "python",
   "nbconvert_exporter": "python",
   "pygments_lexer": "ipython3",
   "version": "3.7.7"
  }
 },
 "nbformat": 4,
 "nbformat_minor": 4
}
