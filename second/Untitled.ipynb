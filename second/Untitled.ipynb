{
 "cells": [
  {
   "cell_type": "code",
   "execution_count": 39,
   "metadata": {},
   "outputs": [
    {
     "name": "stdout",
     "output_type": "stream",
     "text": [
      "The autoreload extension is already loaded. To reload it, use:\n",
      "  %reload_ext autoreload\n"
     ]
    }
   ],
   "source": [
    "%load_ext autoreload\n",
    "%autoreload 2\n",
    "%matplotlib inline\n",
    "import numpy as np\n",
    "import matplotlib.pyplot as plt\n",
    "import pickle\n",
    "from pathlib import Path\n",
    "import torch\n",
    "import torch.nn.functional as F\n",
    "from google.protobuf import text_format\n",
    "from second.utils import simplevis\n",
    "from second.pytorch.train import build_network\n",
    "from second.protos import pipeline_pb2\n",
    "from second.utils import config_tool\n",
    "from second.pytorch.builder import (box_coder_builder, input_reader_builder,\n",
    "                                    lr_scheduler_builder, optimizer_builder,\n",
    "                                    second_builder)\n",
    "from second.data.preprocess import merge_second_batch, merge_second_batch_multigpu\n",
    "from second.pytorch.train import _worker_init_fn\n",
    "\n",
    "from second.pytorch.train import example_convert_to_torch\n",
    "\n",
    "from second.sphere.conv import init_depth_from_feature, depth_to_3D"
   ]
  },
  {
   "cell_type": "code",
   "execution_count": null,
   "metadata": {},
   "outputs": [],
   "source": []
  },
  {
   "cell_type": "code",
   "execution_count": 40,
   "metadata": {},
   "outputs": [
    {
     "name": "stdout",
     "output_type": "stream",
     "text": [
      "dense_shape =  [1, 63, 512, 512, 16]\n",
      "[ 64 512 512]\n"
     ]
    },
    {
     "ename": "TypeError",
     "evalue": "super(type, obj): obj must be an instance or subtype of type",
     "output_type": "error",
     "traceback": [
      "\u001b[0;31m-------------------------------------------------------------\u001b[0m",
      "\u001b[0;31mTypeError\u001b[0m                   Traceback (most recent call last)",
      "\u001b[0;32m<ipython-input-40-e4e644ac5eda>\u001b[0m in \u001b[0;36m<module>\u001b[0;34m\u001b[0m\n\u001b[1;32m     12\u001b[0m \u001b[0;34m\u001b[0m\u001b[0m\n\u001b[1;32m     13\u001b[0m \u001b[0mckpt_path\u001b[0m \u001b[0;34m=\u001b[0m \u001b[0;34m\"/home/gx/GitHub/depconv/second/depconv33/voxelnet-27840.tckpt\"\u001b[0m\u001b[0;34m\u001b[0m\u001b[0;34m\u001b[0m\u001b[0m\n\u001b[0;32m---> 14\u001b[0;31m \u001b[0mnet\u001b[0m \u001b[0;34m=\u001b[0m \u001b[0mbuild_network\u001b[0m\u001b[0;34m(\u001b[0m\u001b[0mmodel_cfg\u001b[0m\u001b[0;34m)\u001b[0m\u001b[0;34m.\u001b[0m\u001b[0mto\u001b[0m\u001b[0;34m(\u001b[0m\u001b[0mdevice\u001b[0m\u001b[0;34m)\u001b[0m\u001b[0;34m.\u001b[0m\u001b[0meval\u001b[0m\u001b[0;34m(\u001b[0m\u001b[0;34m)\u001b[0m\u001b[0;34m\u001b[0m\u001b[0;34m\u001b[0m\u001b[0m\n\u001b[0m\u001b[1;32m     15\u001b[0m \u001b[0mnet\u001b[0m\u001b[0;34m.\u001b[0m\u001b[0mload_state_dict\u001b[0m\u001b[0;34m(\u001b[0m\u001b[0mtorch\u001b[0m\u001b[0;34m.\u001b[0m\u001b[0mload\u001b[0m\u001b[0;34m(\u001b[0m\u001b[0mckpt_path\u001b[0m\u001b[0;34m)\u001b[0m\u001b[0;34m)\u001b[0m\u001b[0;34m\u001b[0m\u001b[0;34m\u001b[0m\u001b[0m\n\u001b[1;32m     16\u001b[0m \u001b[0mtarget_assigner\u001b[0m \u001b[0;34m=\u001b[0m \u001b[0mnet\u001b[0m\u001b[0;34m.\u001b[0m\u001b[0mtarget_assigner\u001b[0m\u001b[0;34m\u001b[0m\u001b[0;34m\u001b[0m\u001b[0m\n",
      "\u001b[0;32m~/GitHub/depconv/second/pytorch/train.py\u001b[0m in \u001b[0;36mbuild_network\u001b[0;34m(model_cfg, measure_time)\u001b[0m\n\u001b[1;32m     72\u001b[0m     \u001b[0mbox_coder\u001b[0m\u001b[0;34m.\u001b[0m\u001b[0mcustom_ndim\u001b[0m \u001b[0;34m=\u001b[0m \u001b[0mtarget_assigner\u001b[0m\u001b[0;34m.\u001b[0m\u001b[0m_anchor_generators\u001b[0m\u001b[0;34m[\u001b[0m\u001b[0;36m0\u001b[0m\u001b[0;34m]\u001b[0m\u001b[0;34m.\u001b[0m\u001b[0mcustom_ndim\u001b[0m\u001b[0;34m\u001b[0m\u001b[0;34m\u001b[0m\u001b[0m\n\u001b[1;32m     73\u001b[0m     net = second_builder.build(\n\u001b[0;32m---> 74\u001b[0;31m         model_cfg, voxel_generator, target_assigner, measure_time=measure_time)\n\u001b[0m\u001b[1;32m     75\u001b[0m     \u001b[0;32mreturn\u001b[0m \u001b[0mnet\u001b[0m\u001b[0;34m\u001b[0m\u001b[0;34m\u001b[0m\u001b[0m\n\u001b[1;32m     76\u001b[0m \u001b[0;34m\u001b[0m\u001b[0m\n",
      "\u001b[0;32m~/GitHub/depconv/second/pytorch/builder/second_builder.py\u001b[0m in \u001b[0;36mbuild\u001b[0;34m(model_cfg, voxel_generator, target_assigner, measure_time)\u001b[0m\n\u001b[1;32m    130\u001b[0m         \u001b[0mnms_class_agnostic\u001b[0m\u001b[0;34m=\u001b[0m\u001b[0mmodel_cfg\u001b[0m\u001b[0;34m.\u001b[0m\u001b[0mnms_class_agnostic\u001b[0m\u001b[0;34m,\u001b[0m\u001b[0;34m\u001b[0m\u001b[0;34m\u001b[0m\u001b[0m\n\u001b[1;32m    131\u001b[0m         \u001b[0mnum_direction_bins\u001b[0m\u001b[0;34m=\u001b[0m\u001b[0mmodel_cfg\u001b[0m\u001b[0;34m.\u001b[0m\u001b[0mnum_direction_bins\u001b[0m\u001b[0;34m,\u001b[0m\u001b[0;34m\u001b[0m\u001b[0;34m\u001b[0m\u001b[0m\n\u001b[0;32m--> 132\u001b[0;31m         \u001b[0mdirection_limit_offset\u001b[0m\u001b[0;34m=\u001b[0m\u001b[0mmodel_cfg\u001b[0m\u001b[0;34m.\u001b[0m\u001b[0mdirection_limit_offset\u001b[0m\u001b[0;34m,\u001b[0m\u001b[0;34m\u001b[0m\u001b[0;34m\u001b[0m\u001b[0m\n\u001b[0m\u001b[1;32m    133\u001b[0m     )\n\u001b[1;32m    134\u001b[0m     \u001b[0;32mreturn\u001b[0m \u001b[0mnet\u001b[0m\u001b[0;34m\u001b[0m\u001b[0;34m\u001b[0m\u001b[0m\n",
      "\u001b[0;32m~/GitHub/depconv/second/pytorch/models/voxelnet.py\u001b[0m in \u001b[0;36m__init__\u001b[0;34m(self, output_shape, num_class, num_input_features, vfe_class_name, vfe_num_filters, with_distance, middle_class_name, middle_num_input_features, middle_num_filters_d1, middle_num_filters_d2, rpn_class_name, rpn_num_input_features, rpn_layer_nums, rpn_layer_strides, rpn_num_filters, rpn_upsample_strides, rpn_num_upsample_filters, use_norm, use_groupnorm, num_groups, use_direction_classifier, use_sigmoid_score, encode_background_as_zeros, use_rotate_nms, multiclass_nms, nms_score_thresholds, nms_pre_max_sizes, nms_post_max_sizes, nms_iou_thresholds, target_assigner, cls_loss_weight, loc_loss_weight, pos_cls_weight, neg_cls_weight, direction_loss_weight, loss_norm_type, encode_rad_error_by_sin, loc_loss_ftor, cls_loss_ftor, measure_time, voxel_generator, post_center_range, dir_offset, sin_error_factor, nms_class_agnostic, num_direction_bins, direction_limit_offset, name)\u001b[0m\n\u001b[1;32m    154\u001b[0m             \u001b[0mnum_input_features\u001b[0m\u001b[0;34m=\u001b[0m\u001b[0mmiddle_num_input_features\u001b[0m\u001b[0;34m,\u001b[0m\u001b[0;34m\u001b[0m\u001b[0;34m\u001b[0m\u001b[0m\n\u001b[1;32m    155\u001b[0m             \u001b[0mnum_filters_down1\u001b[0m\u001b[0;34m=\u001b[0m\u001b[0mmiddle_num_filters_d1\u001b[0m\u001b[0;34m,\u001b[0m\u001b[0;34m\u001b[0m\u001b[0;34m\u001b[0m\u001b[0m\n\u001b[0;32m--> 156\u001b[0;31m             num_filters_down2=middle_num_filters_d2)\n\u001b[0m\u001b[1;32m    157\u001b[0m         \u001b[0;31m# self.feature_extractor = DepConvNet3(5)\u001b[0m\u001b[0;34m\u001b[0m\u001b[0;34m\u001b[0m\u001b[0;34m\u001b[0m\u001b[0m\n\u001b[1;32m    158\u001b[0m         \u001b[0;31m# self.feature_extractor = ConvNet(5)\u001b[0m\u001b[0;34m\u001b[0m\u001b[0;34m\u001b[0m\u001b[0;34m\u001b[0m\u001b[0m\n",
      "\u001b[0;32m~/GitHub/depconv/second/pytorch/models/middle.py\u001b[0m in \u001b[0;36m__init__\u001b[0;34m(self, output_shape, use_norm, num_input_features, num_filters_down1, num_filters_down2, name)\u001b[0m\n\u001b[1;32m    144\u001b[0m         \u001b[0;31m# input: # [1600, 1200, 41]\u001b[0m\u001b[0;34m\u001b[0m\u001b[0;34m\u001b[0m\u001b[0;34m\u001b[0m\u001b[0m\n\u001b[1;32m    145\u001b[0m         self.middle_conv = spconv.SparseSequential(\n\u001b[0;32m--> 146\u001b[0;31m             \u001b[0mSubMConv3d\u001b[0m\u001b[0;34m(\u001b[0m\u001b[0mnum_input_features\u001b[0m\u001b[0;34m,\u001b[0m \u001b[0;36m16\u001b[0m\u001b[0;34m,\u001b[0m \u001b[0;36m3\u001b[0m\u001b[0;34m,\u001b[0m \u001b[0mindice_key\u001b[0m\u001b[0;34m=\u001b[0m\u001b[0;34m\"subm0\"\u001b[0m\u001b[0;34m)\u001b[0m\u001b[0;34m,\u001b[0m\u001b[0;34m\u001b[0m\u001b[0;34m\u001b[0m\u001b[0m\n\u001b[0m\u001b[1;32m    147\u001b[0m             \u001b[0mBatchNorm1d\u001b[0m\u001b[0;34m(\u001b[0m\u001b[0;36m16\u001b[0m\u001b[0;34m)\u001b[0m\u001b[0;34m,\u001b[0m\u001b[0;34m\u001b[0m\u001b[0;34m\u001b[0m\u001b[0m\n\u001b[1;32m    148\u001b[0m             \u001b[0mnn\u001b[0m\u001b[0;34m.\u001b[0m\u001b[0mReLU\u001b[0m\u001b[0;34m(\u001b[0m\u001b[0;34m)\u001b[0m\u001b[0;34m,\u001b[0m\u001b[0;34m\u001b[0m\u001b[0;34m\u001b[0m\u001b[0m\n",
      "\u001b[0;32m~/GitHub/depconv/torchplus/tools.py\u001b[0m in \u001b[0;36m__init__\u001b[0;34m(self, *args, **kw)\u001b[0m\n\u001b[1;32m     40\u001b[0m                         \u001b[0mkw\u001b[0m\u001b[0;34m[\u001b[0m\u001b[0mkey\u001b[0m\u001b[0;34m]\u001b[0m \u001b[0;34m=\u001b[0m \u001b[0mval\u001b[0m\u001b[0;34m\u001b[0m\u001b[0;34m\u001b[0m\u001b[0m\n\u001b[1;32m     41\u001b[0m                 \u001b[0mself\u001b[0m\u001b[0;34m.\u001b[0m\u001b[0m__class__\u001b[0m\u001b[0;34m.\u001b[0m\u001b[0m__name__\u001b[0m \u001b[0;34m=\u001b[0m \u001b[0mstr\u001b[0m\u001b[0;34m(\u001b[0m\u001b[0mlayer_class\u001b[0m\u001b[0;34m.\u001b[0m\u001b[0m__name__\u001b[0m\u001b[0;34m)\u001b[0m\u001b[0;34m\u001b[0m\u001b[0;34m\u001b[0m\u001b[0m\n\u001b[0;32m---> 42\u001b[0;31m                 \u001b[0msuper\u001b[0m\u001b[0;34m(\u001b[0m\u001b[0;34m)\u001b[0m\u001b[0;34m.\u001b[0m\u001b[0m__init__\u001b[0m\u001b[0;34m(\u001b[0m\u001b[0;34m*\u001b[0m\u001b[0margs\u001b[0m\u001b[0;34m,\u001b[0m \u001b[0;34m**\u001b[0m\u001b[0mkw\u001b[0m\u001b[0;34m)\u001b[0m\u001b[0;34m\u001b[0m\u001b[0;34m\u001b[0m\u001b[0m\n\u001b[0m\u001b[1;32m     43\u001b[0m         \u001b[0;32mreturn\u001b[0m \u001b[0mDefaultArgLayer\u001b[0m\u001b[0;34m\u001b[0m\u001b[0;34m\u001b[0m\u001b[0m\n\u001b[1;32m     44\u001b[0m \u001b[0;34m\u001b[0m\u001b[0m\n",
      "\u001b[0;32m/home/user/anaconda3/envs/depconv/lib/python3.7/site-packages/spconv/conv.py\u001b[0m in \u001b[0;36m__init__\u001b[0;34m(self, in_channels, out_channels, kernel_size, stride, padding, dilation, groups, bias, indice_key, use_hash)\u001b[0m\n\u001b[1;32m    416\u001b[0m                  \u001b[0mindice_key\u001b[0m\u001b[0;34m=\u001b[0m\u001b[0;32mNone\u001b[0m\u001b[0;34m,\u001b[0m\u001b[0;34m\u001b[0m\u001b[0;34m\u001b[0m\u001b[0m\n\u001b[1;32m    417\u001b[0m                  use_hash=True):\n\u001b[0;32m--> 418\u001b[0;31m         super(SubMConv3d, self).__init__(\n\u001b[0m\u001b[1;32m    419\u001b[0m             \u001b[0;36m3\u001b[0m\u001b[0;34m,\u001b[0m\u001b[0;34m\u001b[0m\u001b[0;34m\u001b[0m\u001b[0m\n\u001b[1;32m    420\u001b[0m             \u001b[0min_channels\u001b[0m\u001b[0;34m,\u001b[0m\u001b[0;34m\u001b[0m\u001b[0;34m\u001b[0m\u001b[0m\n",
      "\u001b[0;31mTypeError\u001b[0m: super(type, obj): obj must be an instance or subtype of type"
     ]
    }
   ],
   "source": [
    "config_path = \"/home/gx/GitHub/depconv/second/configs/car.fhd.config\"\n",
    "config = pipeline_pb2.TrainEvalPipelineConfig()\n",
    "with open(config_path, \"r\") as f:\n",
    "    proto_str = f.read()\n",
    "    text_format.Merge(proto_str, config)\n",
    "input_cfg = config.train_input_reader\n",
    "model_cfg = config.model.second\n",
    "\n",
    "# config_tool.change_detection_range(model_cfg, [-50, -50, 50, 50])\n",
    "device = torch.device(\"cuda\" if torch.cuda.is_available() else \"cpu\")\n",
    "# device = torch.device(\"cpu\")\n",
    "\n",
    "ckpt_path = \"/home/gx/GitHub/depconv/second/depconv33/voxelnet-27840.tckpt\"\n",
    "net = build_network(model_cfg).to(device).eval()\n",
    "net.load_state_dict(torch.load(ckpt_path))\n",
    "target_assigner = net.target_assigner\n",
    "voxel_generator = net.voxel_generator\n",
    "config.train_input_reader.batch_size=1\n",
    "# config.train_input_reader.batch_size\n",
    "\n",
    "\n",
    "dataset = input_reader_builder.build(\n",
    "    input_cfg,\n",
    "    model_cfg,\n",
    "    training=True,\n",
    "    voxel_generator=voxel_generator,\n",
    "    target_assigner=target_assigner,\n",
    "    multi_gpu=False)\n",
    "\n",
    "num_gpu=1\n",
    "collate_fn= merge_second_batch\n",
    "multi_gpu = False\n",
    "dataloader = torch.utils.data.DataLoader(\n",
    "        dataset,\n",
    "        batch_size=input_cfg.batch_size * num_gpu,\n",
    "        shuffle=True,\n",
    "#         num_workers=input_cfg.preprocess.num_workers * num_gpu,\n",
    "        num_workers=1,\n",
    "        pin_memory=False,\n",
    "        collate_fn=collate_fn,\n",
    "        worker_init_fn=_worker_init_fn,\n",
    "        drop_last=not multi_gpu)"
   ]
  },
  {
   "cell_type": "code",
   "execution_count": 4,
   "metadata": {},
   "outputs": [
    {
     "name": "stdout",
     "output_type": "stream",
     "text": [
      "WORKER 0 seed: 1590071456\n"
     ]
    },
    {
     "name": "stderr",
     "output_type": "stream",
     "text": [
      "/home/gx/GitHub/depconv/second/core/geometry.py:272: NumbaWarning: \n",
      "Compilation is falling back to object mode WITH looplifting enabled because Function \"points_in_convex_polygon_jit\" failed type inference due to: Invalid use of Function(<built-in function getitem>) with argument(s) of type(s): (array(float32, 3d, C), Tuple(slice<a:b>, list(int64), slice<a:b>))\n",
      " * parameterized\n",
      "In definition 0:\n",
      "    All templates rejected with literals.\n",
      "In definition 1:\n",
      "    All templates rejected without literals.\n",
      "In definition 2:\n",
      "    All templates rejected with literals.\n",
      "In definition 3:\n",
      "    All templates rejected without literals.\n",
      "In definition 4:\n",
      "    All templates rejected with literals.\n",
      "In definition 5:\n",
      "    All templates rejected without literals.\n",
      "In definition 6:\n",
      "    All templates rejected with literals.\n",
      "In definition 7:\n",
      "    All templates rejected without literals.\n",
      "In definition 8:\n",
      "    All templates rejected with literals.\n",
      "In definition 9:\n",
      "    All templates rejected without literals.\n",
      "In definition 10:\n",
      "    All templates rejected with literals.\n",
      "In definition 11:\n",
      "    All templates rejected without literals.\n",
      "In definition 12:\n",
      "    TypeError: unsupported array index type list(int64) in Tuple(slice<a:b>, list(int64), slice<a:b>)\n",
      "    raised from /home/user/anaconda3/envs/depconv/lib/python3.7/site-packages/numba/core/typing/arraydecl.py:69\n",
      "In definition 13:\n",
      "    TypeError: unsupported array index type list(int64) in Tuple(slice<a:b>, list(int64), slice<a:b>)\n",
      "    raised from /home/user/anaconda3/envs/depconv/lib/python3.7/site-packages/numba/core/typing/arraydecl.py:69\n",
      "In definition 14:\n",
      "    All templates rejected with literals.\n",
      "In definition 15:\n",
      "    All templates rejected without literals.\n",
      "This error is usually caused by passing an argument of a type that is unsupported by the named function.\n",
      "[1] During: typing of intrinsic-call at /home/gx/GitHub/depconv/second/core/geometry.py (288)\n",
      "\n",
      "File \"core/geometry.py\", line 288:\n",
      "def points_in_convex_polygon_jit(points, polygon, clockwise=True):\n",
      "    <source elided>\n",
      "        vec1 = polygon - polygon[:, [num_points_of_polygon - 1] +\n",
      "                                 list(range(num_points_of_polygon - 1)), :]\n",
      "                                 ^\n",
      "\n",
      "  @numba.jit\n",
      "/home/gx/GitHub/depconv/second/core/geometry.py:272: NumbaWarning: \n",
      "Compilation is falling back to object mode WITHOUT looplifting enabled because Function \"points_in_convex_polygon_jit\" failed type inference due to: cannot determine Numba type of <class 'numba.core.dispatcher.LiftedLoop'>\n",
      "\n",
      "File \"core/geometry.py\", line 296:\n",
      "def points_in_convex_polygon_jit(points, polygon, clockwise=True):\n",
      "    <source elided>\n",
      "    cross = 0.0\n",
      "    for i in range(num_points):\n",
      "    ^\n",
      "\n",
      "  @numba.jit\n",
      "/home/user/anaconda3/envs/depconv/lib/python3.7/site-packages/numba/core/object_mode_passes.py:178: NumbaWarning: Function \"points_in_convex_polygon_jit\" was compiled in object mode without forceobj=True, but has lifted loops.\n",
      "\n",
      "File \"core/geometry.py\", line 283:\n",
      "def points_in_convex_polygon_jit(points, polygon, clockwise=True):\n",
      "    <source elided>\n",
      "    # first convert polygon to directed lines\n",
      "    num_points_of_polygon = polygon.shape[1]\n",
      "    ^\n",
      "\n",
      "  state.func_ir.loc))\n",
      "/home/user/anaconda3/envs/depconv/lib/python3.7/site-packages/numba/core/object_mode_passes.py:188: NumbaDeprecationWarning: \n",
      "Fall-back from the nopython compilation path to the object mode compilation path has been detected, this is deprecated behaviour.\n",
      "\n",
      "For more information visit http://numba.pydata.org/numba-doc/latest/reference/deprecation.html#deprecation-of-object-mode-fall-back-behaviour-when-using-jit\n",
      "\n",
      "File \"core/geometry.py\", line 283:\n",
      "def points_in_convex_polygon_jit(points, polygon, clockwise=True):\n",
      "    <source elided>\n",
      "    # first convert polygon to directed lines\n",
      "    num_points_of_polygon = polygon.shape[1]\n",
      "    ^\n",
      "\n",
      "  state.func_ir.loc))\n",
      "/home/gx/GitHub/depconv/second/core/geometry.py:272: NumbaWarning: \n",
      "Compilation is falling back to object mode WITH looplifting enabled because Function \"points_in_convex_polygon_jit\" failed type inference due to: Invalid use of Function(<built-in function getitem>) with argument(s) of type(s): (array(float32, 3d, C), Tuple(slice<a:b>, list(int64), slice<a:b>))\n",
      " * parameterized\n",
      "In definition 0:\n",
      "    All templates rejected with literals.\n",
      "In definition 1:\n",
      "    All templates rejected without literals.\n",
      "In definition 2:\n",
      "    All templates rejected with literals.\n",
      "In definition 3:\n",
      "    All templates rejected without literals.\n",
      "In definition 4:\n",
      "    All templates rejected with literals.\n",
      "In definition 5:\n",
      "    All templates rejected without literals.\n",
      "In definition 6:\n",
      "    All templates rejected with literals.\n",
      "In definition 7:\n",
      "    All templates rejected without literals.\n",
      "In definition 8:\n",
      "    All templates rejected with literals.\n",
      "In definition 9:\n",
      "    All templates rejected without literals.\n",
      "In definition 10:\n",
      "    All templates rejected with literals.\n",
      "In definition 11:\n",
      "    All templates rejected without literals.\n",
      "In definition 12:\n",
      "    TypeError: unsupported array index type list(int64) in Tuple(slice<a:b>, list(int64), slice<a:b>)\n",
      "    raised from /home/user/anaconda3/envs/depconv/lib/python3.7/site-packages/numba/core/typing/arraydecl.py:69\n",
      "In definition 13:\n",
      "    TypeError: unsupported array index type list(int64) in Tuple(slice<a:b>, list(int64), slice<a:b>)\n",
      "    raised from /home/user/anaconda3/envs/depconv/lib/python3.7/site-packages/numba/core/typing/arraydecl.py:69\n",
      "In definition 14:\n",
      "    All templates rejected with literals.\n",
      "In definition 15:\n",
      "    All templates rejected without literals.\n",
      "This error is usually caused by passing an argument of a type that is unsupported by the named function.\n",
      "[1] During: typing of intrinsic-call at /home/gx/GitHub/depconv/second/core/geometry.py (288)\n",
      "\n",
      "File \"core/geometry.py\", line 288:\n",
      "def points_in_convex_polygon_jit(points, polygon, clockwise=True):\n",
      "    <source elided>\n",
      "        vec1 = polygon - polygon[:, [num_points_of_polygon - 1] +\n",
      "                                 list(range(num_points_of_polygon - 1)), :]\n",
      "                                 ^\n",
      "\n",
      "  @numba.jit\n",
      "/home/gx/GitHub/depconv/second/core/geometry.py:272: NumbaWarning: \n",
      "Compilation is falling back to object mode WITHOUT looplifting enabled because Function \"points_in_convex_polygon_jit\" failed type inference due to: cannot determine Numba type of <class 'numba.core.dispatcher.LiftedLoop'>\n",
      "\n",
      "File \"core/geometry.py\", line 296:\n",
      "def points_in_convex_polygon_jit(points, polygon, clockwise=True):\n",
      "    <source elided>\n",
      "    cross = 0.0\n",
      "    for i in range(num_points):\n",
      "    ^\n",
      "\n",
      "  @numba.jit\n",
      "/home/user/anaconda3/envs/depconv/lib/python3.7/site-packages/numba/core/object_mode_passes.py:178: NumbaWarning: Function \"points_in_convex_polygon_jit\" was compiled in object mode without forceobj=True, but has lifted loops.\n",
      "\n",
      "File \"core/geometry.py\", line 283:\n",
      "def points_in_convex_polygon_jit(points, polygon, clockwise=True):\n",
      "    <source elided>\n",
      "    # first convert polygon to directed lines\n",
      "    num_points_of_polygon = polygon.shape[1]\n",
      "    ^\n",
      "\n",
      "  state.func_ir.loc))\n",
      "/home/user/anaconda3/envs/depconv/lib/python3.7/site-packages/numba/core/object_mode_passes.py:188: NumbaDeprecationWarning: \n",
      "Fall-back from the nopython compilation path to the object mode compilation path has been detected, this is deprecated behaviour.\n",
      "\n",
      "For more information visit http://numba.pydata.org/numba-doc/latest/reference/deprecation.html#deprecation-of-object-mode-fall-back-behaviour-when-using-jit\n",
      "\n",
      "File \"core/geometry.py\", line 283:\n",
      "def points_in_convex_polygon_jit(points, polygon, clockwise=True):\n",
      "    <source elided>\n",
      "    # first convert polygon to directed lines\n",
      "    num_points_of_polygon = polygon.shape[1]\n",
      "    ^\n",
      "\n",
      "  state.func_ir.loc))\n"
     ]
    }
   ],
   "source": [
    "examples = []\n",
    "loop_i = 0\n",
    "for example in dataloader:\n",
    "    loop_i += 1\n",
    "    if loop_i > 10:\n",
    "        break\n",
    "    examples.append(example)\n",
    "#     print(example)\n",
    "\n"
   ]
  },
  {
   "cell_type": "code",
   "execution_count": 5,
   "metadata": {},
   "outputs": [],
   "source": [
    "    \n",
    "# plt.figure(figsize = (25,25))\n",
    "# plt.plot(examples[0]['points'][:,0])"
   ]
  },
  {
   "cell_type": "code",
   "execution_count": 6,
   "metadata": {},
   "outputs": [
    {
     "name": "stdout",
     "output_type": "stream",
     "text": [
      "voxel_features shape:  torch.Size([4629, 4])\n",
      "sparse_shape : [ 64 512 512]\n",
      "NCDHW =  1 64 3 64 64\n"
     ]
    }
   ],
   "source": [
    "example = examples[4]\n",
    "example = example_convert_to_torch(example, torch.float32)\n",
    "\n",
    "with torch.no_grad():\n",
    "    pred = net(example)"
   ]
  },
  {
   "cell_type": "code",
   "execution_count": 7,
   "metadata": {},
   "outputs": [
    {
     "name": "stdout",
     "output_type": "stream",
     "text": [
      "voxel_features shape:  torch.Size([4629, 4])\n",
      "sparse_shape : [ 64 512 512]\n",
      "NCDHW =  1 64 3 64 64\n"
     ]
    }
   ],
   "source": [
    "num_points = example[\"num_points\"]\n",
    "num_points.shape\n",
    "batch_anchors = example[\"anchors\"]\n",
    "batch_anchors.shape\n",
    "voxels = example['voxels']\n",
    "coors = example[\"coordinates\"]\n",
    "                    \n",
    "preds_dict = net.network_forward(voxels, num_points, coors, 1)"
   ]
  },
  {
   "cell_type": "code",
   "execution_count": 8,
   "metadata": {},
   "outputs": [
    {
     "data": {
      "text/plain": [
       "dict_keys(['box_preds', 'cls_preds', 'dir_cls_preds'])"
      ]
     },
     "execution_count": 8,
     "metadata": {},
     "output_type": "execute_result"
    }
   ],
   "source": [
    "preds_dict.keys()"
   ]
  },
  {
   "cell_type": "code",
   "execution_count": 9,
   "metadata": {},
   "outputs": [
    {
     "data": {
      "text/plain": [
       "torch.Size([1, 2, 64, 64, 7])"
      ]
     },
     "execution_count": 9,
     "metadata": {},
     "output_type": "execute_result"
    }
   ],
   "source": [
    "preds_dict['box_preds'].shape"
   ]
  },
  {
   "cell_type": "code",
   "execution_count": 10,
   "metadata": {},
   "outputs": [
    {
     "data": {
      "text/plain": [
       "[<matplotlib.lines.Line2D at 0x7f9faac19d10>]"
      ]
     },
     "execution_count": 10,
     "metadata": {},
     "output_type": "execute_result"
    },
    {
     "data": {
      "image/png": "[encoded data removed]",
      "text/plain": [
       "<Figure size 432x288 with 1 Axes>"
      ]
     },
     "metadata": {
      "needs_background": "light"
     },
     "output_type": "display_data"
    }
   ],
   "source": [
    "plt.plot(preds_dict['box_preds'].detach().cpu()[:,:,:,:,4\n",
    "                                               ].view(-1))"
   ]
  },
  {
   "cell_type": "code",
   "execution_count": 11,
   "metadata": {},
   "outputs": [],
   "source": [
    "box_preds = preds_dict[\"box_preds\"]\n",
    "cls_preds = preds_dict[\"cls_preds\"]\n",
    "batch_size_dev = cls_preds.shape[0]\n",
    "labels = example['labels']\n",
    "reg_targets = example['reg_targets']\n",
    "importance = example['importance']"
   ]
  },
  {
   "cell_type": "code",
   "execution_count": 12,
   "metadata": {},
   "outputs": [],
   "source": [
    "from second.pytorch.models.voxelnet import prepare_loss_weights\n",
    "cls_weights, reg_weights, cared = prepare_loss_weights(\n",
    "            labels,\n",
    "            pos_cls_weight=net._pos_cls_weight,\n",
    "            neg_cls_weight=net._neg_cls_weight,\n",
    "            loss_norm_type=net._loss_norm_type,\n",
    "            dtype=box_preds.dtype)\n"
   ]
  },
  {
   "cell_type": "code",
   "execution_count": 13,
   "metadata": {},
   "outputs": [
    {
     "data": {
      "text/plain": [
       "[<matplotlib.lines.Line2D at 0x7f9f716df490>]"
      ]
     },
     "execution_count": 13,
     "metadata": {},
     "output_type": "execute_result"
    },
    {
     "data": {
      "image/png": "[encoded data removed]",
      "text/plain": [
       "<Figure size 432x288 with 1 Axes>"
      ]
     },
     "metadata": {
      "needs_background": "light"
     },
     "output_type": "display_data"
    }
   ],
   "source": [
    "cls_targets = labels * cared.type_as(labels)\n",
    "plt.plot(cls_targets[0].detach().cpu())"
   ]
  },
  {
   "cell_type": "code",
   "execution_count": 14,
   "metadata": {},
   "outputs": [],
   "source": [
    "cls_targets = cls_targets.unsqueeze(-1)"
   ]
  },
  {
   "cell_type": "code",
   "execution_count": 15,
   "metadata": {},
   "outputs": [
    {
     "data": {
      "text/plain": [
       "2"
      ]
     },
     "execution_count": 15,
     "metadata": {},
     "output_type": "execute_result"
    }
   ],
   "source": [
    "net._num_direction_bins"
   ]
  },
  {
   "cell_type": "code",
   "execution_count": 16,
   "metadata": {},
   "outputs": [
    {
     "data": {
      "text/plain": [
       "<second.pytorch.core.losses.WeightedSmoothL1LocalizationLoss at 0x7fa0b0190050>"
      ]
     },
     "execution_count": 16,
     "metadata": {},
     "output_type": "execute_result"
    }
   ],
   "source": [
    "net._loc_loss_ftor"
   ]
  },
  {
   "cell_type": "code",
   "execution_count": 17,
   "metadata": {},
   "outputs": [],
   "source": [
    "box_preds = box_preds.view(1, -1, net._box_coder.code_size)"
   ]
  },
  {
   "cell_type": "code",
   "execution_count": 18,
   "metadata": {},
   "outputs": [
    {
     "data": {
      "text/plain": [
       "torch.Size([1, 8192, 7])"
      ]
     },
     "execution_count": 18,
     "metadata": {},
     "output_type": "execute_result"
    }
   ],
   "source": [
    "box_preds.shape"
   ]
  },
  {
   "cell_type": "code",
   "execution_count": 19,
   "metadata": {},
   "outputs": [],
   "source": [
    "cls_preds = cls_preds.view(1, -1, 1)"
   ]
  },
  {
   "cell_type": "code",
   "execution_count": 20,
   "metadata": {},
   "outputs": [],
   "source": [
    "import torchplus\n",
    "one_hot_targets = torchplus.nn.one_hot(cls_targets, depth=1+1, dtype=box_preds.dtype)"
   ]
  },
  {
   "cell_type": "code",
   "execution_count": 21,
   "metadata": {},
   "outputs": [],
   "source": [
    "one_hot_targets = one_hot_targets[..., 1:]"
   ]
  },
  {
   "cell_type": "code",
   "execution_count": 22,
   "metadata": {},
   "outputs": [
    {
     "data": {
      "text/plain": [
       "torch.Size([1, 8192, 1, 1])"
      ]
     },
     "execution_count": 22,
     "metadata": {},
     "output_type": "execute_result"
    }
   ],
   "source": [
    "one_hot_targets.shape"
   ]
  },
  {
   "cell_type": "code",
   "execution_count": 23,
   "metadata": {},
   "outputs": [
    {
     "data": {
      "text/plain": [
       "<second.pytorch.core.losses.SigmoidFocalClassificationLoss at 0x7fa0b01d8f90>"
      ]
     },
     "execution_count": 23,
     "metadata": {},
     "output_type": "execute_result"
    }
   ],
   "source": [
    "net._cls_loss_ftor"
   ]
  },
  {
   "cell_type": "code",
   "execution_count": 24,
   "metadata": {},
   "outputs": [
    {
     "data": {
      "text/plain": [
       "True"
      ]
     },
     "execution_count": 24,
     "metadata": {},
     "output_type": "execute_result"
    }
   ],
   "source": [
    "net._use_direction_classifier"
   ]
  },
  {
   "cell_type": "code",
   "execution_count": 25,
   "metadata": {},
   "outputs": [
    {
     "data": {
      "text/plain": [
       "<second.pytorch.core.losses.WeightedSoftmaxClassificationLoss at 0x7fa0b0190810>"
      ]
     },
     "execution_count": 25,
     "metadata": {},
     "output_type": "execute_result"
    }
   ],
   "source": [
    "net._dir_loss_ftor"
   ]
  },
  {
   "cell_type": "code",
   "execution_count": null,
   "metadata": {},
   "outputs": [],
   "source": []
  },
  {
   "cell_type": "code",
   "execution_count": 26,
   "metadata": {},
   "outputs": [
    {
     "ename": "NameError",
     "evalue": "name 'coor' is not defined",
     "output_type": "error",
     "traceback": [
      "\u001b[0;31m---------------------------------------------------------------------------\u001b[0m",
      "\u001b[0;31mNameError\u001b[0m                                 Traceback (most recent call last)",
      "\u001b[0;32m<ipython-input-26-e427f461f794>\u001b[0m in \u001b[0;36m<module>\u001b[0;34m\u001b[0m\n\u001b[0;32m----> 1\u001b[0;31m \u001b[0mcoor\u001b[0m\u001b[0;34m[\u001b[0m\u001b[0;34m:\u001b[0m\u001b[0;34m,\u001b[0m\u001b[0;36m1\u001b[0m\u001b[0;34m]\u001b[0m \u001b[0;34m=\u001b[0m \u001b[0;36m0\u001b[0m\u001b[0;34m\u001b[0m\u001b[0;34m\u001b[0m\u001b[0m\n\u001b[0m",
      "\u001b[0;31mNameError\u001b[0m: name 'coor' is not defined"
     ]
    }
   ],
   "source": [
    "coor[:,1] = 0"
   ]
  },
  {
   "cell_type": "code",
   "execution_count": 27,
   "metadata": {},
   "outputs": [
    {
     "ename": "NameError",
     "evalue": "name 'coor' is not defined",
     "output_type": "error",
     "traceback": [
      "\u001b[0;31m---------------------------------------------------------------------------\u001b[0m",
      "\u001b[0;31mNameError\u001b[0m                                 Traceback (most recent call last)",
      "\u001b[0;32m<ipython-input-27-456d5c49441c>\u001b[0m in \u001b[0;36m<module>\u001b[0;34m\u001b[0m\n\u001b[0;32m----> 1\u001b[0;31m \u001b[0mcoor\u001b[0m\u001b[0;34m\u001b[0m\u001b[0;34m\u001b[0m\u001b[0m\n\u001b[0m",
      "\u001b[0;31mNameError\u001b[0m: name 'coor' is not defined"
     ]
    }
   ],
   "source": [
    "coor"
   ]
  },
  {
   "cell_type": "code",
   "execution_count": 28,
   "metadata": {},
   "outputs": [
    {
     "ename": "NameError",
     "evalue": "name 'coor' is not defined",
     "output_type": "error",
     "traceback": [
      "\u001b[0;31m---------------------------------------------------------------------------\u001b[0m",
      "\u001b[0;31mNameError\u001b[0m                                 Traceback (most recent call last)",
      "\u001b[0;32m<ipython-input-28-17686d7e106b>\u001b[0m in \u001b[0;36m<module>\u001b[0;34m\u001b[0m\n\u001b[1;32m     14\u001b[0m     \u001b[0;32mreturn\u001b[0m \u001b[0mret\u001b[0m\u001b[0;34m\u001b[0m\u001b[0;34m\u001b[0m\u001b[0m\n\u001b[1;32m     15\u001b[0m \u001b[0;34m\u001b[0m\u001b[0m\n\u001b[0;32m---> 16\u001b[0;31m \u001b[0mres\u001b[0m \u001b[0;34m=\u001b[0m \u001b[0mscatter_nd\u001b[0m\u001b[0;34m(\u001b[0m\u001b[0mcoor\u001b[0m\u001b[0;34m.\u001b[0m\u001b[0mlong\u001b[0m\u001b[0;34m(\u001b[0m\u001b[0;34m)\u001b[0m\u001b[0;34m,\u001b[0m \u001b[0mtorch\u001b[0m\u001b[0;34m.\u001b[0m\u001b[0mtensor\u001b[0m\u001b[0;34m(\u001b[0m\u001b[0;34m[\u001b[0m\u001b[0;36m1\u001b[0m\u001b[0;34m]\u001b[0m\u001b[0;34m*\u001b[0m\u001b[0;36m16405\u001b[0m\u001b[0;34m)\u001b[0m\u001b[0;34m,\u001b[0m \u001b[0;34m[\u001b[0m\u001b[0;36m1\u001b[0m\u001b[0;34m,\u001b[0m\u001b[0;36m1\u001b[0m\u001b[0;34m,\u001b[0m\u001b[0;36m512\u001b[0m\u001b[0;34m,\u001b[0m  \u001b[0;36m512\u001b[0m\u001b[0;34m]\u001b[0m\u001b[0;34m)\u001b[0m\u001b[0;34m\u001b[0m\u001b[0;34m\u001b[0m\u001b[0m\n\u001b[0m",
      "\u001b[0;31mNameError\u001b[0m: name 'coor' is not defined"
     ]
    }
   ],
   "source": [
    "def scatter_nd(indices, updates, shape):\n",
    "    \"\"\"pytorch edition of tensorflow scatter_nd.\n",
    "    this function don't contain except handle code. so use this carefully\n",
    "    when indice repeats, don't support repeat add which is supported\n",
    "    in tensorflow.\n",
    "    \"\"\"\n",
    "    ret = torch.zeros(*shape, dtype=updates.dtype, device=updates.device)\n",
    "    ndim = indices.shape[-1]\n",
    "    output_shape = list(indices.shape[:-1]) + shape[indices.shape[-1]:]\n",
    "    flatted_indices = indices.view(-1, ndim)\n",
    "    slices = [flatted_indices[:, i] for i in range(ndim)]\n",
    "    slices += [Ellipsis]\n",
    "    ret[slices] = updates.view(*output_shape)\n",
    "    return ret\n",
    "\n",
    "res = scatter_nd(coor.long(), torch.tensor([1]*16405), [1,1,512,  512])"
   ]
  },
  {
   "cell_type": "code",
   "execution_count": 29,
   "metadata": {},
   "outputs": [
    {
     "ename": "NameError",
     "evalue": "name 'res' is not defined",
     "output_type": "error",
     "traceback": [
      "\u001b[0;31m---------------------------------------------------------------------------\u001b[0m",
      "\u001b[0;31mNameError\u001b[0m                                 Traceback (most recent call last)",
      "\u001b[0;32m<ipython-input-29-c08785e04264>\u001b[0m in \u001b[0;36m<module>\u001b[0;34m\u001b[0m\n\u001b[0;32m----> 1\u001b[0;31m \u001b[0mres\u001b[0m\u001b[0;34m\u001b[0m\u001b[0;34m\u001b[0m\u001b[0m\n\u001b[0m",
      "\u001b[0;31mNameError\u001b[0m: name 'res' is not defined"
     ]
    }
   ],
   "source": [
    "res"
   ]
  },
  {
   "cell_type": "code",
   "execution_count": 32,
   "metadata": {},
   "outputs": [
    {
     "ename": "IndexError",
     "evalue": "index 51 is out of bounds for dimension 1 with size 1",
     "output_type": "error",
     "traceback": [
      "\u001b[0;31m---------------------------------------------------------------------------\u001b[0m",
      "\u001b[0;31mIndexError\u001b[0m                                Traceback (most recent call last)",
      "\u001b[0;32m<ipython-input-32-5ab0535adddb>\u001b[0m in \u001b[0;36m<module>\u001b[0;34m\u001b[0m\n\u001b[0;32m----> 1\u001b[0;31m \u001b[0mres0\u001b[0m \u001b[0;34m=\u001b[0m \u001b[0mscatter_nd\u001b[0m\u001b[0;34m(\u001b[0m\u001b[0mexample\u001b[0m\u001b[0;34m[\u001b[0m\u001b[0;34m'coordinates'\u001b[0m\u001b[0;34m]\u001b[0m\u001b[0;34m.\u001b[0m\u001b[0mlong\u001b[0m\u001b[0;34m(\u001b[0m\u001b[0;34m)\u001b[0m\u001b[0;34m,\u001b[0m \u001b[0mtorch\u001b[0m\u001b[0;34m.\u001b[0m\u001b[0mtensor\u001b[0m\u001b[0;34m(\u001b[0m\u001b[0;34m[\u001b[0m\u001b[0;36m1\u001b[0m\u001b[0;34m]\u001b[0m\u001b[0;34m*\u001b[0m\u001b[0;36m4629\u001b[0m\u001b[0;34m)\u001b[0m\u001b[0;34m,\u001b[0m \u001b[0;34m[\u001b[0m\u001b[0;36m1\u001b[0m\u001b[0;34m,\u001b[0m\u001b[0;36m1\u001b[0m\u001b[0;34m,\u001b[0m\u001b[0;36m512\u001b[0m\u001b[0;34m,\u001b[0m\u001b[0;36m512\u001b[0m\u001b[0;34m]\u001b[0m\u001b[0;34m)\u001b[0m\u001b[0;34m\u001b[0m\u001b[0;34m\u001b[0m\u001b[0m\n\u001b[0m",
      "\u001b[0;32m<ipython-input-28-17686d7e106b>\u001b[0m in \u001b[0;36mscatter_nd\u001b[0;34m(indices, updates, shape)\u001b[0m\n\u001b[1;32m     11\u001b[0m     \u001b[0mslices\u001b[0m \u001b[0;34m=\u001b[0m \u001b[0;34m[\u001b[0m\u001b[0mflatted_indices\u001b[0m\u001b[0;34m[\u001b[0m\u001b[0;34m:\u001b[0m\u001b[0;34m,\u001b[0m \u001b[0mi\u001b[0m\u001b[0;34m]\u001b[0m \u001b[0;32mfor\u001b[0m \u001b[0mi\u001b[0m \u001b[0;32min\u001b[0m \u001b[0mrange\u001b[0m\u001b[0;34m(\u001b[0m\u001b[0mndim\u001b[0m\u001b[0;34m)\u001b[0m\u001b[0;34m]\u001b[0m\u001b[0;34m\u001b[0m\u001b[0;34m\u001b[0m\u001b[0m\n\u001b[1;32m     12\u001b[0m     \u001b[0mslices\u001b[0m \u001b[0;34m+=\u001b[0m \u001b[0;34m[\u001b[0m\u001b[0mEllipsis\u001b[0m\u001b[0;34m]\u001b[0m\u001b[0;34m\u001b[0m\u001b[0;34m\u001b[0m\u001b[0m\n\u001b[0;32m---> 13\u001b[0;31m     \u001b[0mret\u001b[0m\u001b[0;34m[\u001b[0m\u001b[0mslices\u001b[0m\u001b[0;34m]\u001b[0m \u001b[0;34m=\u001b[0m \u001b[0mupdates\u001b[0m\u001b[0;34m.\u001b[0m\u001b[0mview\u001b[0m\u001b[0;34m(\u001b[0m\u001b[0;34m*\u001b[0m\u001b[0moutput_shape\u001b[0m\u001b[0;34m)\u001b[0m\u001b[0;34m\u001b[0m\u001b[0;34m\u001b[0m\u001b[0m\n\u001b[0m\u001b[1;32m     14\u001b[0m     \u001b[0;32mreturn\u001b[0m \u001b[0mret\u001b[0m\u001b[0;34m\u001b[0m\u001b[0;34m\u001b[0m\u001b[0m\n\u001b[1;32m     15\u001b[0m \u001b[0;34m\u001b[0m\u001b[0m\n",
      "\u001b[0;31mIndexError\u001b[0m: index 51 is out of bounds for dimension 1 with size 1"
     ]
    }
   ],
   "source": [
    "res0 = scatter_nd(example['coordinates'].long(), torch.tensor([1]*4629), [1,1,512,512])"
   ]
  },
  {
   "cell_type": "code",
   "execution_count": 31,
   "metadata": {},
   "outputs": [
    {
     "data": {
      "text/plain": [
       "torch.Size([4629, 4])"
      ]
     },
     "execution_count": 31,
     "metadata": {},
     "output_type": "execute_result"
    }
   ],
   "source": [
    "example['coordinates'].shape"
   ]
  },
  {
   "cell_type": "code",
   "execution_count": null,
   "metadata": {},
   "outputs": [],
   "source": [
    "coor.shape"
   ]
  },
  {
   "cell_type": "code",
   "execution_count": null,
   "metadata": {},
   "outputs": [],
   "source": [
    "plt.figure(figsize=(6,12))\n",
    "plt.imshow(res[0][0].detach().cpu().numpy())"
   ]
  },
  {
   "cell_type": "code",
   "execution_count": null,
   "metadata": {},
   "outputs": [],
   "source": [
    "points = example['points']\n",
    "x = points[:,0]\n",
    "y = points[:,1]\n",
    "z = points[:,2]\n",
    "r = np.sqrt(x**2 + y**2 + z **2)\n",
    "plt.plot(r)\n"
   ]
  },
  {
   "cell_type": "code",
   "execution_count": 33,
   "metadata": {},
   "outputs": [
    {
     "ename": "NameError",
     "evalue": "name 'r' is not defined",
     "output_type": "error",
     "traceback": [
      "\u001b[0;31m---------------------------------------------------------------------------\u001b[0m",
      "\u001b[0;31mNameError\u001b[0m                                 Traceback (most recent call last)",
      "\u001b[0;32m<ipython-input-33-337d345aa4ad>\u001b[0m in \u001b[0;36m<module>\u001b[0;34m\u001b[0m\n\u001b[0;32m----> 1\u001b[0;31m \u001b[0mplt\u001b[0m\u001b[0;34m.\u001b[0m\u001b[0mplot\u001b[0m\u001b[0;34m(\u001b[0m\u001b[0mnp\u001b[0m\u001b[0;34m.\u001b[0m\u001b[0mlog\u001b[0m\u001b[0;34m(\u001b[0m\u001b[0mr\u001b[0m\u001b[0;34m)\u001b[0m\u001b[0;34m/\u001b[0m\u001b[0;36m0.008297\u001b[0m\u001b[0;34m)\u001b[0m\u001b[0;34m\u001b[0m\u001b[0;34m\u001b[0m\u001b[0m\n\u001b[0m",
      "\u001b[0;31mNameError\u001b[0m: name 'r' is not defined"
     ]
    }
   ],
   "source": [
    "plt.plot(np.log(r)/0.008297)"
   ]
  },
  {
   "cell_type": "code",
   "execution_count": null,
   "metadata": {},
   "outputs": [],
   "source": [
    "import second\n"
   ]
  },
  {
   "cell_type": "code",
   "execution_count": 34,
   "metadata": {},
   "outputs": [
    {
     "ename": "NameError",
     "evalue": "name 'second' is not defined",
     "output_type": "error",
     "traceback": [
      "\u001b[0;31m---------------------------------------------------------------------------\u001b[0m",
      "\u001b[0;31mNameError\u001b[0m                                 Traceback (most recent call last)",
      "\u001b[0;32m<ipython-input-34-e0f24f04f5a8>\u001b[0m in \u001b[0;36m<module>\u001b[0;34m\u001b[0m\n\u001b[0;32m----> 1\u001b[0;31m \u001b[0mfeature\u001b[0m \u001b[0;34m=\u001b[0m \u001b[0msecond\u001b[0m\u001b[0;34m.\u001b[0m\u001b[0msphere\u001b[0m\u001b[0;34m.\u001b[0m\u001b[0mtransform\u001b[0m\u001b[0;34m.\u001b[0m\u001b[0mxyz2range\u001b[0m\u001b[0;34m(\u001b[0m\u001b[0mexample\u001b[0m\u001b[0;34m[\u001b[0m\u001b[0;34m'points'\u001b[0m\u001b[0;34m]\u001b[0m\u001b[0;34m)\u001b[0m\u001b[0;34m\u001b[0m\u001b[0;34m\u001b[0m\u001b[0m\n\u001b[0m",
      "\u001b[0;31mNameError\u001b[0m: name 'second' is not defined"
     ]
    }
   ],
   "source": [
    "feature = second.sphere.transform.xyz2range(example['points'])"
   ]
  },
  {
   "cell_type": "code",
   "execution_count": 35,
   "metadata": {},
   "outputs": [
    {
     "ename": "NameError",
     "evalue": "name 'second' is not defined",
     "output_type": "error",
     "traceback": [
      "\u001b[0;31m---------------------------------------------------------------------------\u001b[0m",
      "\u001b[0;31mNameError\u001b[0m                                 Traceback (most recent call last)",
      "\u001b[0;32m<ipython-input-35-137f8fc31022>\u001b[0m in \u001b[0;36m<module>\u001b[0;34m\u001b[0m\n\u001b[0;32m----> 1\u001b[0;31m \u001b[0mdepth\u001b[0m \u001b[0;34m=\u001b[0m \u001b[0msecond\u001b[0m\u001b[0;34m.\u001b[0m\u001b[0msphere\u001b[0m\u001b[0;34m.\u001b[0m\u001b[0mconv\u001b[0m\u001b[0;34m.\u001b[0m\u001b[0minit_depth_from_feature\u001b[0m\u001b[0;34m(\u001b[0m\u001b[0mfeature\u001b[0m\u001b[0;34m[\u001b[0m\u001b[0mnp\u001b[0m\u001b[0;34m.\u001b[0m\u001b[0mnewaxis\u001b[0m\u001b[0;34m,\u001b[0m\u001b[0;34m:\u001b[0m\u001b[0;34m]\u001b[0m\u001b[0;34m,\u001b[0m \u001b[0;36m70\u001b[0m\u001b[0;34m)\u001b[0m\u001b[0;34m\u001b[0m\u001b[0;34m\u001b[0m\u001b[0m\n\u001b[0m",
      "\u001b[0;31mNameError\u001b[0m: name 'second' is not defined"
     ]
    }
   ],
   "source": [
    "depth = second.sphere.conv.init_depth_from_feature(feature[np.newaxis,:], 70)"
   ]
  },
  {
   "cell_type": "code",
   "execution_count": 36,
   "metadata": {},
   "outputs": [
    {
     "ename": "NameError",
     "evalue": "name 'feature' is not defined",
     "output_type": "error",
     "traceback": [
      "\u001b[0;31m---------------------------------------------------------------------------\u001b[0m",
      "\u001b[0;31mNameError\u001b[0m                                 Traceback (most recent call last)",
      "\u001b[0;32m<ipython-input-36-465228126f02>\u001b[0m in \u001b[0;36m<module>\u001b[0;34m\u001b[0m\n\u001b[0;32m----> 1\u001b[0;31m \u001b[0mfeature\u001b[0m\u001b[0;34m.\u001b[0m\u001b[0mshape\u001b[0m\u001b[0;34m\u001b[0m\u001b[0;34m\u001b[0m\u001b[0m\n\u001b[0m",
      "\u001b[0;31mNameError\u001b[0m: name 'feature' is not defined"
     ]
    }
   ],
   "source": [
    "feature.shape"
   ]
  },
  {
   "cell_type": "code",
   "execution_count": 37,
   "metadata": {},
   "outputs": [
    {
     "ename": "NameError",
     "evalue": "name 'depth' is not defined",
     "output_type": "error",
     "traceback": [
      "\u001b[0;31m---------------------------------------------------------------------------\u001b[0m",
      "\u001b[0;31mNameError\u001b[0m                                 Traceback (most recent call last)",
      "\u001b[0;32m<ipython-input-37-b2522e1eac24>\u001b[0m in \u001b[0;36m<module>\u001b[0;34m\u001b[0m\n\u001b[1;32m      1\u001b[0m \u001b[0mplt\u001b[0m\u001b[0;34m.\u001b[0m\u001b[0mfigure\u001b[0m\u001b[0;34m(\u001b[0m\u001b[0mfigsize\u001b[0m\u001b[0;34m=\u001b[0m\u001b[0;34m(\u001b[0m\u001b[0;36m12\u001b[0m\u001b[0;34m,\u001b[0m\u001b[0;36m12\u001b[0m\u001b[0;34m)\u001b[0m\u001b[0;34m)\u001b[0m\u001b[0;34m\u001b[0m\u001b[0;34m\u001b[0m\u001b[0m\n\u001b[0;32m----> 2\u001b[0;31m \u001b[0mplt\u001b[0m\u001b[0;34m.\u001b[0m\u001b[0mimshow\u001b[0m\u001b[0;34m(\u001b[0m\u001b[0mdepth\u001b[0m\u001b[0;34m[\u001b[0m\u001b[0;36m0\u001b[0m\u001b[0;34m]\u001b[0m\u001b[0;34m)\u001b[0m\u001b[0;34m\u001b[0m\u001b[0;34m\u001b[0m\u001b[0m\n\u001b[0m",
      "\u001b[0;31mNameError\u001b[0m: name 'depth' is not defined"
     ]
    },
    {
     "data": {
      "text/plain": [
       "<Figure size 864x864 with 0 Axes>"
      ]
     },
     "metadata": {},
     "output_type": "display_data"
    }
   ],
   "source": [
    "plt.figure(figsize=(12,12))\n",
    "plt.imshow(depth[0])"
   ]
  },
  {
   "cell_type": "code",
   "execution_count": null,
   "metadata": {},
   "outputs": [],
   "source": []
  },
  {
   "cell_type": "code",
   "execution_count": null,
   "metadata": {},
   "outputs": [],
   "source": []
  }
 ],
 "metadata": {
  "kernelspec": {
   "display_name": "Conda (depconv)",
   "language": "python",
   "name": "depconv"
  },
  "language_info": {
   "codemirror_mode": {
    "name": "ipython",
    "version": 3
   },
   "file_extension": ".py",
   "mimetype": "text/x-python",
   "name": "python",
   "nbconvert_exporter": "python",
   "pygments_lexer": "ipython3",
   "version": "3.7.7"
  }
 },
 "nbformat": 4,
 "nbformat_minor": 4
}
