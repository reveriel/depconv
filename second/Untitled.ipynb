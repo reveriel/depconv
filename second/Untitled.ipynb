{
 "cells": [
  {
   "cell_type": "code",
   "execution_count": null,
   "metadata": {},
   "outputs": [],
   "source": []
  },
  {
   "cell_type": "code",
   "execution_count": 1,
   "metadata": {},
   "outputs": [],
   "source": [
    "import torch"
   ]
  },
  {
   "cell_type": "code",
   "execution_count": 2,
   "metadata": {},
   "outputs": [],
   "source": [
    "config_path=\"configs/car.fhd.config\""
   ]
  },
  {
   "cell_type": "code",
   "execution_count": 3,
   "metadata": {},
   "outputs": [],
   "source": [
    "from second.protos import pipeline_pb2\n",
    "from google.protobuf import text_format"
   ]
  },
  {
   "cell_type": "code",
   "execution_count": 4,
   "metadata": {},
   "outputs": [],
   "source": [
    "config = pipeline_pb2.TrainEvalPipelineConfig()\n",
    "with open(config_path, \"r\") as f:\n",
    "    proto_str = f.read()\n",
    "    text_format.Merge(proto_str, config)"
   ]
  },
  {
   "cell_type": "code",
   "execution_count": 5,
   "metadata": {},
   "outputs": [
    {
     "data": {
      "text/plain": [
       "model {\n",
       "  second {\n",
       "    network_class_name: \"VoxelNet\"\n",
       "    voxel_generator {\n",
       "      voxel_size: 1.0\n",
       "      voxel_size: 1.0\n",
       "      voxel_size: 1.0\n",
       "      point_cloud_range: 0.0\n",
       "      point_cloud_range: 0.0\n",
       "      point_cloud_range: 0.0\n",
       "      point_cloud_range: 512.0\n",
       "      point_cloud_range: 64.0\n",
       "      point_cloud_range: 128.0\n",
       "      max_number_of_points_per_voxel: 5\n",
       "    }\n",
       "    voxel_feature_extractor {\n",
       "      module_class_name: \"SimpleVoxel\"\n",
       "      num_filters: 16\n",
       "      num_input_features: 4\n",
       "    }\n",
       "    middle_feature_extractor {\n",
       "      module_class_name: \"SpMiddleFHD\"\n",
       "      num_input_features: 4\n",
       "      downsample_factor: 4\n",
       "    }\n",
       "    rpn {\n",
       "      module_class_name: \"RPNV2\"\n",
       "      layer_nums: 5\n",
       "      layer_strides: 1\n",
       "      num_filters: 64\n",
       "      upsample_strides: 1.0\n",
       "      num_upsample_filters: 128\n",
       "      num_groups: 32\n",
       "      num_input_features: 32\n",
       "    }\n",
       "    num_point_features: 4\n",
       "    use_sigmoid_score: true\n",
       "    loss {\n",
       "      localization_loss {\n",
       "        weighted_smooth_l1 {\n",
       "          sigma: 3.0\n",
       "          code_weight: 1.0\n",
       "          code_weight: 1.0\n",
       "          code_weight: 1.0\n",
       "          code_weight: 1.0\n",
       "          code_weight: 1.0\n",
       "          code_weight: 1.0\n",
       "          code_weight: 1.0\n",
       "        }\n",
       "      }\n",
       "      classification_loss {\n",
       "        weighted_sigmoid_focal {\n",
       "          anchorwise_output: true\n",
       "          gamma: 2.0\n",
       "          alpha: 0.25\n",
       "        }\n",
       "      }\n",
       "      classification_weight: 1.0\n",
       "      localization_weight: 2.0\n",
       "    }\n",
       "    encode_rad_error_by_sin: true\n",
       "    encode_background_as_zeros: true\n",
       "    use_direction_classifier: true\n",
       "    direction_loss_weight: 0.20000000298023224\n",
       "    pos_class_weight: 1.0\n",
       "    neg_class_weight: 1.0\n",
       "    loss_norm_type: NormByNumPositives\n",
       "    box_coder {\n",
       "      ground_box3d_coder {\n",
       "      }\n",
       "    }\n",
       "    target_assigner {\n",
       "      class_settings {\n",
       "        anchor_generator_range {\n",
       "          sizes: 1.600000023841858\n",
       "          sizes: 3.9000000953674316\n",
       "          sizes: 1.559999942779541\n",
       "          anchor_ranges: 0.0\n",
       "          anchor_ranges: -40.0\n",
       "          anchor_ranges: -1.0\n",
       "          anchor_ranges: 70.4000015258789\n",
       "          anchor_ranges: 40.0\n",
       "          anchor_ranges: -1.0\n",
       "          rotations: 0.0\n",
       "          rotations: 1.5700000524520874\n",
       "        }\n",
       "        region_similarity_calculator {\n",
       "          nearest_iou_similarity {\n",
       "          }\n",
       "        }\n",
       "        use_rotate_nms: true\n",
       "        nms_pre_max_size: 1000\n",
       "        nms_post_max_size: 100\n",
       "        nms_score_threshold: 0.30000001192092896\n",
       "        nms_iou_threshold: 0.009999999776482582\n",
       "        matched_threshold: 0.6000000238418579\n",
       "        unmatched_threshold: 0.44999998807907104\n",
       "        class_name: \"Car\"\n",
       "      }\n",
       "      sample_positive_fraction: -1.0\n",
       "      sample_size: 512\n",
       "      assign_per_class: true\n",
       "    }\n",
       "    post_center_limit_range: 0.0\n",
       "    post_center_limit_range: -40.0\n",
       "    post_center_limit_range: -2.200000047683716\n",
       "    post_center_limit_range: 70.4000015258789\n",
       "    post_center_limit_range: 40.0\n",
       "    post_center_limit_range: 0.800000011920929\n",
       "    sin_error_factor: 1.0\n",
       "    num_direction_bins: 2\n",
       "    direction_limit_offset: 1.0\n",
       "  }\n",
       "}\n",
       "train_input_reader {\n",
       "  batch_size: 4\n",
       "  dataset {\n",
       "    kitti_info_path: \"/home/gx/GitHub/second.pytorch/dataset/kitti_infos_train.pkl\"\n",
       "    kitti_root_path: \"/home/gx/GitHub/second.pytorch/dataset/\"\n",
       "    dataset_class_name: \"KittiDataset\"\n",
       "  }\n",
       "  preprocess {\n",
       "    max_number_of_voxels: 17000\n",
       "    groundtruth_localization_noise_std: 1.0\n",
       "    groundtruth_localization_noise_std: 1.0\n",
       "    groundtruth_localization_noise_std: 0.5\n",
       "    global_scaling_uniform_noise: 0.949999988079071\n",
       "    global_scaling_uniform_noise: 1.0499999523162842\n",
       "    global_translate_noise_std: 0.0\n",
       "    global_translate_noise_std: 0.0\n",
       "    global_translate_noise_std: 0.0\n",
       "    num_workers: 4\n",
       "    anchor_area_threshold: -1.0\n",
       "    groundtruth_drop_max_keep_points: 15\n",
       "    global_random_rotation_range_per_object: 0.0\n",
       "    global_random_rotation_range_per_object: 0.0\n",
       "    sample_importance: 1.0\n",
       "  }\n",
       "}\n",
       "train_config {\n",
       "  optimizer {\n",
       "    adam_optimizer {\n",
       "      learning_rate {\n",
       "        one_cycle {\n",
       "          lr_max: 0.0022499999031424522\n",
       "          moms: 0.949999988079071\n",
       "          moms: 0.8500000238418579\n",
       "          div_factor: 10.0\n",
       "          pct_start: 0.4000000059604645\n",
       "        }\n",
       "      }\n",
       "      weight_decay: 0.009999999776482582\n",
       "    }\n",
       "    fixed_weight_decay: true\n",
       "  }\n",
       "  steps: 23200\n",
       "  steps_per_eval: 2320\n",
       "  save_checkpoints_secs: 1800\n",
       "  save_summary_steps: 10\n",
       "  loss_scale_factor: -1.0\n",
       "  clear_metrics_every_epoch: true\n",
       "}\n",
       "eval_input_reader {\n",
       "  batch_size: 4\n",
       "  dataset {\n",
       "    kitti_info_path: \"/home/gx/GitHub/second.pytorch/dataset/kitti_infos_val.pkl\"\n",
       "    kitti_root_path: \"/home/gx/GitHub/second.pytorch/dataset/\"\n",
       "    dataset_class_name: \"KittiDataset\"\n",
       "  }\n",
       "  preprocess {\n",
       "    max_number_of_voxels: 40000\n",
       "    num_workers: 4\n",
       "    anchor_area_threshold: -1.0\n",
       "  }\n",
       "}"
      ]
     },
     "execution_count": 5,
     "metadata": {},
     "output_type": "execute_result"
    }
   ],
   "source": [
    "config"
   ]
  },
  {
   "cell_type": "code",
   "execution_count": 6,
   "metadata": {
    "scrolled": true
   },
   "outputs": [],
   "source": [
    "\n",
    "input_cfg = config.train_input_reader\n",
    "eval_input_cfg = config.eval_input_reader\n",
    "model_cfg = config.model.second\n",
    "train_cfg = config.train_config"
   ]
  },
  {
   "cell_type": "code",
   "execution_count": 7,
   "metadata": {},
   "outputs": [],
   "source": [
    "from second.pytorch.builder import (box_coder_builder, input_reader_builder,\n",
    "                                    lr_scheduler_builder, optimizer_builder,\n",
    "                                    second_builder)\n",
    "from second.pytorch.train import build_network"
   ]
  },
  {
   "cell_type": "code",
   "execution_count": 8,
   "metadata": {},
   "outputs": [],
   "source": [
    "device=\"cuda\"\n",
    "net = build_network(model_cfg, False).to(device)\n",
    "target_assigner = net.target_assigner\n",
    "voxel_generator = net.voxel_generator\n"
   ]
  },
  {
   "cell_type": "code",
   "execution_count": 9,
   "metadata": {},
   "outputs": [
    {
     "name": "stdout",
     "output_type": "stream",
     "text": [
      "feautres size [1, 16, 128]\n",
      "res = (1, 16, 128, 1, 2, 7)\n",
      "feautres size [1, 16, 128]\n",
      "res = (1, 16, 128, 1, 2, 7)\n",
      "remain number of infos: 3712\n"
     ]
    }
   ],
   "source": [
    "dataset = input_reader_builder.build(\n",
    "    input_cfg,\n",
    "    model_cfg,\n",
    "    training=True,\n",
    "    voxel_generator=voxel_generator,\n",
    "    target_assigner=target_assigner,\n",
    "    multi_gpu=False)"
   ]
  },
  {
   "cell_type": "code",
   "execution_count": 10,
   "metadata": {},
   "outputs": [],
   "source": [
    "from second.data.preprocess import merge_second_batch, merge_second_batch_multigpu\n",
    "from second.pytorch.train import _worker_init_fn\n",
    "num_gpu=1\n",
    "collate_fn= merge_second_batch\n",
    "multi_gpu = False\n",
    "dataloader = torch.utils.data.DataLoader(\n",
    "        dataset,\n",
    "        batch_size=input_cfg.batch_size * num_gpu,\n",
    "        shuffle=True,\n",
    "        num_workers=input_cfg.preprocess.num_workers * num_gpu,\n",
    "        pin_memory=False,\n",
    "        collate_fn=collate_fn,\n",
    "        worker_init_fn=_worker_init_fn,\n",
    "        drop_last=not multi_gpu)"
   ]
  },
  {
   "cell_type": "code",
   "execution_count": 11,
   "metadata": {},
   "outputs": [
    {
     "data": {
      "text/plain": [
       "['dataset',\n",
       " 'num_workers',\n",
       " 'pin_memory',\n",
       " 'timeout',\n",
       " 'worker_init_fn',\n",
       " '_DataLoader__multiprocessing_context',\n",
       " '_dataset_kind',\n",
       " 'batch_size',\n",
       " 'drop_last',\n",
       " 'sampler',\n",
       " 'batch_sampler',\n",
       " 'collate_fn',\n",
       " '_DataLoader__initialized',\n",
       " '_IterableDataset_len_called',\n",
       " '__module__',\n",
       " '__doc__',\n",
       " '__init__',\n",
       " 'multiprocessing_context',\n",
       " '__setattr__',\n",
       " '__iter__',\n",
       " '_auto_collation',\n",
       " '_index_sampler',\n",
       " '__len__',\n",
       " '__dict__',\n",
       " '__weakref__',\n",
       " '__repr__',\n",
       " '__hash__',\n",
       " '__str__',\n",
       " '__getattribute__',\n",
       " '__delattr__',\n",
       " '__lt__',\n",
       " '__le__',\n",
       " '__eq__',\n",
       " '__ne__',\n",
       " '__gt__',\n",
       " '__ge__',\n",
       " '__new__',\n",
       " '__reduce_ex__',\n",
       " '__reduce__',\n",
       " '__subclasshook__',\n",
       " '__init_subclass__',\n",
       " '__format__',\n",
       " '__sizeof__',\n",
       " '__dir__',\n",
       " '__class__']"
      ]
     },
     "execution_count": 11,
     "metadata": {},
     "output_type": "execute_result"
    }
   ],
   "source": [
    "dataloader.__dir__()\n"
   ]
  },
  {
   "cell_type": "code",
   "execution_count": 12,
   "metadata": {},
   "outputs": [
    {
     "name": "stdout",
     "output_type": "stream",
     "text": [
      "WORKER 0 seed: 1587055226\n",
      "WORKER 1 seed: 1587055227\n",
      "WORKER 2 seed: 1587055228\n",
      "WORKER 3 seed: 1587055229\n"
     ]
    },
    {
     "name": "stderr",
     "output_type": "stream",
     "text": [
      "/home/gx/GitHub/depconv/second/core/geometry.py:272: NumbaWarning: \n",
      "Compilation is falling back to object mode WITH looplifting enabled because Function \"points_in_convex_polygon_jit\" failed type inference due to: Invalid use of Function(<built-in function getitem>) with argument(s) of type(s): (array(float32, 3d, C), Tuple(slice<a:b>, list(int64), slice<a:b>))\n",
      " * parameterized\n",
      "In definition 0:\n",
      "    All templates rejected with literals.\n",
      "In definition 1:\n",
      "    All templates rejected without literals.\n",
      "In definition 2:\n",
      "    All templates rejected with literals.\n",
      "In definition 3:\n",
      "    All templates rejected without literals.\n",
      "In definition 4:\n",
      "    All templates rejected with literals.\n",
      "In definition 5:\n",
      "    All templates rejected without literals.\n",
      "In definition 6:\n",
      "    All templates rejected with literals.\n",
      "In definition 7:\n",
      "    All templates rejected without literals.\n",
      "In definition 8:\n",
      "    All templates rejected with literals.\n",
      "In definition 9:\n",
      "    All templates rejected without literals.\n",
      "In definition 10:\n",
      "    All templates rejected with literals.\n",
      "In definition 11:\n",
      "    All templates rejected without literals.\n",
      "In definition 12:\n",
      "    TypeError: unsupported array index type list(int64) in Tuple(slice<a:b>, list(int64), slice<a:b>)\n",
      "    raised from /home/user/anaconda3/envs/depconv/lib/python3.6/site-packages/numba/typing/arraydecl.py:71\n",
      "In definition 13:\n",
      "    TypeError: unsupported array index type list(int64) in Tuple(slice<a:b>, list(int64), slice<a:b>)\n",
      "    raised from /home/user/anaconda3/envs/depconv/lib/python3.6/site-packages/numba/typing/arraydecl.py:71\n",
      "This error is usually caused by passing an argument of a type that is unsupported by the named function.\n",
      "[1] During: typing of intrinsic-call at /home/gx/GitHub/depconv/second/core/geometry.py (288)\n",
      "\n",
      "File \"core/geometry.py\", line 288:\n",
      "def points_in_convex_polygon_jit(points, polygon, clockwise=True):\n",
      "    <source elided>\n",
      "        vec1 = polygon - polygon[:, [num_points_of_polygon - 1] +\n",
      "                                 list(range(num_points_of_polygon - 1)), :]\n",
      "                                 ^\n",
      "\n",
      "  @numba.jit\n",
      "/home/gx/GitHub/depconv/second/core/geometry.py:272: NumbaWarning: \n",
      "Compilation is falling back to object mode WITH looplifting enabled because Function \"points_in_convex_polygon_jit\" failed type inference due to: Invalid use of Function(<built-in function getitem>) with argument(s) of type(s): (array(float32, 3d, C), Tuple(slice<a:b>, list(int64), slice<a:b>))\n",
      " * parameterized\n",
      "In definition 0:\n",
      "    All templates rejected with literals.\n",
      "In definition 1:\n",
      "    All templates rejected without literals.\n",
      "In definition 2:\n",
      "    All templates rejected with literals.\n",
      "In definition 3:\n",
      "    All templates rejected without literals.\n",
      "In definition 4:\n",
      "    All templates rejected with literals.\n",
      "In definition 5:\n",
      "    All templates rejected without literals.\n",
      "In definition 6:\n",
      "    All templates rejected with literals.\n",
      "In definition 7:\n",
      "    All templates rejected without literals.\n",
      "In definition 8:\n",
      "    All templates rejected with literals.\n",
      "In definition 9:\n",
      "    All templates rejected without literals.\n",
      "In definition 10:\n",
      "    All templates rejected with literals.\n",
      "In definition 11:\n",
      "    All templates rejected without literals.\n",
      "In definition 12:\n",
      "    TypeError: unsupported array index type list(int64) in Tuple(slice<a:b>, list(int64), slice<a:b>)\n",
      "    raised from /home/user/anaconda3/envs/depconv/lib/python3.6/site-packages/numba/typing/arraydecl.py:71\n",
      "In definition 13:\n",
      "    TypeError: unsupported array index type list(int64) in Tuple(slice<a:b>, list(int64), slice<a:b>)\n",
      "    raised from /home/user/anaconda3/envs/depconv/lib/python3.6/site-packages/numba/typing/arraydecl.py:71\n",
      "This error is usually caused by passing an argument of a type that is unsupported by the named function.\n",
      "[1] During: typing of intrinsic-call at /home/gx/GitHub/depconv/second/core/geometry.py (288)\n",
      "\n",
      "File \"core/geometry.py\", line 288:\n",
      "def points_in_convex_polygon_jit(points, polygon, clockwise=True):\n",
      "    <source elided>\n",
      "        vec1 = polygon - polygon[:, [num_points_of_polygon - 1] +\n",
      "                                 list(range(num_points_of_polygon - 1)), :]\n",
      "                                 ^\n",
      "\n",
      "  @numba.jit\n",
      "/home/gx/GitHub/depconv/second/core/geometry.py:272: NumbaWarning: \n",
      "Compilation is falling back to object mode WITH looplifting enabled because Function \"points_in_convex_polygon_jit\" failed type inference due to: Invalid use of Function(<built-in function getitem>) with argument(s) of type(s): (array(float32, 3d, C), Tuple(slice<a:b>, list(int64), slice<a:b>))\n",
      " * parameterized\n",
      "In definition 0:\n",
      "    All templates rejected with literals.\n",
      "In definition 1:\n",
      "    All templates rejected without literals.\n",
      "In definition 2:\n",
      "    All templates rejected with literals.\n",
      "In definition 3:\n",
      "    All templates rejected without literals.\n",
      "In definition 4:\n",
      "    All templates rejected with literals.\n",
      "In definition 5:\n",
      "    All templates rejected without literals.\n",
      "In definition 6:\n",
      "    All templates rejected with literals.\n",
      "In definition 7:\n",
      "    All templates rejected without literals.\n",
      "In definition 8:\n",
      "    All templates rejected with literals.\n",
      "In definition 9:\n",
      "    All templates rejected without literals.\n",
      "In definition 10:\n",
      "    All templates rejected with literals.\n",
      "In definition 11:\n",
      "    All templates rejected without literals.\n",
      "In definition 12:\n",
      "    TypeError: unsupported array index type list(int64) in Tuple(slice<a:b>, list(int64), slice<a:b>)\n",
      "    raised from /home/user/anaconda3/envs/depconv/lib/python3.6/site-packages/numba/typing/arraydecl.py:71\n",
      "In definition 13:\n",
      "    TypeError: unsupported array index type list(int64) in Tuple(slice<a:b>, list(int64), slice<a:b>)\n",
      "    raised from /home/user/anaconda3/envs/depconv/lib/python3.6/site-packages/numba/typing/arraydecl.py:71\n",
      "This error is usually caused by passing an argument of a type that is unsupported by the named function.\n",
      "[1] During: typing of intrinsic-call at /home/gx/GitHub/depconv/second/core/geometry.py (288)\n",
      "\n",
      "File \"core/geometry.py\", line 288:\n",
      "def points_in_convex_polygon_jit(points, polygon, clockwise=True):\n",
      "    <source elided>\n",
      "        vec1 = polygon - polygon[:, [num_points_of_polygon - 1] +\n",
      "                                 list(range(num_points_of_polygon - 1)), :]\n",
      "                                 ^\n",
      "\n",
      "  @numba.jit\n",
      "/home/gx/GitHub/depconv/second/core/geometry.py:272: NumbaWarning: \n",
      "Compilation is falling back to object mode WITH looplifting enabled because Function \"points_in_convex_polygon_jit\" failed type inference due to: Invalid use of Function(<built-in function getitem>) with argument(s) of type(s): (array(float32, 3d, C), Tuple(slice<a:b>, list(int64), slice<a:b>))\n",
      " * parameterized\n",
      "In definition 0:\n",
      "    All templates rejected with literals.\n",
      "In definition 1:\n",
      "    All templates rejected without literals.\n",
      "In definition 2:\n",
      "    All templates rejected with literals.\n",
      "In definition 3:\n",
      "    All templates rejected without literals.\n",
      "In definition 4:\n",
      "    All templates rejected with literals.\n",
      "In definition 5:\n",
      "    All templates rejected without literals.\n",
      "In definition 6:\n",
      "    All templates rejected with literals.\n",
      "In definition 7:\n",
      "    All templates rejected without literals.\n",
      "In definition 8:\n",
      "    All templates rejected with literals.\n",
      "In definition 9:\n",
      "    All templates rejected without literals.\n",
      "In definition 10:\n",
      "    All templates rejected with literals.\n",
      "In definition 11:\n",
      "    All templates rejected without literals.\n",
      "In definition 12:\n",
      "    TypeError: unsupported array index type list(int64) in Tuple(slice<a:b>, list(int64), slice<a:b>)\n",
      "    raised from /home/user/anaconda3/envs/depconv/lib/python3.6/site-packages/numba/typing/arraydecl.py:71\n",
      "In definition 13:\n",
      "    TypeError: unsupported array index type list(int64) in Tuple(slice<a:b>, list(int64), slice<a:b>)\n",
      "    raised from /home/user/anaconda3/envs/depconv/lib/python3.6/site-packages/numba/typing/arraydecl.py:71\n",
      "This error is usually caused by passing an argument of a type that is unsupported by the named function.\n",
      "[1] During: typing of intrinsic-call at /home/gx/GitHub/depconv/second/core/geometry.py (288)\n",
      "\n",
      "File \"core/geometry.py\", line 288:\n",
      "def points_in_convex_polygon_jit(points, polygon, clockwise=True):\n",
      "    <source elided>\n",
      "        vec1 = polygon - polygon[:, [num_points_of_polygon - 1] +\n",
      "                                 list(range(num_points_of_polygon - 1)), :]\n",
      "                                 ^\n",
      "\n",
      "  @numba.jit\n"
     ]
    },
    {
     "name": "stderr",
     "output_type": "stream",
     "text": [
      "/home/gx/GitHub/depconv/second/core/geometry.py:272: NumbaWarning: \n",
      "Compilation is falling back to object mode WITHOUT looplifting enabled because Function \"points_in_convex_polygon_jit\" failed type inference due to: cannot determine Numba type of <class 'numba.dispatcher.LiftedLoop'>\n",
      "\n",
      "File \"core/geometry.py\", line 296:\n",
      "def points_in_convex_polygon_jit(points, polygon, clockwise=True):\n",
      "    <source elided>\n",
      "    cross = 0.0\n",
      "    for i in range(num_points):\n",
      "    ^\n",
      "\n",
      "  @numba.jit\n",
      "/home/gx/GitHub/depconv/second/core/geometry.py:272: NumbaWarning: \n",
      "Compilation is falling back to object mode WITHOUT looplifting enabled because Function \"points_in_convex_polygon_jit\" failed type inference due to: cannot determine Numba type of <class 'numba.dispatcher.LiftedLoop'>\n",
      "\n",
      "File \"core/geometry.py\", line 296:\n",
      "def points_in_convex_polygon_jit(points, polygon, clockwise=True):\n",
      "    <source elided>\n",
      "    cross = 0.0\n",
      "    for i in range(num_points):\n",
      "    ^\n",
      "\n",
      "  @numba.jit\n",
      "/home/gx/GitHub/depconv/second/core/geometry.py:272: NumbaWarning: \n",
      "Compilation is falling back to object mode WITHOUT looplifting enabled because Function \"points_in_convex_polygon_jit\" failed type inference due to: cannot determine Numba type of <class 'numba.dispatcher.LiftedLoop'>\n",
      "\n",
      "File \"core/geometry.py\", line 296:\n",
      "def points_in_convex_polygon_jit(points, polygon, clockwise=True):\n",
      "    <source elided>\n",
      "    cross = 0.0\n",
      "    for i in range(num_points):\n",
      "    ^\n",
      "\n",
      "  @numba.jit\n",
      "/home/gx/GitHub/depconv/second/core/geometry.py:272: NumbaWarning: \n",
      "Compilation is falling back to object mode WITHOUT looplifting enabled because Function \"points_in_convex_polygon_jit\" failed type inference due to: cannot determine Numba type of <class 'numba.dispatcher.LiftedLoop'>\n",
      "\n",
      "File \"core/geometry.py\", line 296:\n",
      "def points_in_convex_polygon_jit(points, polygon, clockwise=True):\n",
      "    <source elided>\n",
      "    cross = 0.0\n",
      "    for i in range(num_points):\n",
      "    ^\n",
      "\n",
      "  @numba.jit\n",
      "/home/user/anaconda3/envs/depconv/lib/python3.6/site-packages/numba/object_mode_passes.py:178: NumbaWarning: Function \"points_in_convex_polygon_jit\" was compiled in object mode without forceobj=True, but has lifted loops.\n",
      "\n",
      "File \"core/geometry.py\", line 283:\n",
      "def points_in_convex_polygon_jit(points, polygon, clockwise=True):\n",
      "    <source elided>\n",
      "    # first convert polygon to directed lines\n",
      "    num_points_of_polygon = polygon.shape[1]\n",
      "    ^\n",
      "\n",
      "  state.func_ir.loc))\n",
      "/home/user/anaconda3/envs/depconv/lib/python3.6/site-packages/numba/object_mode_passes.py:188: NumbaDeprecationWarning: \n",
      "Fall-back from the nopython compilation path to the object mode compilation path has been detected, this is deprecated behaviour.\n",
      "\n",
      "For more information visit http://numba.pydata.org/numba-doc/latest/reference/deprecation.html#deprecation-of-object-mode-fall-back-behaviour-when-using-jit\n",
      "\n",
      "File \"core/geometry.py\", line 283:\n",
      "def points_in_convex_polygon_jit(points, polygon, clockwise=True):\n",
      "    <source elided>\n",
      "    # first convert polygon to directed lines\n",
      "    num_points_of_polygon = polygon.shape[1]\n",
      "    ^\n",
      "\n",
      "  state.func_ir.loc))\n",
      "/home/user/anaconda3/envs/depconv/lib/python3.6/site-packages/numba/object_mode_passes.py:178: NumbaWarning: Function \"points_in_convex_polygon_jit\" was compiled in object mode without forceobj=True, but has lifted loops.\n",
      "\n",
      "File \"core/geometry.py\", line 283:\n",
      "def points_in_convex_polygon_jit(points, polygon, clockwise=True):\n",
      "    <source elided>\n",
      "    # first convert polygon to directed lines\n",
      "    num_points_of_polygon = polygon.shape[1]\n",
      "    ^\n",
      "\n",
      "  state.func_ir.loc))\n",
      "/home/user/anaconda3/envs/depconv/lib/python3.6/site-packages/numba/object_mode_passes.py:188: NumbaDeprecationWarning: \n",
      "Fall-back from the nopython compilation path to the object mode compilation path has been detected, this is deprecated behaviour.\n",
      "\n",
      "For more information visit http://numba.pydata.org/numba-doc/latest/reference/deprecation.html#deprecation-of-object-mode-fall-back-behaviour-when-using-jit\n",
      "\n",
      "File \"core/geometry.py\", line 283:\n",
      "def points_in_convex_polygon_jit(points, polygon, clockwise=True):\n",
      "    <source elided>\n",
      "    # first convert polygon to directed lines\n",
      "    num_points_of_polygon = polygon.shape[1]\n",
      "    ^\n",
      "\n",
      "  state.func_ir.loc))\n",
      "/home/user/anaconda3/envs/depconv/lib/python3.6/site-packages/numba/object_mode_passes.py:178: NumbaWarning: Function \"points_in_convex_polygon_jit\" was compiled in object mode without forceobj=True, but has lifted loops.\n",
      "\n",
      "File \"core/geometry.py\", line 283:\n",
      "def points_in_convex_polygon_jit(points, polygon, clockwise=True):\n",
      "    <source elided>\n",
      "    # first convert polygon to directed lines\n",
      "    num_points_of_polygon = polygon.shape[1]\n",
      "    ^\n",
      "\n",
      "  state.func_ir.loc))\n",
      "/home/user/anaconda3/envs/depconv/lib/python3.6/site-packages/numba/object_mode_passes.py:188: NumbaDeprecationWarning: \n",
      "Fall-back from the nopython compilation path to the object mode compilation path has been detected, this is deprecated behaviour.\n",
      "\n",
      "For more information visit http://numba.pydata.org/numba-doc/latest/reference/deprecation.html#deprecation-of-object-mode-fall-back-behaviour-when-using-jit\n",
      "\n",
      "File \"core/geometry.py\", line 283:\n",
      "def points_in_convex_polygon_jit(points, polygon, clockwise=True):\n",
      "    <source elided>\n",
      "    # first convert polygon to directed lines\n",
      "    num_points_of_polygon = polygon.shape[1]\n",
      "    ^\n",
      "\n",
      "  state.func_ir.loc))\n",
      "/home/user/anaconda3/envs/depconv/lib/python3.6/site-packages/numba/object_mode_passes.py:178: NumbaWarning: Function \"points_in_convex_polygon_jit\" was compiled in object mode without forceobj=True, but has lifted loops.\n",
      "\n",
      "File \"core/geometry.py\", line 283:\n",
      "def points_in_convex_polygon_jit(points, polygon, clockwise=True):\n",
      "    <source elided>\n",
      "    # first convert polygon to directed lines\n",
      "    num_points_of_polygon = polygon.shape[1]\n",
      "    ^\n",
      "\n",
      "  state.func_ir.loc))\n",
      "/home/user/anaconda3/envs/depconv/lib/python3.6/site-packages/numba/object_mode_passes.py:188: NumbaDeprecationWarning: \n",
      "Fall-back from the nopython compilation path to the object mode compilation path has been detected, this is deprecated behaviour.\n",
      "\n",
      "For more information visit http://numba.pydata.org/numba-doc/latest/reference/deprecation.html#deprecation-of-object-mode-fall-back-behaviour-when-using-jit\n",
      "\n",
      "File \"core/geometry.py\", line 283:\n",
      "def points_in_convex_polygon_jit(points, polygon, clockwise=True):\n",
      "    <source elided>\n",
      "    # first convert polygon to directed lines\n",
      "    num_points_of_polygon = polygon.shape[1]\n",
      "    ^\n",
      "\n",
      "  state.func_ir.loc))\n",
      "/home/gx/GitHub/depconv/second/core/geometry.py:272: NumbaWarning: \n",
      "Compilation is falling back to object mode WITH looplifting enabled because Function \"points_in_convex_polygon_jit\" failed type inference due to: Invalid use of Function(<built-in function getitem>) with argument(s) of type(s): (array(float32, 3d, C), Tuple(slice<a:b>, list(int64), slice<a:b>))\n",
      " * parameterized\n",
      "In definition 0:\n",
      "    All templates rejected with literals.\n",
      "In definition 1:\n",
      "    All templates rejected without literals.\n",
      "In definition 2:\n",
      "    All templates rejected with literals.\n",
      "In definition 3:\n",
      "    All templates rejected without literals.\n",
      "In definition 4:\n",
      "    All templates rejected with literals.\n",
      "In definition 5:\n",
      "    All templates rejected without literals.\n",
      "In definition 6:\n",
      "    All templates rejected with literals.\n",
      "In definition 7:\n",
      "    All templates rejected without literals.\n",
      "In definition 8:\n",
      "    All templates rejected with literals.\n",
      "In definition 9:\n",
      "    All templates rejected without literals.\n",
      "In definition 10:\n",
      "    All templates rejected with literals.\n",
      "In definition 11:\n",
      "    All templates rejected without literals.\n",
      "In definition 12:\n",
      "    TypeError: unsupported array index type list(int64) in Tuple(slice<a:b>, list(int64), slice<a:b>)\n",
      "    raised from /home/user/anaconda3/envs/depconv/lib/python3.6/site-packages/numba/typing/arraydecl.py:71\n",
      "In definition 13:\n",
      "    TypeError: unsupported array index type list(int64) in Tuple(slice<a:b>, list(int64), slice<a:b>)\n",
      "    raised from /home/user/anaconda3/envs/depconv/lib/python3.6/site-packages/numba/typing/arraydecl.py:71\n",
      "This error is usually caused by passing an argument of a type that is unsupported by the named function.\n",
      "[1] During: typing of intrinsic-call at /home/gx/GitHub/depconv/second/core/geometry.py (288)\n",
      "\n",
      "File \"core/geometry.py\", line 288:\n",
      "def points_in_convex_polygon_jit(points, polygon, clockwise=True):\n",
      "    <source elided>\n",
      "        vec1 = polygon - polygon[:, [num_points_of_polygon - 1] +\n",
      "                                 list(range(num_points_of_polygon - 1)), :]\n",
      "                                 ^\n",
      "\n",
      "  @numba.jit\n"
     ]
    },
    {
     "name": "stderr",
     "output_type": "stream",
     "text": [
      "/home/gx/GitHub/depconv/second/core/geometry.py:272: NumbaWarning: \n",
      "Compilation is falling back to object mode WITHOUT looplifting enabled because Function \"points_in_convex_polygon_jit\" failed type inference due to: cannot determine Numba type of <class 'numba.dispatcher.LiftedLoop'>\n",
      "\n",
      "File \"core/geometry.py\", line 296:\n",
      "def points_in_convex_polygon_jit(points, polygon, clockwise=True):\n",
      "    <source elided>\n",
      "    cross = 0.0\n",
      "    for i in range(num_points):\n",
      "    ^\n",
      "\n",
      "  @numba.jit\n",
      "/home/gx/GitHub/depconv/second/core/geometry.py:272: NumbaWarning: \n",
      "Compilation is falling back to object mode WITH looplifting enabled because Function \"points_in_convex_polygon_jit\" failed type inference due to: Invalid use of Function(<built-in function getitem>) with argument(s) of type(s): (array(float32, 3d, C), Tuple(slice<a:b>, list(int64), slice<a:b>))\n",
      " * parameterized\n",
      "In definition 0:\n",
      "    All templates rejected with literals.\n",
      "In definition 1:\n",
      "    All templates rejected without literals.\n",
      "In definition 2:\n",
      "    All templates rejected with literals.\n",
      "In definition 3:\n",
      "    All templates rejected without literals.\n",
      "In definition 4:\n",
      "    All templates rejected with literals.\n",
      "In definition 5:\n",
      "    All templates rejected without literals.\n",
      "In definition 6:\n",
      "    All templates rejected with literals.\n",
      "In definition 7:\n",
      "    All templates rejected without literals.\n",
      "In definition 8:\n",
      "    All templates rejected with literals.\n",
      "In definition 9:\n",
      "    All templates rejected without literals.\n",
      "In definition 10:\n",
      "    All templates rejected with literals.\n",
      "In definition 11:\n",
      "    All templates rejected without literals.\n",
      "In definition 12:\n",
      "    TypeError: unsupported array index type list(int64) in Tuple(slice<a:b>, list(int64), slice<a:b>)\n",
      "    raised from /home/user/anaconda3/envs/depconv/lib/python3.6/site-packages/numba/typing/arraydecl.py:71\n",
      "In definition 13:\n",
      "    TypeError: unsupported array index type list(int64) in Tuple(slice<a:b>, list(int64), slice<a:b>)\n",
      "    raised from /home/user/anaconda3/envs/depconv/lib/python3.6/site-packages/numba/typing/arraydecl.py:71\n",
      "This error is usually caused by passing an argument of a type that is unsupported by the named function.\n",
      "[1] During: typing of intrinsic-call at /home/gx/GitHub/depconv/second/core/geometry.py (288)\n",
      "\n",
      "File \"core/geometry.py\", line 288:\n",
      "def points_in_convex_polygon_jit(points, polygon, clockwise=True):\n",
      "    <source elided>\n",
      "        vec1 = polygon - polygon[:, [num_points_of_polygon - 1] +\n",
      "                                 list(range(num_points_of_polygon - 1)), :]\n",
      "                                 ^\n",
      "\n",
      "  @numba.jit\n",
      "/home/gx/GitHub/depconv/second/core/geometry.py:272: NumbaWarning: \n",
      "Compilation is falling back to object mode WITHOUT looplifting enabled because Function \"points_in_convex_polygon_jit\" failed type inference due to: cannot determine Numba type of <class 'numba.dispatcher.LiftedLoop'>\n",
      "\n",
      "File \"core/geometry.py\", line 296:\n",
      "def points_in_convex_polygon_jit(points, polygon, clockwise=True):\n",
      "    <source elided>\n",
      "    cross = 0.0\n",
      "    for i in range(num_points):\n",
      "    ^\n",
      "\n",
      "  @numba.jit\n",
      "/home/gx/GitHub/depconv/second/core/geometry.py:272: NumbaWarning: \n",
      "Compilation is falling back to object mode WITH looplifting enabled because Function \"points_in_convex_polygon_jit\" failed type inference due to: Invalid use of Function(<built-in function getitem>) with argument(s) of type(s): (array(float32, 3d, C), Tuple(slice<a:b>, list(int64), slice<a:b>))\n",
      " * parameterized\n",
      "In definition 0:\n",
      "    All templates rejected with literals.\n",
      "In definition 1:\n",
      "    All templates rejected without literals.\n",
      "In definition 2:\n",
      "    All templates rejected with literals.\n",
      "In definition 3:\n",
      "    All templates rejected without literals.\n",
      "In definition 4:\n",
      "    All templates rejected with literals.\n",
      "In definition 5:\n",
      "    All templates rejected without literals.\n",
      "In definition 6:\n",
      "    All templates rejected with literals.\n",
      "In definition 7:\n",
      "    All templates rejected without literals.\n",
      "In definition 8:\n",
      "    All templates rejected with literals.\n",
      "In definition 9:\n",
      "    All templates rejected without literals.\n",
      "In definition 10:\n",
      "    All templates rejected with literals.\n",
      "In definition 11:\n",
      "    All templates rejected without literals.\n",
      "In definition 12:\n",
      "    TypeError: unsupported array index type list(int64) in Tuple(slice<a:b>, list(int64), slice<a:b>)\n",
      "    raised from /home/user/anaconda3/envs/depconv/lib/python3.6/site-packages/numba/typing/arraydecl.py:71\n",
      "In definition 13:\n",
      "    TypeError: unsupported array index type list(int64) in Tuple(slice<a:b>, list(int64), slice<a:b>)\n",
      "    raised from /home/user/anaconda3/envs/depconv/lib/python3.6/site-packages/numba/typing/arraydecl.py:71\n",
      "This error is usually caused by passing an argument of a type that is unsupported by the named function.\n",
      "[1] During: typing of intrinsic-call at /home/gx/GitHub/depconv/second/core/geometry.py (288)\n",
      "\n",
      "File \"core/geometry.py\", line 288:\n",
      "def points_in_convex_polygon_jit(points, polygon, clockwise=True):\n",
      "    <source elided>\n",
      "        vec1 = polygon - polygon[:, [num_points_of_polygon - 1] +\n",
      "                                 list(range(num_points_of_polygon - 1)), :]\n",
      "                                 ^\n",
      "\n",
      "  @numba.jit\n",
      "/home/gx/GitHub/depconv/second/core/geometry.py:272: NumbaWarning: \n",
      "Compilation is falling back to object mode WITHOUT looplifting enabled because Function \"points_in_convex_polygon_jit\" failed type inference due to: cannot determine Numba type of <class 'numba.dispatcher.LiftedLoop'>\n",
      "\n",
      "File \"core/geometry.py\", line 296:\n",
      "def points_in_convex_polygon_jit(points, polygon, clockwise=True):\n",
      "    <source elided>\n",
      "    cross = 0.0\n",
      "    for i in range(num_points):\n",
      "    ^\n",
      "\n",
      "  @numba.jit\n",
      "/home/gx/GitHub/depconv/second/core/geometry.py:272: NumbaWarning: \n",
      "Compilation is falling back to object mode WITH looplifting enabled because Function \"points_in_convex_polygon_jit\" failed type inference due to: Invalid use of Function(<built-in function getitem>) with argument(s) of type(s): (array(float32, 3d, C), Tuple(slice<a:b>, list(int64), slice<a:b>))\n",
      " * parameterized\n",
      "In definition 0:\n",
      "    All templates rejected with literals.\n",
      "In definition 1:\n",
      "    All templates rejected without literals.\n",
      "In definition 2:\n",
      "    All templates rejected with literals.\n",
      "In definition 3:\n",
      "    All templates rejected without literals.\n",
      "In definition 4:\n",
      "    All templates rejected with literals.\n",
      "In definition 5:\n",
      "    All templates rejected without literals.\n",
      "In definition 6:\n",
      "    All templates rejected with literals.\n",
      "In definition 7:\n",
      "    All templates rejected without literals.\n",
      "In definition 8:\n",
      "    All templates rejected with literals.\n",
      "In definition 9:\n",
      "    All templates rejected without literals.\n",
      "In definition 10:\n",
      "    All templates rejected with literals.\n",
      "In definition 11:\n",
      "    All templates rejected without literals.\n",
      "In definition 12:\n",
      "    TypeError: unsupported array index type list(int64) in Tuple(slice<a:b>, list(int64), slice<a:b>)\n",
      "    raised from /home/user/anaconda3/envs/depconv/lib/python3.6/site-packages/numba/typing/arraydecl.py:71\n",
      "In definition 13:\n",
      "    TypeError: unsupported array index type list(int64) in Tuple(slice<a:b>, list(int64), slice<a:b>)\n",
      "    raised from /home/user/anaconda3/envs/depconv/lib/python3.6/site-packages/numba/typing/arraydecl.py:71\n",
      "This error is usually caused by passing an argument of a type that is unsupported by the named function.\n",
      "[1] During: typing of intrinsic-call at /home/gx/GitHub/depconv/second/core/geometry.py (288)\n",
      "\n",
      "File \"core/geometry.py\", line 288:\n",
      "def points_in_convex_polygon_jit(points, polygon, clockwise=True):\n",
      "    <source elided>\n",
      "        vec1 = polygon - polygon[:, [num_points_of_polygon - 1] +\n",
      "                                 list(range(num_points_of_polygon - 1)), :]\n",
      "                                 ^\n",
      "\n",
      "  @numba.jit\n",
      "/home/user/anaconda3/envs/depconv/lib/python3.6/site-packages/numba/object_mode_passes.py:178: NumbaWarning: Function \"points_in_convex_polygon_jit\" was compiled in object mode without forceobj=True, but has lifted loops.\n",
      "\n",
      "File \"core/geometry.py\", line 283:\n",
      "def points_in_convex_polygon_jit(points, polygon, clockwise=True):\n",
      "    <source elided>\n",
      "    # first convert polygon to directed lines\n",
      "    num_points_of_polygon = polygon.shape[1]\n",
      "    ^\n",
      "\n",
      "  state.func_ir.loc))\n",
      "/home/user/anaconda3/envs/depconv/lib/python3.6/site-packages/numba/object_mode_passes.py:188: NumbaDeprecationWarning: \n",
      "Fall-back from the nopython compilation path to the object mode compilation path has been detected, this is deprecated behaviour.\n",
      "\n",
      "For more information visit http://numba.pydata.org/numba-doc/latest/reference/deprecation.html#deprecation-of-object-mode-fall-back-behaviour-when-using-jit\n",
      "\n",
      "File \"core/geometry.py\", line 283:\n",
      "def points_in_convex_polygon_jit(points, polygon, clockwise=True):\n",
      "    <source elided>\n",
      "    # first convert polygon to directed lines\n",
      "    num_points_of_polygon = polygon.shape[1]\n",
      "    ^\n",
      "\n",
      "  state.func_ir.loc))\n"
     ]
    },
    {
     "name": "stderr",
     "output_type": "stream",
     "text": [
      "/home/user/anaconda3/envs/depconv/lib/python3.6/site-packages/numba/object_mode_passes.py:178: NumbaWarning: Function \"points_in_convex_polygon_jit\" was compiled in object mode without forceobj=True, but has lifted loops.\n",
      "\n",
      "File \"core/geometry.py\", line 283:\n",
      "def points_in_convex_polygon_jit(points, polygon, clockwise=True):\n",
      "    <source elided>\n",
      "    # first convert polygon to directed lines\n",
      "    num_points_of_polygon = polygon.shape[1]\n",
      "    ^\n",
      "\n",
      "  state.func_ir.loc))\n",
      "/home/user/anaconda3/envs/depconv/lib/python3.6/site-packages/numba/object_mode_passes.py:188: NumbaDeprecationWarning: \n",
      "Fall-back from the nopython compilation path to the object mode compilation path has been detected, this is deprecated behaviour.\n",
      "\n",
      "For more information visit http://numba.pydata.org/numba-doc/latest/reference/deprecation.html#deprecation-of-object-mode-fall-back-behaviour-when-using-jit\n",
      "\n",
      "File \"core/geometry.py\", line 283:\n",
      "def points_in_convex_polygon_jit(points, polygon, clockwise=True):\n",
      "    <source elided>\n",
      "    # first convert polygon to directed lines\n",
      "    num_points_of_polygon = polygon.shape[1]\n",
      "    ^\n",
      "\n",
      "  state.func_ir.loc))\n",
      "/home/gx/GitHub/depconv/second/core/geometry.py:272: NumbaWarning: \n",
      "Compilation is falling back to object mode WITHOUT looplifting enabled because Function \"points_in_convex_polygon_jit\" failed type inference due to: cannot determine Numba type of <class 'numba.dispatcher.LiftedLoop'>\n",
      "\n",
      "File \"core/geometry.py\", line 296:\n",
      "def points_in_convex_polygon_jit(points, polygon, clockwise=True):\n",
      "    <source elided>\n",
      "    cross = 0.0\n",
      "    for i in range(num_points):\n",
      "    ^\n",
      "\n",
      "  @numba.jit\n",
      "/home/user/anaconda3/envs/depconv/lib/python3.6/site-packages/numba/object_mode_passes.py:178: NumbaWarning: Function \"points_in_convex_polygon_jit\" was compiled in object mode without forceobj=True, but has lifted loops.\n",
      "\n",
      "File \"core/geometry.py\", line 283:\n",
      "def points_in_convex_polygon_jit(points, polygon, clockwise=True):\n",
      "    <source elided>\n",
      "    # first convert polygon to directed lines\n",
      "    num_points_of_polygon = polygon.shape[1]\n",
      "    ^\n",
      "\n",
      "  state.func_ir.loc))\n",
      "/home/user/anaconda3/envs/depconv/lib/python3.6/site-packages/numba/object_mode_passes.py:188: NumbaDeprecationWarning: \n",
      "Fall-back from the nopython compilation path to the object mode compilation path has been detected, this is deprecated behaviour.\n",
      "\n",
      "For more information visit http://numba.pydata.org/numba-doc/latest/reference/deprecation.html#deprecation-of-object-mode-fall-back-behaviour-when-using-jit\n",
      "\n",
      "File \"core/geometry.py\", line 283:\n",
      "def points_in_convex_polygon_jit(points, polygon, clockwise=True):\n",
      "    <source elided>\n",
      "    # first convert polygon to directed lines\n",
      "    num_points_of_polygon = polygon.shape[1]\n",
      "    ^\n",
      "\n",
      "  state.func_ir.loc))\n",
      "/home/user/anaconda3/envs/depconv/lib/python3.6/site-packages/numba/object_mode_passes.py:178: NumbaWarning: Function \"points_in_convex_polygon_jit\" was compiled in object mode without forceobj=True, but has lifted loops.\n",
      "\n",
      "File \"core/geometry.py\", line 283:\n",
      "def points_in_convex_polygon_jit(points, polygon, clockwise=True):\n",
      "    <source elided>\n",
      "    # first convert polygon to directed lines\n",
      "    num_points_of_polygon = polygon.shape[1]\n",
      "    ^\n",
      "\n",
      "  state.func_ir.loc))\n",
      "/home/user/anaconda3/envs/depconv/lib/python3.6/site-packages/numba/object_mode_passes.py:188: NumbaDeprecationWarning: \n",
      "Fall-back from the nopython compilation path to the object mode compilation path has been detected, this is deprecated behaviour.\n",
      "\n",
      "For more information visit http://numba.pydata.org/numba-doc/latest/reference/deprecation.html#deprecation-of-object-mode-fall-back-behaviour-when-using-jit\n",
      "\n",
      "File \"core/geometry.py\", line 283:\n",
      "def points_in_convex_polygon_jit(points, polygon, clockwise=True):\n",
      "    <source elided>\n",
      "    # first convert polygon to directed lines\n",
      "    num_points_of_polygon = polygon.shape[1]\n",
      "    ^\n",
      "\n",
      "  state.func_ir.loc))\n"
     ]
    }
   ],
   "source": [
    "examples = []\n",
    "loop_i = 0\n",
    "for example in dataloader:\n",
    "    loop_i += 1\n",
    "    if loop_i > 10:\n",
    "        break\n",
    "    examples.append(example)\n"
   ]
  },
  {
   "cell_type": "code",
   "execution_count": 13,
   "metadata": {},
   "outputs": [
    {
     "data": {
      "text/plain": [
       "{'metrics': [{'voxel_gene_time': 0.0019605159759521484,\n",
       "   'prep_time': 1.5746243000030518},\n",
       "  {'voxel_gene_time': 0.0018405914306640625, 'prep_time': 1.4325065612792969},\n",
       "  {'voxel_gene_time': 0.0017459392547607422,\n",
       "   'prep_time': 0.002705097198486328},\n",
       "  {'voxel_gene_time': 0.0017626285552978516,\n",
       "   'prep_time': 0.0026421546936035156}],\n",
       " 'feature': array([[[[ 0.        , 13.74809742, 13.94395256, ...,  0.        ,\n",
       "            0.        ,  0.        ],\n",
       "          [13.6138525 , 13.62615585, 13.77914715, ...,  0.        ,\n",
       "            0.        ,  0.        ],\n",
       "          [13.56747437, 13.92331886, 14.01078033, ...,  0.        ,\n",
       "            0.        ,  0.        ],\n",
       "          ...,\n",
       "          [ 0.        ,  0.        ,  0.        , ...,  0.        ,\n",
       "            0.        ,  0.        ],\n",
       "          [ 0.        ,  0.        ,  0.        , ...,  0.        ,\n",
       "            0.        ,  0.        ],\n",
       "          [ 0.        ,  0.        ,  0.        , ...,  0.        ,\n",
       "            0.        ,  0.        ]],\n",
       " \n",
       "         [[ 0.        , 14.72777557, 14.89111519, ...,  0.        ,\n",
       "            0.        ,  0.        ],\n",
       "          [14.67587948, 14.65921974, 14.73079014, ...,  0.        ,\n",
       "            0.        ,  0.        ],\n",
       "          [14.64247894, 14.90162373, 14.89978313, ...,  0.        ,\n",
       "            0.        ,  0.        ],\n",
       "          ...,\n",
       "          [ 0.        ,  0.        ,  0.        , ...,  0.        ,\n",
       "            0.        ,  0.        ],\n",
       "          [ 0.        ,  0.        ,  0.        , ...,  0.        ,\n",
       "            0.        ,  0.        ],\n",
       "          [ 0.        ,  0.        ,  0.        , ...,  0.        ,\n",
       "            0.        ,  0.        ]],\n",
       " \n",
       "         [[ 0.        ,  0.89113063,  0.90018278, ...,  0.        ,\n",
       "            0.        ,  0.        ],\n",
       "          [ 0.88710755,  0.75937206,  0.76440102, ...,  0.        ,\n",
       "            0.        ,  0.        ],\n",
       "          [ 0.75836629,  0.67387986,  0.67488563, ...,  0.        ,\n",
       "            0.        ,  0.        ],\n",
       "          ...,\n",
       "          [ 0.        ,  0.        ,  0.        , ...,  0.        ,\n",
       "            0.        ,  0.        ],\n",
       "          [ 0.        ,  0.        ,  0.        , ...,  0.        ,\n",
       "            0.        ,  0.        ],\n",
       "          [ 0.        ,  0.        ,  0.        , ...,  0.        ,\n",
       "            0.        ,  0.        ]],\n",
       " \n",
       "         [[ 0.        ,  4.57618952,  4.60551834, ...,  0.        ,\n",
       "            0.        ,  0.        ],\n",
       "          [ 4.5612402 ,  4.53770447,  4.55577707, ...,  0.        ,\n",
       "            0.        ,  0.        ],\n",
       "          [ 4.53178167,  4.565979  ,  4.5725255 , ...,  0.        ,\n",
       "            0.        ,  0.        ],\n",
       "          ...,\n",
       "          [ 0.        ,  0.        ,  0.        , ...,  0.        ,\n",
       "            0.        ,  0.        ],\n",
       "          [ 0.        ,  0.        ,  0.        , ...,  0.        ,\n",
       "            0.        ,  0.        ],\n",
       "          [ 0.        ,  0.        ,  0.        , ...,  0.        ,\n",
       "            0.        ,  0.        ]],\n",
       " \n",
       "         [[ 0.        ,  0.27000001,  0.38      , ...,  0.        ,\n",
       "            0.        ,  0.        ],\n",
       "          [ 0.28999999,  0.28999999,  0.25999999, ...,  0.        ,\n",
       "            0.        ,  0.        ],\n",
       "          [ 0.38      ,  0.44999999,  0.2       , ...,  0.        ,\n",
       "            0.        ,  0.        ],\n",
       "          ...,\n",
       "          [ 0.        ,  0.        ,  0.        , ...,  0.        ,\n",
       "            0.        ,  0.        ],\n",
       "          [ 0.        ,  0.        ,  0.        , ...,  0.        ,\n",
       "            0.        ,  0.        ],\n",
       "          [ 0.        ,  0.        ,  0.        , ...,  0.        ,\n",
       "            0.        ,  0.        ]]],\n",
       " \n",
       " \n",
       "        [[[ 0.        ,  0.        , 26.81181145, ...,  0.        ,\n",
       "            0.        ,  0.        ],\n",
       "          [ 0.        , 26.71532631, 26.76690674, ...,  0.        ,\n",
       "            0.        ,  0.        ],\n",
       "          [ 0.        , 26.686203  , 26.87353706, ...,  0.        ,\n",
       "            0.        ,  0.        ],\n",
       "          ...,\n",
       "          [ 0.        ,  0.        ,  0.        , ...,  0.        ,\n",
       "            0.        ,  0.        ],\n",
       "          [ 0.        ,  0.        ,  0.        , ...,  0.        ,\n",
       "            0.        ,  0.        ],\n",
       "          [ 0.        ,  0.        ,  0.        , ...,  0.        ,\n",
       "            0.        ,  0.        ]],\n",
       " \n",
       "         [[ 0.        ,  0.        , -0.76382947, ...,  0.        ,\n",
       "            0.        ,  0.        ],\n",
       "          [ 0.        , -0.67643523, -0.76671767, ...,  0.        ,\n",
       "            0.        ,  0.        ],\n",
       "          [ 0.        , -0.68035793, -0.82066613, ...,  0.        ,\n",
       "            0.        ,  0.        ],\n",
       "          ...,\n",
       "          [ 0.        ,  0.        ,  0.        , ...,  0.        ,\n",
       "            0.        ,  0.        ],\n",
       "          [ 0.        ,  0.        ,  0.        , ...,  0.        ,\n",
       "            0.        ,  0.        ],\n",
       "          [ 0.        ,  0.        ,  0.        , ...,  0.        ,\n",
       "            0.        ,  0.        ]],\n",
       " \n",
       "         [[ 0.        ,  0.        ,  1.10881829, ...,  0.        ,\n",
       "            0.        ,  0.        ],\n",
       "          [ 0.        ,  1.10496163,  0.93719256, ...,  0.        ,\n",
       "            0.        ,  0.        ],\n",
       "          [ 0.        ,  0.93430001,  0.81281209, ...,  0.        ,\n",
       "            0.        ,  0.        ],\n",
       "          ...,\n",
       "          [ 0.        ,  0.        ,  0.        , ...,  0.        ,\n",
       "            0.        ,  0.        ],\n",
       "          [ 0.        ,  0.        ,  0.        , ...,  0.        ,\n",
       "            0.        ,  0.        ],\n",
       "          [ 0.        ,  0.        ,  0.        , ...,  0.        ,\n",
       "            0.        ,  0.        ]],\n",
       " \n",
       "         [[ 0.        ,  0.        ,  5.29642963, ...,  0.        ,\n",
       "            0.        ,  0.        ],\n",
       "          [ 0.        ,  5.28628683,  5.25891781, ...,  0.        ,\n",
       "            0.        ,  0.        ],\n",
       "          [ 0.        ,  5.25050402,  5.24849796, ...,  0.        ,\n",
       "            0.        ,  0.        ],\n",
       "          ...,\n",
       "          [ 0.        ,  0.        ,  0.        , ...,  0.        ,\n",
       "            0.        ,  0.        ],\n",
       "          [ 0.        ,  0.        ,  0.        , ...,  0.        ,\n",
       "            0.        ,  0.        ],\n",
       "          [ 0.        ,  0.        ,  0.        , ...,  0.        ,\n",
       "            0.        ,  0.        ]],\n",
       " \n",
       "         [[ 0.        ,  0.        ,  0.37      , ...,  0.        ,\n",
       "            0.        ,  0.        ],\n",
       "          [ 0.        ,  0.31      ,  0.31999999, ...,  0.        ,\n",
       "            0.        ,  0.        ],\n",
       "          [ 0.        ,  0.34      ,  0.28999999, ...,  0.        ,\n",
       "            0.        ,  0.        ],\n",
       "          ...,\n",
       "          [ 0.        ,  0.        ,  0.        , ...,  0.        ,\n",
       "            0.        ,  0.        ],\n",
       "          [ 0.        ,  0.        ,  0.        , ...,  0.        ,\n",
       "            0.        ,  0.        ],\n",
       "          [ 0.        ,  0.        ,  0.        , ...,  0.        ,\n",
       "            0.        ,  0.        ]]],\n",
       " \n",
       " \n",
       "        [[[ 0.        ,  0.        , 68.62198639, ...,  0.        ,\n",
       "            0.        ,  0.        ],\n",
       "          [ 0.        , 68.46969604, 68.75547028, ...,  0.        ,\n",
       "            0.        ,  0.        ],\n",
       "          [66.88279724,  0.        , 67.8531189 , ...,  0.        ,\n",
       "            0.        ,  0.        ],\n",
       "          ...,\n",
       "          [ 0.        ,  0.        ,  0.        , ...,  0.        ,\n",
       "            0.        ,  0.        ],\n",
       "          [ 0.        ,  0.        ,  0.        , ...,  0.        ,\n",
       "            0.        ,  0.        ],\n",
       "          [ 0.        ,  0.        ,  0.        , ...,  0.        ,\n",
       "            0.        ,  0.        ]],\n",
       " \n",
       "         [[ 0.        ,  0.        , 28.80712318, ...,  0.        ,\n",
       "            0.        ,  0.        ],\n",
       "          [ 0.        , 28.8888588 , 28.75486755, ...,  0.        ,\n",
       "            0.        ,  0.        ],\n",
       "          [28.46796608,  0.        , 28.44479942, ...,  0.        ,\n",
       "            0.        ,  0.        ],\n",
       "          ...,\n",
       "          [ 0.        ,  0.        ,  0.        , ...,  0.        ,\n",
       "            0.        ,  0.        ],\n",
       "          [ 0.        ,  0.        ,  0.        , ...,  0.        ,\n",
       "            0.        ,  0.        ],\n",
       "          [ 0.        ,  0.        ,  0.        , ...,  0.        ,\n",
       "            0.        ,  0.        ]],\n",
       " \n",
       "         [[ 0.        ,  0.        ,  2.72268915, ...,  0.        ,\n",
       "            0.        ,  0.        ],\n",
       "          [ 0.        ,  2.24754906,  2.25346375, ...,  0.        ,\n",
       "            0.        ,  0.        ],\n",
       "          [ 2.20318961,  0.        ,  1.88084376, ...,  0.        ,\n",
       "            0.        ,  0.        ],\n",
       "          ...,\n",
       "          [ 0.        ,  0.        ,  0.        , ...,  0.        ,\n",
       "            0.        ,  0.        ],\n",
       "          [ 0.        ,  0.        ,  0.        , ...,  0.        ,\n",
       "            0.        ,  0.        ],\n",
       "          [ 0.        ,  0.        ,  0.        , ...,  0.        ,\n",
       "            0.        ,  0.        ]],\n",
       " \n",
       "         [[ 0.        ,  0.        ,  9.0463438 , ...,  0.        ,\n",
       "            0.        ,  0.        ],\n",
       "          [ 0.        ,  8.90876579,  8.92212486, ...,  0.        ,\n",
       "            0.        ,  0.        ],\n",
       "          [ 8.80587006,  0.        ,  8.78132725, ...,  0.        ,\n",
       "            0.        ,  0.        ],\n",
       "          ...,\n",
       "          [ 0.        ,  0.        ,  0.        , ...,  0.        ,\n",
       "            0.        ,  0.        ],\n",
       "          [ 0.        ,  0.        ,  0.        , ...,  0.        ,\n",
       "            0.        ,  0.        ],\n",
       "          [ 0.        ,  0.        ,  0.        , ...,  0.        ,\n",
       "            0.        ,  0.        ]],\n",
       " \n",
       "         [[ 0.        ,  0.        ,  0.        , ...,  0.        ,\n",
       "            0.        ,  0.        ],\n",
       "          [ 0.        ,  0.        ,  0.        , ...,  0.        ,\n",
       "            0.        ,  0.        ],\n",
       "          [ 0.        ,  0.        ,  0.        , ...,  0.        ,\n",
       "            0.        ,  0.        ],\n",
       "          ...,\n",
       "          [ 0.        ,  0.        ,  0.        , ...,  0.        ,\n",
       "            0.        ,  0.        ],\n",
       "          [ 0.        ,  0.        ,  0.        , ...,  0.        ,\n",
       "            0.        ,  0.        ],\n",
       "          [ 0.        ,  0.        ,  0.        , ...,  0.        ,\n",
       "            0.        ,  0.        ]]],\n",
       " \n",
       " \n",
       "        [[[ 0.        ,  0.        , 23.96537209, ...,  0.        ,\n",
       "            0.        ,  0.        ],\n",
       "          [ 0.        , 23.78742599, 20.62261772, ...,  0.        ,\n",
       "            0.        ,  0.        ],\n",
       "          [23.7197094 , 20.65880203, 20.64650726, ...,  0.        ,\n",
       "            0.        ,  0.        ],\n",
       "          ...,\n",
       "          [ 0.        ,  0.        ,  0.        , ...,  0.        ,\n",
       "            0.        ,  0.        ],\n",
       "          [ 0.        ,  0.        ,  0.        , ...,  0.        ,\n",
       "            0.        ,  0.        ],\n",
       "          [ 0.        ,  0.        ,  0.        , ...,  0.        ,\n",
       "            0.        ,  0.        ]],\n",
       " \n",
       "         [[ 0.        ,  0.        , 17.65592194, ...,  0.        ,\n",
       "            0.        ,  0.        ],\n",
       "          [ 0.        , 17.63024712, 15.18873024, ...,  0.        ,\n",
       "            0.        ,  0.        ],\n",
       "          [17.69554138, 15.25015259, 15.19035912, ...,  0.        ,\n",
       "            0.        ,  0.        ],\n",
       "          ...,\n",
       "          [ 0.        ,  0.        ,  0.        , ...,  0.        ,\n",
       "            0.        ,  0.        ],\n",
       "          [ 0.        ,  0.        ,  0.        , ...,  0.        ,\n",
       "            0.        ,  0.        ],\n",
       "          [ 0.        ,  0.        ,  0.        , ...,  0.        ,\n",
       "            0.        ,  0.        ]],\n",
       " \n",
       "         [[ 0.        ,  0.        ,  1.21375608, ...,  0.        ,\n",
       "            0.        ,  0.        ],\n",
       "          [ 0.        ,  1.01971352,  0.90982217, ...,  0.        ,\n",
       "            0.        ,  0.        ],\n",
       "          [ 1.01971352,  0.79102057,  0.79003048, ...,  0.        ,\n",
       "            0.        ,  0.        ],\n",
       "          ...,\n",
       "          [ 0.        ,  0.        ,  0.        , ...,  0.        ,\n",
       "            0.        ,  0.        ],\n",
       "          [ 0.        ,  0.        ,  0.        , ...,  0.        ,\n",
       "            0.        ,  0.        ],\n",
       "          [ 0.        ,  0.        ,  0.        , ...,  0.        ,\n",
       "            0.        ,  0.        ]],\n",
       " \n",
       "         [[ 0.        ,  0.        ,  5.58928823, ...,  0.        ,\n",
       "            0.        ,  0.        ],\n",
       "          [ 0.        ,  5.536098  ,  5.14199114, ...,  0.        ,\n",
       "            0.        ,  0.        ],\n",
       "          [ 5.53470898,  5.12870264,  5.12412453, ...,  0.        ,\n",
       "            0.        ,  0.        ],\n",
       "          ...,\n",
       "          [ 0.        ,  0.        ,  0.        , ...,  0.        ,\n",
       "            0.        ,  0.        ],\n",
       "          [ 0.        ,  0.        ,  0.        , ...,  0.        ,\n",
       "            0.        ,  0.        ],\n",
       "          [ 0.        ,  0.        ,  0.        , ...,  0.        ,\n",
       "            0.        ,  0.        ]],\n",
       " \n",
       "         [[ 0.        ,  0.        ,  0.23      , ...,  0.        ,\n",
       "            0.        ,  0.        ],\n",
       "          [ 0.        ,  0.34999999,  0.14      , ...,  0.        ,\n",
       "            0.        ,  0.        ],\n",
       "          [ 0.40000001,  0.34      ,  0.34      , ...,  0.        ,\n",
       "            0.        ,  0.        ],\n",
       "          ...,\n",
       "          [ 0.        ,  0.        ,  0.        , ...,  0.        ,\n",
       "            0.        ,  0.        ],\n",
       "          [ 0.        ,  0.        ,  0.        , ...,  0.        ,\n",
       "            0.        ,  0.        ],\n",
       "          [ 0.        ,  0.        ,  0.        , ...,  0.        ,\n",
       "            0.        ,  0.        ]]]]),\n",
       " 'calib': {'rect': array([[[ 0.9999239 ,  0.00983776, -0.00744505,  0.        ],\n",
       "          [-0.0098698 ,  0.9999421 , -0.00427846,  0.        ],\n",
       "          [ 0.00740253,  0.00435161,  0.9999631 ,  0.        ],\n",
       "          [ 0.        ,  0.        ,  0.        ,  1.        ]],\n",
       "  \n",
       "         [[ 0.9999239 ,  0.00983776, -0.00744505,  0.        ],\n",
       "          [-0.0098698 ,  0.9999421 , -0.00427846,  0.        ],\n",
       "          [ 0.00740253,  0.00435161,  0.9999631 ,  0.        ],\n",
       "          [ 0.        ,  0.        ,  0.        ,  1.        ]],\n",
       "  \n",
       "         [[ 0.9999239 ,  0.00983776, -0.00744505,  0.        ],\n",
       "          [-0.0098698 ,  0.9999421 , -0.00427846,  0.        ],\n",
       "          [ 0.00740253,  0.00435161,  0.9999631 ,  0.        ],\n",
       "          [ 0.        ,  0.        ,  0.        ,  1.        ]],\n",
       "  \n",
       "         [[ 0.9999239 ,  0.00983776, -0.00744505,  0.        ],\n",
       "          [-0.0098698 ,  0.9999421 , -0.00427846,  0.        ],\n",
       "          [ 0.00740253,  0.00435161,  0.9999631 ,  0.        ],\n",
       "          [ 0.        ,  0.        ,  0.        ,  1.        ]]]),\n",
       "  'Trv2c': array([[[ 7.533745e-03, -9.999714e-01, -6.166020e-04, -4.069766e-03],\n",
       "          [ 1.480249e-02,  7.280733e-04, -9.998902e-01, -7.631618e-02],\n",
       "          [ 9.998621e-01,  7.523790e-03,  1.480755e-02, -2.717806e-01],\n",
       "          [ 0.000000e+00,  0.000000e+00,  0.000000e+00,  1.000000e+00]],\n",
       "  \n",
       "         [[ 7.533745e-03, -9.999714e-01, -6.166020e-04, -4.069766e-03],\n",
       "          [ 1.480249e-02,  7.280733e-04, -9.998902e-01, -7.631618e-02],\n",
       "          [ 9.998621e-01,  7.523790e-03,  1.480755e-02, -2.717806e-01],\n",
       "          [ 0.000000e+00,  0.000000e+00,  0.000000e+00,  1.000000e+00]],\n",
       "  \n",
       "         [[ 7.533745e-03, -9.999714e-01, -6.166020e-04, -4.069766e-03],\n",
       "          [ 1.480249e-02,  7.280733e-04, -9.998902e-01, -7.631618e-02],\n",
       "          [ 9.998621e-01,  7.523790e-03,  1.480755e-02, -2.717806e-01],\n",
       "          [ 0.000000e+00,  0.000000e+00,  0.000000e+00,  1.000000e+00]],\n",
       "  \n",
       "         [[ 7.533745e-03, -9.999714e-01, -6.166020e-04, -4.069766e-03],\n",
       "          [ 1.480249e-02,  7.280733e-04, -9.998902e-01, -7.631618e-02],\n",
       "          [ 9.998621e-01,  7.523790e-03,  1.480755e-02, -2.717806e-01],\n",
       "          [ 0.000000e+00,  0.000000e+00,  0.000000e+00,  1.000000e+00]]]),\n",
       "  'P2': array([[[7.215377e+02, 0.000000e+00, 6.095593e+02, 4.485728e+01],\n",
       "          [0.000000e+00, 7.215377e+02, 1.728540e+02, 2.163791e-01],\n",
       "          [0.000000e+00, 0.000000e+00, 1.000000e+00, 2.745884e-03],\n",
       "          [0.000000e+00, 0.000000e+00, 0.000000e+00, 1.000000e+00]],\n",
       "  \n",
       "         [[7.215377e+02, 0.000000e+00, 6.095593e+02, 4.485728e+01],\n",
       "          [0.000000e+00, 7.215377e+02, 1.728540e+02, 2.163791e-01],\n",
       "          [0.000000e+00, 0.000000e+00, 1.000000e+00, 2.745884e-03],\n",
       "          [0.000000e+00, 0.000000e+00, 0.000000e+00, 1.000000e+00]],\n",
       "  \n",
       "         [[7.215377e+02, 0.000000e+00, 6.095593e+02, 4.485728e+01],\n",
       "          [0.000000e+00, 7.215377e+02, 1.728540e+02, 2.163791e-01],\n",
       "          [0.000000e+00, 0.000000e+00, 1.000000e+00, 2.745884e-03],\n",
       "          [0.000000e+00, 0.000000e+00, 0.000000e+00, 1.000000e+00]],\n",
       "  \n",
       "         [[7.215377e+02, 0.000000e+00, 6.095593e+02, 4.485728e+01],\n",
       "          [0.000000e+00, 7.215377e+02, 1.728540e+02, 2.163791e-01],\n",
       "          [0.000000e+00, 0.000000e+00, 1.000000e+00, 2.745884e-03],\n",
       "          [0.000000e+00, 0.000000e+00, 0.000000e+00, 1.000000e+00]]])},\n",
       " 'anchors': array([[[  0.       , -40.       ,  -1.       , ...,   3.9      ,\n",
       "            1.56     ,   0.       ],\n",
       "         [  0.5543307, -40.       ,  -1.       , ...,   3.9      ,\n",
       "            1.56     ,   0.       ],\n",
       "         [  1.1086614, -40.       ,  -1.       , ...,   3.9      ,\n",
       "            1.56     ,   0.       ],\n",
       "         ...,\n",
       "         [ 69.29134  ,  40.       ,  -1.       , ...,   3.9      ,\n",
       "            1.56     ,   1.57     ],\n",
       "         [ 69.84567  ,  40.       ,  -1.       , ...,   3.9      ,\n",
       "            1.56     ,   1.57     ],\n",
       "         [ 70.4      ,  40.       ,  -1.       , ...,   3.9      ,\n",
       "            1.56     ,   1.57     ]],\n",
       " \n",
       "        [[  0.       , -40.       ,  -1.       , ...,   3.9      ,\n",
       "            1.56     ,   0.       ],\n",
       "         [  0.5543307, -40.       ,  -1.       , ...,   3.9      ,\n",
       "            1.56     ,   0.       ],\n",
       "         [  1.1086614, -40.       ,  -1.       , ...,   3.9      ,\n",
       "            1.56     ,   0.       ],\n",
       "         ...,\n",
       "         [ 69.29134  ,  40.       ,  -1.       , ...,   3.9      ,\n",
       "            1.56     ,   1.57     ],\n",
       "         [ 69.84567  ,  40.       ,  -1.       , ...,   3.9      ,\n",
       "            1.56     ,   1.57     ],\n",
       "         [ 70.4      ,  40.       ,  -1.       , ...,   3.9      ,\n",
       "            1.56     ,   1.57     ]],\n",
       " \n",
       "        [[  0.       , -40.       ,  -1.       , ...,   3.9      ,\n",
       "            1.56     ,   0.       ],\n",
       "         [  0.5543307, -40.       ,  -1.       , ...,   3.9      ,\n",
       "            1.56     ,   0.       ],\n",
       "         [  1.1086614, -40.       ,  -1.       , ...,   3.9      ,\n",
       "            1.56     ,   0.       ],\n",
       "         ...,\n",
       "         [ 69.29134  ,  40.       ,  -1.       , ...,   3.9      ,\n",
       "            1.56     ,   1.57     ],\n",
       "         [ 69.84567  ,  40.       ,  -1.       , ...,   3.9      ,\n",
       "            1.56     ,   1.57     ],\n",
       "         [ 70.4      ,  40.       ,  -1.       , ...,   3.9      ,\n",
       "            1.56     ,   1.57     ]],\n",
       " \n",
       "        [[  0.       , -40.       ,  -1.       , ...,   3.9      ,\n",
       "            1.56     ,   0.       ],\n",
       "         [  0.5543307, -40.       ,  -1.       , ...,   3.9      ,\n",
       "            1.56     ,   0.       ],\n",
       "         [  1.1086614, -40.       ,  -1.       , ...,   3.9      ,\n",
       "            1.56     ,   0.       ],\n",
       "         ...,\n",
       "         [ 69.29134  ,  40.       ,  -1.       , ...,   3.9      ,\n",
       "            1.56     ,   1.57     ],\n",
       "         [ 69.84567  ,  40.       ,  -1.       , ...,   3.9      ,\n",
       "            1.56     ,   1.57     ],\n",
       "         [ 70.4      ,  40.       ,  -1.       , ...,   3.9      ,\n",
       "            1.56     ,   1.57     ]]], dtype=float32),\n",
       " 'gt_names': array(['Car', 'Car', 'Car', 'Car', 'Car'], dtype='<U8'),\n",
       " 'labels': array([[0, 0, 0, ..., 0, 0, 0],\n",
       "        [0, 0, 0, ..., 0, 0, 0],\n",
       "        [0, 0, 0, ..., 0, 0, 0],\n",
       "        [0, 0, 0, ..., 0, 0, 0]], dtype=int32),\n",
       " 'reg_targets': array([[[0., 0., 0., ..., 0., 0., 0.],\n",
       "         [0., 0., 0., ..., 0., 0., 0.],\n",
       "         [0., 0., 0., ..., 0., 0., 0.],\n",
       "         ...,\n",
       "         [0., 0., 0., ..., 0., 0., 0.],\n",
       "         [0., 0., 0., ..., 0., 0., 0.],\n",
       "         [0., 0., 0., ..., 0., 0., 0.]],\n",
       " \n",
       "        [[0., 0., 0., ..., 0., 0., 0.],\n",
       "         [0., 0., 0., ..., 0., 0., 0.],\n",
       "         [0., 0., 0., ..., 0., 0., 0.],\n",
       "         ...,\n",
       "         [0., 0., 0., ..., 0., 0., 0.],\n",
       "         [0., 0., 0., ..., 0., 0., 0.],\n",
       "         [0., 0., 0., ..., 0., 0., 0.]],\n",
       " \n",
       "        [[0., 0., 0., ..., 0., 0., 0.],\n",
       "         [0., 0., 0., ..., 0., 0., 0.],\n",
       "         [0., 0., 0., ..., 0., 0., 0.],\n",
       "         ...,\n",
       "         [0., 0., 0., ..., 0., 0., 0.],\n",
       "         [0., 0., 0., ..., 0., 0., 0.],\n",
       "         [0., 0., 0., ..., 0., 0., 0.]],\n",
       " \n",
       "        [[0., 0., 0., ..., 0., 0., 0.],\n",
       "         [0., 0., 0., ..., 0., 0., 0.],\n",
       "         [0., 0., 0., ..., 0., 0., 0.],\n",
       "         ...,\n",
       "         [0., 0., 0., ..., 0., 0., 0.],\n",
       "         [0., 0., 0., ..., 0., 0., 0.],\n",
       "         [0., 0., 0., ..., 0., 0., 0.]]], dtype=float32),\n",
       " 'importance': array([[1., 1., 1., ..., 1., 1., 1.],\n",
       "        [1., 1., 1., ..., 1., 1., 1.],\n",
       "        [1., 1., 1., ..., 1., 1., 1.],\n",
       "        [1., 1., 1., ..., 1., 1., 1.]], dtype=float32),\n",
       " 'metadata': [{'image_idx': 7285,\n",
       "   'image_shape': array([ 375, 1242], dtype=int32)},\n",
       "  {'image_idx': 6197, 'image_shape': array([ 375, 1242], dtype=int32)},\n",
       "  {'image_idx': 3070, 'image_shape': array([ 375, 1242], dtype=int32)},\n",
       "  {'image_idx': 2444, 'image_shape': array([ 375, 1242], dtype=int32)}]}"
      ]
     },
     "execution_count": 13,
     "metadata": {},
     "output_type": "execute_result"
    }
   ],
   "source": [
    "examples[3]"
   ]
  },
  {
   "cell_type": "code",
   "execution_count": 14,
   "metadata": {},
   "outputs": [
    {
     "data": {
      "text/plain": [
       "(4, 5, 64, 512)"
      ]
     },
     "execution_count": 14,
     "metadata": {},
     "output_type": "execute_result"
    }
   ],
   "source": [
    "examples[3][\"feature\"].shape\n",
    "# B, C, H, W"
   ]
  },
  {
   "cell_type": "code",
   "execution_count": 15,
   "metadata": {},
   "outputs": [],
   "source": [
    "from second.test_kitti import depth_to_3D, init_depth_from_feature"
   ]
  },
  {
   "cell_type": "code",
   "execution_count": 26,
   "metadata": {},
   "outputs": [],
   "source": [
    "depths = []\n",
    "for ex in examples:\n",
    "    feature_np = ex[\"feature\"]\n",
    "    feature = torch.tensor(feature_np)\n",
    "    depth = init_depth_from_feature(feature, 128)\n",
    "    depths.append(depth)"
   ]
  },
  {
   "cell_type": "code",
   "execution_count": 27,
   "metadata": {},
   "outputs": [
    {
     "data": {
      "text/plain": [
       "torch.Size([4, 64, 512])"
      ]
     },
     "execution_count": 27,
     "metadata": {},
     "output_type": "execute_result"
    }
   ],
   "source": [
    "depths[0].shape"
   ]
  },
  {
   "cell_type": "code",
   "execution_count": null,
   "metadata": {},
   "outputs": [],
   "source": []
  },
  {
   "cell_type": "code",
   "execution_count": 28,
   "metadata": {},
   "outputs": [],
   "source": [
    "import numpy as np\n",
    "import matplotlib.pyplot as plt\n",
    "from PIL import Image\n",
    "def plot_depth(depth):\n",
    "    \"\"\"\n",
    "    depth: int tensor of shape(H, W)\n",
    "    \"\"\"\n",
    "    H, W = depth.shape\n",
    "    arr = np.asarray(depth)\n",
    "    plt.imshow(arr, cmap='gray', vmin=0, vmax=255)\n",
    "    plt.show()\n",
    "    "
   ]
  },
  {
   "cell_type": "code",
   "execution_count": 29,
   "metadata": {},
   "outputs": [
    {
     "data": {
      "image/png": "[encoded data removed]",
      "text/plain": [
       "<Figure size 432x288 with 1 Axes>"
      ]
     },
     "metadata": {
      "needs_background": "light"
     },
     "output_type": "display_data"
    }
   ],
   "source": [
    "plot_depth(depths[0][0])"
   ]
  },
  {
   "cell_type": "code",
   "execution_count": 30,
   "metadata": {},
   "outputs": [
    {
     "data": {
      "image/png": "[encoded data removed]",
      "text/plain": [
       "<Figure size 432x288 with 1 Axes>"
      ]
     },
     "metadata": {
      "needs_background": "light"
     },
     "output_type": "display_data"
    },
    {
     "data": {
      "image/png": "[encoded data removed]",
      "text/plain": [
       "<Figure size 432x288 with 1 Axes>"
      ]
     },
     "metadata": {
      "needs_background": "light"
     },
     "output_type": "display_data"
    },
    {
     "data": {
      "image/png": "[encoded data removed]",
      "text/plain": [
       "<Figure size 432x288 with 1 Axes>"
      ]
     },
     "metadata": {
      "needs_background": "light"
     },
     "output_type": "display_data"
    },
    {
     "data": {
      "image/png": "[encoded data removed]",
      "text/plain": [
       "<Figure size 432x288 with 1 Axes>"
      ]
     },
     "metadata": {
      "needs_background": "light"
     },
     "output_type": "display_data"
    },
    {
     "data": {
      "image/png": "[encoded data removed]",
      "text/plain": [
       "<Figure size 432x288 with 1 Axes>"
      ]
     },
     "metadata": {
      "needs_background": "light"
     },
     "output_type": "display_data"
    },
    {
     "data": {
      "image/png": "[encoded data removed]",
      "text/plain": [
       "<Figure size 432x288 with 1 Axes>"
      ]
     },
     "metadata": {
      "needs_background": "light"
     },
     "output_type": "display_data"
    },
    {
     "data": {
      "image/png": "[encoded data removed]",
      "text/plain": [
       "<Figure size 432x288 with 1 Axes>"
      ]
     },
     "metadata": {
      "needs_background": "light"
     },
     "output_type": "display_data"
    },
    {
     "data": {
      "image/png": "[encoded data removed]",
      "text/plain": [
       "<Figure size 432x288 with 1 Axes>"
      ]
     },
     "metadata": {
      "needs_background": "light"
     },
     "output_type": "display_data"
    },
    {
     "data": {
      "image/png": "[encoded data removed]",
      "text/plain": [
       "<Figure size 432x288 with 1 Axes>"
      ]
     },
     "metadata": {
      "needs_background": "light"
     },
     "output_type": "display_data"
    },
    {
     "data": {
      "image/png": "[encoded data removed]",
      "text/plain": [
       "<Figure size 432x288 with 1 Axes>"
      ]
     },
     "metadata": {
      "needs_background": "light"
     },
     "output_type": "display_data"
    }
   ],
   "source": [
    "for d in depths:\n",
    "    plot_depth(d[2])"
   ]
  },
  {
   "cell_type": "code",
   "execution_count": 31,
   "metadata": {},
   "outputs": [
    {
     "data": {
      "image/png": "[encoded data removed]",
      "text/plain": [
       "<Figure size 432x288 with 1 Axes>"
      ]
     },
     "metadata": {
      "needs_background": "light"
     },
     "output_type": "display_data"
    },
    {
     "data": {
      "image/png": "[encoded data removed]",
      "text/plain": [
       "<Figure size 432x288 with 1 Axes>"
      ]
     },
     "metadata": {
      "needs_background": "light"
     },
     "output_type": "display_data"
    },
    {
     "data": {
      "image/png": "[encoded data removed]",
      "text/plain": [
       "<Figure size 432x288 with 1 Axes>"
      ]
     },
     "metadata": {
      "needs_background": "light"
     },
     "output_type": "display_data"
    },
    {
     "data": {
      "image/png": "[encoded data removed]",
      "text/plain": [
       "<Figure size 432x288 with 1 Axes>"
      ]
     },
     "metadata": {
      "needs_background": "light"
     },
     "output_type": "display_data"
    },
    {
     "data": {
      "image/png": "[encoded data removed]",
      "text/plain": [
       "<Figure size 432x288 with 1 Axes>"
      ]
     },
     "metadata": {
      "needs_background": "light"
     },
     "output_type": "display_data"
    },
    {
     "data": {
      "image/png": "[encoded data removed]",
      "text/plain": [
       "<Figure size 432x288 with 1 Axes>"
      ]
     },
     "metadata": {
      "needs_background": "light"
     },
     "output_type": "display_data"
    },
    {
     "data": {
      "image/png": "[encoded data removed]",
      "text/plain": [
       "<Figure size 432x288 with 1 Axes>"
      ]
     },
     "metadata": {
      "needs_background": "light"
     },
     "output_type": "display_data"
    },
    {
     "data": {
      "image/png": "[encoded data removed]",
      "text/plain": [
       "<Figure size 432x288 with 1 Axes>"
      ]
     },
     "metadata": {
      "needs_background": "light"
     },
     "output_type": "display_data"
    },
    {
     "data": {
      "image/png": "[encoded data removed]",
      "text/plain": [
       "<Figure size 432x288 with 1 Axes>"
      ]
     },
     "metadata": {
      "needs_background": "light"
     },
     "output_type": "display_data"
    },
    {
     "data": {
      "image/png": "[encoded data removed]",
      "text/plain": [
       "<Figure size 432x288 with 1 Axes>"
      ]
     },
     "metadata": {
      "needs_background": "light"
     },
     "output_type": "display_data"
    }
   ],
   "source": [
    "import torch.nn.functional as F\n",
    "for d in depths:\n",
    "    d_ = d\n",
    "    d_small = F.max_pool2d(d_.float(), 3, padding=1, stride=(1,2)).long()\n",
    "    plot_depth(d_small[2])"
   ]
  },
  {
   "cell_type": "code",
   "execution_count": 32,
   "metadata": {},
   "outputs": [
    {
     "data": {
      "image/png": "[encoded data removed]",
      "text/plain": [
       "<Figure size 432x288 with 1 Axes>"
      ]
     },
     "metadata": {
      "needs_background": "light"
     },
     "output_type": "display_data"
    },
    {
     "data": {
      "image/png": "[encoded data removed]",
      "text/plain": [
       "<Figure size 432x288 with 1 Axes>"
      ]
     },
     "metadata": {
      "needs_background": "light"
     },
     "output_type": "display_data"
    },
    {
     "data": {
      "image/png": "[encoded data removed]",
      "text/plain": [
       "<Figure size 432x288 with 1 Axes>"
      ]
     },
     "metadata": {
      "needs_background": "light"
     },
     "output_type": "display_data"
    },
    {
     "data": {
      "image/png": "[encoded data removed]",
      "text/plain": [
       "<Figure size 432x288 with 1 Axes>"
      ]
     },
     "metadata": {
      "needs_background": "light"
     },
     "output_type": "display_data"
    },
    {
     "data": {
      "image/png": "[encoded data removed]",
      "text/plain": [
       "<Figure size 432x288 with 1 Axes>"
      ]
     },
     "metadata": {
      "needs_background": "light"
     },
     "output_type": "display_data"
    },
    {
     "data": {
      "image/png": "[encoded data removed]",
      "text/plain": [
       "<Figure size 432x288 with 1 Axes>"
      ]
     },
     "metadata": {
      "needs_background": "light"
     },
     "output_type": "display_data"
    },
    {
     "data": {
      "image/png": "[encoded data removed]",
      "text/plain": [
       "<Figure size 432x288 with 1 Axes>"
      ]
     },
     "metadata": {
      "needs_background": "light"
     },
     "output_type": "display_data"
    },
    {
     "data": {
      "image/png": "[encoded data removed]",
      "text/plain": [
       "<Figure size 432x288 with 1 Axes>"
      ]
     },
     "metadata": {
      "needs_background": "light"
     },
     "output_type": "display_data"
    },
    {
     "data": {
      "image/png": "[encoded data removed]",
      "text/plain": [
       "<Figure size 432x288 with 1 Axes>"
      ]
     },
     "metadata": {
      "needs_background": "light"
     },
     "output_type": "display_data"
    },
    {
     "data": {
      "image/png": "[encoded data removed]",
      "text/plain": [
       "<Figure size 432x288 with 1 Axes>"
      ]
     },
     "metadata": {
      "needs_background": "light"
     },
     "output_type": "display_data"
    }
   ],
   "source": [
    "import torch.nn.functional as F\n",
    "for d in depths:\n",
    "    d_ = d\n",
    "    d_small = F.max_pool2d(d_.float(), 3, padding=1, stride=(1,2)).long()\n",
    "    d_small_2 = F.max_pool2d(d_small.float(), 3, padding=1, stride=(1,2)).long()\n",
    "    \n",
    "    plot_depth(d_small_2[2]//2)"
   ]
  },
  {
   "cell_type": "code",
   "execution_count": null,
   "metadata": {},
   "outputs": [],
   "source": []
  },
  {
   "cell_type": "code",
   "execution_count": null,
   "metadata": {},
   "outputs": [],
   "source": []
  },
  {
   "cell_type": "code",
   "execution_count": null,
   "metadata": {},
   "outputs": [],
   "source": []
  },
  {
   "cell_type": "code",
   "execution_count": null,
   "metadata": {},
   "outputs": [],
   "source": []
  }
 ],
 "metadata": {
  "kernelspec": {
   "display_name": "conda depconv",
   "language": "python",
   "name": "depconv"
  },
  "language_info": {
   "codemirror_mode": {
    "name": "ipython",
    "version": 3
   },
   "file_extension": ".py",
   "mimetype": "text/x-python",
   "name": "python",
   "nbconvert_exporter": "python",
   "pygments_lexer": "ipython3",
   "version": "3.6.9"
  }
 },
 "nbformat": 4,
 "nbformat_minor": 2
}
